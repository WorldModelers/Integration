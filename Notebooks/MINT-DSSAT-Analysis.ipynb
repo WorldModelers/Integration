{
 "cells": [
  {
   "cell_type": "markdown",
   "metadata": {},
   "source": [
    "# MINT and DSSAT Analysis"
   ]
  },
  {
   "cell_type": "markdown",
   "metadata": {},
   "source": [
    "Since a complete and working version of DSSAT has been provided to Jataware, it presents a good opportunity to compare the inputs and outputs that are present in the UFL provided version of DSSAT and the metadata existing about DSSAT in the MINT Model and Data Catalogs.\n",
    "\n",
    "This notebook does the following:\n",
    "\n",
    "1. [Gets all models from MINT](#Get-all-Models)\n",
    "2. [Obtain DSSAT model](#Obtain-DSSAT-Model)\n",
    "3. [Get DSSAT input/output files](#Get-DSSAT-Variable-Representations)\n",
    "4. [Get DSSAT variable information](#Get-DSSAT-Variable-Information)\n",
    "5. [Show DSSAT variables per input file](#DSSAT-Inputs-by-File)\n",
    "6. [Show DSSAT variables per output file](#DSSAT-Outputs-by-File)"
   ]
  },
  {
   "cell_type": "markdown",
   "metadata": {},
   "source": [
    "## Get all Models\n",
    "Here we pull all models in the MINT Model catalog using the Garlic endpoint:"
   ]
  },
  {
   "cell_type": "code",
   "execution_count": 101,
   "metadata": {},
   "outputs": [],
   "source": [
    "import pandas as pd"
   ]
  },
  {
   "cell_type": "code",
   "execution_count": 9,
   "metadata": {},
   "outputs": [],
   "source": [
    "import requests\n",
    "\n",
    "params = (\n",
    "    ('endpoint', 'https://endpoint.mint.isi.edu/ds/query'),\n",
    ")\n",
    "\n",
    "response = requests.get('https://query.mint.isi.edu/api/mintproject/MINT-ModelCatalogQueries/getModels', params=params)"
   ]
  },
  {
   "cell_type": "code",
   "execution_count": 17,
   "metadata": {
    "scrolled": false
   },
   "outputs": [],
   "source": [
    "models = response.json()['results']['bindings']"
   ]
  },
  {
   "cell_type": "code",
   "execution_count": 20,
   "metadata": {},
   "outputs": [
    {
     "data": {
      "text/plain": [
       "9"
      ]
     },
     "execution_count": 20,
     "metadata": {},
     "output_type": "execute_result"
    }
   ],
   "source": [
    "len(models)"
   ]
  },
  {
   "cell_type": "code",
   "execution_count": 22,
   "metadata": {
    "scrolled": true
   },
   "outputs": [
    {
     "name": "stdout",
     "output_type": "stream",
     "text": [
      "WGEN\n",
      "Aggregate crop supply response model\n",
      "Kimetrica land use model\n",
      "DSSAT\n",
      "Modflow\n",
      "PIHM\n",
      "TopoFlow\n",
      "Cycles\n",
      "ClimComp\n"
     ]
    }
   ],
   "source": [
    "for m in models:\n",
    "    print(m['label']['value'])"
   ]
  },
  {
   "cell_type": "code",
   "execution_count": 127,
   "metadata": {
    "scrolled": false
   },
   "outputs": [
    {
     "data": {
      "text/plain": [
       "{'categories': {'type': 'literal', 'value': 'Weather'},\n",
       " 'desc': {'type': 'literal',\n",
       "  'value': 'WGEN is a globally applicable weather generator'},\n",
       " 'doc': {'type': 'literal', 'value': 'https://arve-research.github.io/gwgen/'},\n",
       " 'label': {'type': 'literal', 'value': 'WGEN'},\n",
       " 'model': {'type': 'uri', 'value': 'https://w3id.org/mint/instance/WGEN'},\n",
       " 'versions': {'type': 'literal',\n",
       "  'value': 'https://w3id.org/mint/instance/wgen_1.0.1'}}"
      ]
     },
     "execution_count": 127,
     "metadata": {},
     "output_type": "execute_result"
    }
   ],
   "source": [
    "models[0]"
   ]
  },
  {
   "cell_type": "markdown",
   "metadata": {},
   "source": [
    "## Obtain DSSAT Model\n",
    "Next, we filter for just the DSSAT model"
   ]
  },
  {
   "cell_type": "code",
   "execution_count": 23,
   "metadata": {},
   "outputs": [],
   "source": [
    "for m in models:\n",
    "    if m['label']['value'] == 'DSSAT':\n",
    "        dssat = m"
   ]
  },
  {
   "cell_type": "code",
   "execution_count": 24,
   "metadata": {},
   "outputs": [
    {
     "data": {
      "text/plain": [
       "{'categories': {'type': 'literal', 'value': 'Agriculture'},\n",
       " 'desc': {'type': 'literal',\n",
       "  'value': 'The Decision Support System for Agrotechnology Transfer (DSSAT) comprises dynamic crop growth simulation model for over 40 crops. The model simulates growth; development; and yield as a function of the soil-plant-atmosphere dynamics.'},\n",
       " 'doc': {'type': 'literal', 'value': 'https://dssat.net'},\n",
       " 'label': {'type': 'literal', 'value': 'DSSAT'},\n",
       " 'model': {'type': 'uri', 'value': 'https://w3id.org/mint/instance/DSSAT'},\n",
       " 'versions': {'type': 'literal',\n",
       "  'value': 'https://w3id.org/mint/instance/DSSAT_4.7'}}"
      ]
     },
     "execution_count": 24,
     "metadata": {},
     "output_type": "execute_result"
    }
   ],
   "source": [
    "dssat"
   ]
  },
  {
   "cell_type": "code",
   "execution_count": 54,
   "metadata": {},
   "outputs": [],
   "source": [
    "dssat_uri = dssat['model']['value']"
   ]
  },
  {
   "cell_type": "markdown",
   "metadata": {},
   "source": [
    "## Get DSSAT Variable Representations\n",
    "Now we can obtain the variable representations for DSSAT. This includes the input and output files associated with the DSSAT model."
   ]
  },
  {
   "cell_type": "code",
   "execution_count": 55,
   "metadata": {},
   "outputs": [],
   "source": [
    "import requests\n",
    "\n",
    "params = (\n",
    "    ('model', dssat_uri),\n",
    "    ('endpoint', 'https://endpoint.mint.isi.edu/ds/query'),\n",
    ")\n",
    "\n",
    "response = requests.get('https://query.mint.isi.edu/api/mintproject/MINT-ModelCatalogQueries/getVariablePresentationsForModel', params=params)"
   ]
  },
  {
   "cell_type": "code",
   "execution_count": 56,
   "metadata": {},
   "outputs": [],
   "source": [
    "var_rep = response.json()['results']['bindings'][0]"
   ]
  },
  {
   "cell_type": "code",
   "execution_count": 57,
   "metadata": {},
   "outputs": [
    {
     "data": {
      "text/plain": [
       "{'compLoc': {'type': 'literal',\n",
       "  'value': 'https://github.com/KnowledgeCaptureAndDiscovery/MINT-WorkflowDomain/raw/master/WINGSWorkflowComponents/DSSAT_config_simple/DSSAT_config_simple.zip'},\n",
       " 'config': {'type': 'uri',\n",
       "  'value': 'https://w3id.org/mint/instance/DSSAT_cfg_simple'},\n",
       " 'configDesc': {'type': 'literal',\n",
       "  'value': 'DSSAT simple working configuration with explicit outputs'},\n",
       " 'input_files': {'type': 'literal',\n",
       "  'value': 'https://w3id.org/mint/instance/DSSAT_weatherFile, https://w3id.org/mint/instance/DSSAT_simulationFile, https://w3id.org/mint/instance/DSSAT_sol'},\n",
       " 'output_files': {'type': 'literal',\n",
       "  'value': 'https://w3id.org/mint/instance/DSSAT_summary'},\n",
       " 'version': {'type': 'uri',\n",
       "  'value': 'https://w3id.org/mint/instance/DSSAT_4.7'}}"
      ]
     },
     "execution_count": 57,
     "metadata": {},
     "output_type": "execute_result"
    }
   ],
   "source": [
    "var_rep"
   ]
  },
  {
   "cell_type": "markdown",
   "metadata": {},
   "source": [
    "## Get DSSAT Variable Information\n",
    "Here we parse the input and output files and define a function `get_variables` for retrieving the variables associated with each file."
   ]
  },
  {
   "cell_type": "code",
   "execution_count": 79,
   "metadata": {},
   "outputs": [],
   "source": [
    "input_files = var_rep['input_files']['value'].split(', ')"
   ]
  },
  {
   "cell_type": "code",
   "execution_count": 80,
   "metadata": {},
   "outputs": [
    {
     "data": {
      "text/plain": [
       "['https://w3id.org/mint/instance/DSSAT_weatherFile',\n",
       " 'https://w3id.org/mint/instance/DSSAT_simulationFile',\n",
       " 'https://w3id.org/mint/instance/DSSAT_sol']"
      ]
     },
     "execution_count": 80,
     "metadata": {},
     "output_type": "execute_result"
    }
   ],
   "source": [
    "input_files"
   ]
  },
  {
   "cell_type": "code",
   "execution_count": 81,
   "metadata": {},
   "outputs": [],
   "source": [
    "output_files = var_rep['output_files']['value'].split(', ')"
   ]
  },
  {
   "cell_type": "code",
   "execution_count": 82,
   "metadata": {
    "scrolled": true
   },
   "outputs": [
    {
     "data": {
      "text/plain": [
       "['https://w3id.org/mint/instance/DSSAT_summary']"
      ]
     },
     "execution_count": 82,
     "metadata": {},
     "output_type": "execute_result"
    }
   ],
   "source": [
    "output_files"
   ]
  },
  {
   "cell_type": "code",
   "execution_count": 122,
   "metadata": {},
   "outputs": [],
   "source": [
    "def get_variables(file):\n",
    "    print(file)\n",
    "    params = (\n",
    "        ('io', file),\n",
    "        ('endpoint', 'https://endpoint.mint.isi.edu/ds/query'),\n",
    "    )\n",
    "\n",
    "    response = requests.get('https://query.mint.isi.edu/api/mintproject/MINT-ModelCatalogQueries/getI_OVariablesAndUnits', params=params)\n",
    "    variables = response.json()['results']['bindings']\n",
    "\n",
    "    variables_table = []\n",
    "    for v in variables:\n",
    "        e = {'Label': v.get('label',{}).get('value'),\n",
    "             'Long Name': v.get('longName',{}).get('value'),\n",
    "             'Description': v.get('description',{}).get('value'),\n",
    "             'Standard Name': v.get('sn',{}).get('value'),\n",
    "             'Unit': v.get('unit',{}).get('value')}\n",
    "        variables_table.append(e)\n",
    "    df = pd.DataFrame.from_records(variables_table)[['Label','Long Name','Description','Standard Name','Unit']]\n",
    "    return df"
   ]
  },
  {
   "cell_type": "markdown",
   "metadata": {},
   "source": [
    "## DSSAT Inputs by File\n",
    "Now we can show the variables for each input file"
   ]
  },
  {
   "cell_type": "code",
   "execution_count": 114,
   "metadata": {},
   "outputs": [
    {
     "name": "stdout",
     "output_type": "stream",
     "text": [
      "https://w3id.org/mint/instance/DSSAT_weatherFile\n"
     ]
    },
    {
     "data": {
      "text/html": [
       "<div>\n",
       "<style scoped>\n",
       "    .dataframe tbody tr th:only-of-type {\n",
       "        vertical-align: middle;\n",
       "    }\n",
       "\n",
       "    .dataframe tbody tr th {\n",
       "        vertical-align: top;\n",
       "    }\n",
       "\n",
       "    .dataframe thead th {\n",
       "        text-align: right;\n",
       "    }\n",
       "</style>\n",
       "<table border=\"1\" class=\"dataframe\">\n",
       "  <thead>\n",
       "    <tr style=\"text-align: right;\">\n",
       "      <th></th>\n",
       "      <th>Label</th>\n",
       "      <th>Long Name</th>\n",
       "      <th>Description</th>\n",
       "      <th>Standard Name</th>\n",
       "      <th>Unit</th>\n",
       "    </tr>\n",
       "  </thead>\n",
       "  <tbody>\n",
       "    <tr>\n",
       "      <th>0</th>\n",
       "      <td>WSTA</td>\n",
       "      <td>Weather station ID</td>\n",
       "      <td>Weather station identifier to link to site inf...</td>\n",
       "      <td>station~weather__identification_number</td>\n",
       "      <td>None</td>\n",
       "    </tr>\n",
       "    <tr>\n",
       "      <th>1</th>\n",
       "      <td>LAT</td>\n",
       "      <td>Weather station latitude</td>\n",
       "      <td>Latitude of station- degrees decimal with Nort...</td>\n",
       "      <td>station~weather__latitude</td>\n",
       "      <td>decimal degrees</td>\n",
       "    </tr>\n",
       "    <tr>\n",
       "      <th>2</th>\n",
       "      <td>TAV</td>\n",
       "      <td>mean annual temperature</td>\n",
       "      <td>Temperature average for whole year</td>\n",
       "      <td>air__yearly_average_of_temperature</td>\n",
       "      <td>degC</td>\n",
       "    </tr>\n",
       "    <tr>\n",
       "      <th>3</th>\n",
       "      <td>TMIN</td>\n",
       "      <td>minimum air temperature</td>\n",
       "      <td>Temperature of air- minimum</td>\n",
       "      <td>atmosphere_air__daily_minimum_of_temperature</td>\n",
       "      <td>degC</td>\n",
       "    </tr>\n",
       "    <tr>\n",
       "      <th>4</th>\n",
       "      <td>TMAX</td>\n",
       "      <td>maximum air temperature</td>\n",
       "      <td>Temperature of air- maximum</td>\n",
       "      <td>atmosphere_air__daily_maximum_of_temperature</td>\n",
       "      <td>degC</td>\n",
       "    </tr>\n",
       "    <tr>\n",
       "      <th>5</th>\n",
       "      <td>LONG</td>\n",
       "      <td>Weather station longitude</td>\n",
       "      <td>Longitude of station- degrees decimals with Ea...</td>\n",
       "      <td>station~weather__longitude</td>\n",
       "      <td>decimal degrees</td>\n",
       "    </tr>\n",
       "    <tr>\n",
       "      <th>6</th>\n",
       "      <td>SRAD</td>\n",
       "      <td>Solar radiation</td>\n",
       "      <td>Solar radiation</td>\n",
       "      <td>atmosphere_radiation~solar__energy_flux</td>\n",
       "      <td>MJ m-2 d-1</td>\n",
       "    </tr>\n",
       "    <tr>\n",
       "      <th>7</th>\n",
       "      <td>RAIN</td>\n",
       "      <td>precipitation</td>\n",
       "      <td>Rainfall (including moisture in snow) in one day</td>\n",
       "      <td>atmosphere_water__one-day_time_integral_of_pre...</td>\n",
       "      <td>mm day-1</td>\n",
       "    </tr>\n",
       "  </tbody>\n",
       "</table>\n",
       "</div>"
      ],
      "text/plain": [
       "  Label                  Long Name  \\\n",
       "0  WSTA         Weather station ID   \n",
       "1   LAT   Weather station latitude   \n",
       "2   TAV    mean annual temperature   \n",
       "3  TMIN    minimum air temperature   \n",
       "4  TMAX    maximum air temperature   \n",
       "5  LONG  Weather station longitude   \n",
       "6  SRAD            Solar radiation   \n",
       "7  RAIN              precipitation   \n",
       "\n",
       "                                         Description  \\\n",
       "0  Weather station identifier to link to site inf...   \n",
       "1  Latitude of station- degrees decimal with Nort...   \n",
       "2                 Temperature average for whole year   \n",
       "3                        Temperature of air- minimum   \n",
       "4                        Temperature of air- maximum   \n",
       "5  Longitude of station- degrees decimals with Ea...   \n",
       "6                                    Solar radiation   \n",
       "7   Rainfall (including moisture in snow) in one day   \n",
       "\n",
       "                                       Standard Name             Unit  \n",
       "0             station~weather__identification_number             None  \n",
       "1                          station~weather__latitude  decimal degrees  \n",
       "2                 air__yearly_average_of_temperature             degC  \n",
       "3       atmosphere_air__daily_minimum_of_temperature             degC  \n",
       "4       atmosphere_air__daily_maximum_of_temperature             degC  \n",
       "5                         station~weather__longitude  decimal degrees  \n",
       "6            atmosphere_radiation~solar__energy_flux       MJ m-2 d-1  \n",
       "7  atmosphere_water__one-day_time_integral_of_pre...         mm day-1  "
      ]
     },
     "execution_count": 114,
     "metadata": {},
     "output_type": "execute_result"
    }
   ],
   "source": [
    "get_variables(input_files[0])"
   ]
  },
  {
   "cell_type": "code",
   "execution_count": 115,
   "metadata": {},
   "outputs": [
    {
     "name": "stdout",
     "output_type": "stream",
     "text": [
      "https://w3id.org/mint/instance/DSSAT_simulationFile\n"
     ]
    },
    {
     "data": {
      "text/html": [
       "<div>\n",
       "<style scoped>\n",
       "    .dataframe tbody tr th:only-of-type {\n",
       "        vertical-align: middle;\n",
       "    }\n",
       "\n",
       "    .dataframe tbody tr th {\n",
       "        vertical-align: top;\n",
       "    }\n",
       "\n",
       "    .dataframe thead th {\n",
       "        text-align: right;\n",
       "    }\n",
       "</style>\n",
       "<table border=\"1\" class=\"dataframe\">\n",
       "  <thead>\n",
       "    <tr style=\"text-align: right;\">\n",
       "      <th></th>\n",
       "      <th>Label</th>\n",
       "      <th>Long Name</th>\n",
       "      <th>Description</th>\n",
       "      <th>Standard Name</th>\n",
       "      <th>Unit</th>\n",
       "    </tr>\n",
       "  </thead>\n",
       "  <tbody>\n",
       "    <tr>\n",
       "      <th>0</th>\n",
       "      <td>FDATE</td>\n",
       "      <td>fertilization_date</td>\n",
       "      <td>Fertilization date</td>\n",
       "      <td>soil__fertilization_date</td>\n",
       "      <td>date</td>\n",
       "    </tr>\n",
       "    <tr>\n",
       "      <th>1</th>\n",
       "      <td>PPOP</td>\n",
       "      <td>planting density</td>\n",
       "      <td>Plant population at planting</td>\n",
       "      <td>crop__count-per-area_planting_density</td>\n",
       "      <td>number m-2</td>\n",
       "    </tr>\n",
       "    <tr>\n",
       "      <th>2</th>\n",
       "      <td>SNO3</td>\n",
       "      <td>initial nitrate</td>\n",
       "      <td>Initial NO3 conc. as elemental N on dry wt. ba...</td>\n",
       "      <td>soil_nitrate-as-nitrogen~elemental__dry_mass_f...</td>\n",
       "      <td>ppm</td>\n",
       "    </tr>\n",
       "    <tr>\n",
       "      <th>3</th>\n",
       "      <td>FDEP</td>\n",
       "      <td>fertilizer depth</td>\n",
       "      <td>Fertilizer application depth</td>\n",
       "      <td>soil_fertilizer__application_depth</td>\n",
       "      <td>cm</td>\n",
       "    </tr>\n",
       "    <tr>\n",
       "      <th>4</th>\n",
       "      <td>INGENO</td>\n",
       "      <td>cultivar id</td>\n",
       "      <td>Cultivar or line or genotype identifier</td>\n",
       "      <td>cultivar__line-or-genotype_identification_code</td>\n",
       "      <td>code</td>\n",
       "    </tr>\n",
       "    <tr>\n",
       "      <th>5</th>\n",
       "      <td>PLRS</td>\n",
       "      <td>planting row spacing</td>\n",
       "      <td>Row spacing</td>\n",
       "      <td>crop_row__planting_spacing</td>\n",
       "      <td>cm</td>\n",
       "    </tr>\n",
       "    <tr>\n",
       "      <th>6</th>\n",
       "      <td>PDATE</td>\n",
       "      <td>planting date</td>\n",
       "      <td>Planting or sowing date</td>\n",
       "      <td>crop__planting_or_sowing_date</td>\n",
       "      <td>date</td>\n",
       "    </tr>\n",
       "    <tr>\n",
       "      <th>7</th>\n",
       "      <td>PLDP</td>\n",
       "      <td>planting depth</td>\n",
       "      <td>Planting depth</td>\n",
       "      <td>crop__planting_depth</td>\n",
       "      <td>mm</td>\n",
       "    </tr>\n",
       "    <tr>\n",
       "      <th>8</th>\n",
       "      <td>CR</td>\n",
       "      <td>crop id</td>\n",
       "      <td>Crop (or weed) species identifier</td>\n",
       "      <td>crop-or-weed__species_identification_code</td>\n",
       "      <td>code</td>\n",
       "    </tr>\n",
       "    <tr>\n",
       "      <th>9</th>\n",
       "      <td>YCRD</td>\n",
       "      <td>field latitude</td>\n",
       "      <td>Field latitude</td>\n",
       "      <td>field__latitude</td>\n",
       "      <td>decimal degrees</td>\n",
       "    </tr>\n",
       "    <tr>\n",
       "      <th>10</th>\n",
       "      <td>SNH4</td>\n",
       "      <td>initial ammonium</td>\n",
       "      <td>Initial NH4 conc. as elemental N on dry wt. ba...</td>\n",
       "      <td>soil_ammonium-as-nitrogen~elemental__dry_mass_...</td>\n",
       "      <td>ppm</td>\n",
       "    </tr>\n",
       "    <tr>\n",
       "      <th>11</th>\n",
       "      <td>FAMN</td>\n",
       "      <td>N_in_applied_fertilizer</td>\n",
       "      <td>Nitrogen in applied fertilizer</td>\n",
       "      <td>fertilizer_nitrogen__mass-per-area_density</td>\n",
       "      <td>kg ha-1</td>\n",
       "    </tr>\n",
       "    <tr>\n",
       "      <th>12</th>\n",
       "      <td>XCRD</td>\n",
       "      <td>field longitude</td>\n",
       "      <td>Field longitude. E positive. W negative</td>\n",
       "      <td>field__longitude</td>\n",
       "      <td>decimal degrees</td>\n",
       "    </tr>\n",
       "    <tr>\n",
       "      <th>13</th>\n",
       "      <td>SH2O</td>\n",
       "      <td>initial water content</td>\n",
       "      <td>Initial water concentration by layer</td>\n",
       "      <td>soil_column_water__initial_volume_fraction</td>\n",
       "      <td>cm3 cm-3</td>\n",
       "    </tr>\n",
       "    <tr>\n",
       "      <th>14</th>\n",
       "      <td>ICBL</td>\n",
       "      <td>initial soil depth</td>\n",
       "      <td>soil layer depth for initial conditions measur...</td>\n",
       "      <td>soil_layer__initial_depth</td>\n",
       "      <td>cm</td>\n",
       "    </tr>\n",
       "  </tbody>\n",
       "</table>\n",
       "</div>"
      ],
      "text/plain": [
       "     Label                Long Name  \\\n",
       "0    FDATE       fertilization_date   \n",
       "1     PPOP         planting density   \n",
       "2     SNO3          initial nitrate   \n",
       "3     FDEP         fertilizer depth   \n",
       "4   INGENO              cultivar id   \n",
       "5     PLRS     planting row spacing   \n",
       "6    PDATE            planting date   \n",
       "7     PLDP           planting depth   \n",
       "8       CR                  crop id   \n",
       "9     YCRD           field latitude   \n",
       "10    SNH4         initial ammonium   \n",
       "11    FAMN  N_in_applied_fertilizer   \n",
       "12    XCRD          field longitude   \n",
       "13    SH2O    initial water content   \n",
       "14    ICBL       initial soil depth   \n",
       "\n",
       "                                          Description  \\\n",
       "0                                  Fertilization date   \n",
       "1                        Plant population at planting   \n",
       "2   Initial NO3 conc. as elemental N on dry wt. ba...   \n",
       "3                        Fertilizer application depth   \n",
       "4             Cultivar or line or genotype identifier   \n",
       "5                                         Row spacing   \n",
       "6                             Planting or sowing date   \n",
       "7                                      Planting depth   \n",
       "8                   Crop (or weed) species identifier   \n",
       "9                                      Field latitude   \n",
       "10  Initial NH4 conc. as elemental N on dry wt. ba...   \n",
       "11                     Nitrogen in applied fertilizer   \n",
       "12            Field longitude. E positive. W negative   \n",
       "13               Initial water concentration by layer   \n",
       "14  soil layer depth for initial conditions measur...   \n",
       "\n",
       "                                        Standard Name             Unit  \n",
       "0                            soil__fertilization_date             date  \n",
       "1               crop__count-per-area_planting_density       number m-2  \n",
       "2   soil_nitrate-as-nitrogen~elemental__dry_mass_f...              ppm  \n",
       "3                  soil_fertilizer__application_depth               cm  \n",
       "4      cultivar__line-or-genotype_identification_code             code  \n",
       "5                          crop_row__planting_spacing               cm  \n",
       "6                       crop__planting_or_sowing_date             date  \n",
       "7                                crop__planting_depth               mm  \n",
       "8           crop-or-weed__species_identification_code             code  \n",
       "9                                     field__latitude  decimal degrees  \n",
       "10  soil_ammonium-as-nitrogen~elemental__dry_mass_...              ppm  \n",
       "11         fertilizer_nitrogen__mass-per-area_density          kg ha-1  \n",
       "12                                   field__longitude  decimal degrees  \n",
       "13         soil_column_water__initial_volume_fraction         cm3 cm-3  \n",
       "14                          soil_layer__initial_depth               cm  "
      ]
     },
     "execution_count": 115,
     "metadata": {},
     "output_type": "execute_result"
    }
   ],
   "source": [
    "get_variables(input_files[1])"
   ]
  },
  {
   "cell_type": "code",
   "execution_count": 116,
   "metadata": {
    "scrolled": true
   },
   "outputs": [
    {
     "name": "stdout",
     "output_type": "stream",
     "text": [
      "https://w3id.org/mint/instance/DSSAT_sol\n"
     ]
    },
    {
     "data": {
      "text/html": [
       "<div>\n",
       "<style scoped>\n",
       "    .dataframe tbody tr th:only-of-type {\n",
       "        vertical-align: middle;\n",
       "    }\n",
       "\n",
       "    .dataframe tbody tr th {\n",
       "        vertical-align: top;\n",
       "    }\n",
       "\n",
       "    .dataframe thead th {\n",
       "        text-align: right;\n",
       "    }\n",
       "</style>\n",
       "<table border=\"1\" class=\"dataframe\">\n",
       "  <thead>\n",
       "    <tr style=\"text-align: right;\">\n",
       "      <th></th>\n",
       "      <th>Label</th>\n",
       "      <th>Long Name</th>\n",
       "      <th>Description</th>\n",
       "      <th>Standard Name</th>\n",
       "      <th>Unit</th>\n",
       "    </tr>\n",
       "  </thead>\n",
       "  <tbody>\n",
       "    <tr>\n",
       "      <th>0</th>\n",
       "      <td>SSKS</td>\n",
       "      <td>Saturated hydraulic conductivity</td>\n",
       "      <td>Saturated hydraulic conductivity</td>\n",
       "      <td>soil_water__saturated_hydraulic_conductivity</td>\n",
       "      <td>cm h-1</td>\n",
       "    </tr>\n",
       "    <tr>\n",
       "      <th>1</th>\n",
       "      <td>SLB</td>\n",
       "      <td>Soil layer base depth</td>\n",
       "      <td>Soil layer base depth</td>\n",
       "      <td>soil_layer~base__depth</td>\n",
       "      <td>cm</td>\n",
       "    </tr>\n",
       "    <tr>\n",
       "      <th>2</th>\n",
       "      <td>SALB</td>\n",
       "      <td>albedo</td>\n",
       "      <td>Soil albedo- dry soil</td>\n",
       "      <td>land_soil~dry_surface__albedo</td>\n",
       "      <td>None</td>\n",
       "    </tr>\n",
       "    <tr>\n",
       "      <th>3</th>\n",
       "      <td>SLLL</td>\n",
       "      <td>soil lower limit</td>\n",
       "      <td>Soil water- lower limit</td>\n",
       "      <td>soil_water__lower_limit_of_volume_fraction</td>\n",
       "      <td>cm3 cm-3</td>\n",
       "    </tr>\n",
       "    <tr>\n",
       "      <th>4</th>\n",
       "      <td>SLCL</td>\n",
       "      <td>Soil clay percentage</td>\n",
       "      <td>Soil texture- clay (&lt;0.002 mm) weight percent ...</td>\n",
       "      <td>soil_clay__mass_fraction</td>\n",
       "      <td>%</td>\n",
       "    </tr>\n",
       "    <tr>\n",
       "      <th>5</th>\n",
       "      <td>SDUL</td>\n",
       "      <td>soil drained upper limit</td>\n",
       "      <td>Soil water- drained upper limit</td>\n",
       "      <td>soil_water__upper_limit_of_drained_volume_frac...</td>\n",
       "      <td>cm3 cm-3</td>\n",
       "    </tr>\n",
       "    <tr>\n",
       "      <th>6</th>\n",
       "      <td>SLSI</td>\n",
       "      <td>Soil silt percentage</td>\n",
       "      <td>Soil texture- silt (0.05 to 0.002 mm) weight p...</td>\n",
       "      <td>soil_silt__mass_fraction</td>\n",
       "      <td>%</td>\n",
       "    </tr>\n",
       "    <tr>\n",
       "      <th>7</th>\n",
       "      <td>SLOC</td>\n",
       "      <td>soil organic carbon</td>\n",
       "      <td>Total soil organic carbon by layer</td>\n",
       "      <td>soil_matter~organic__mass_fraction</td>\n",
       "      <td>g 100g-1</td>\n",
       "    </tr>\n",
       "    <tr>\n",
       "      <th>8</th>\n",
       "      <td>SSAT</td>\n",
       "      <td>soil water content at saturation</td>\n",
       "      <td>Soil water- saturated</td>\n",
       "      <td>soil_water__saturated_volume_fraction</td>\n",
       "      <td>cm3 cm-3</td>\n",
       "    </tr>\n",
       "    <tr>\n",
       "      <th>9</th>\n",
       "      <td>SBDM</td>\n",
       "      <td>soil bulk density</td>\n",
       "      <td>Soil bulk density when moist for layer</td>\n",
       "      <td>soil~dry__bulk_mass-per-volume_density</td>\n",
       "      <td>g cm-3</td>\n",
       "    </tr>\n",
       "  </tbody>\n",
       "</table>\n",
       "</div>"
      ],
      "text/plain": [
       "  Label                         Long Name  \\\n",
       "0  SSKS  Saturated hydraulic conductivity   \n",
       "1   SLB             Soil layer base depth   \n",
       "2  SALB                            albedo   \n",
       "3  SLLL                  soil lower limit   \n",
       "4  SLCL              Soil clay percentage   \n",
       "5  SDUL          soil drained upper limit   \n",
       "6  SLSI              Soil silt percentage   \n",
       "7  SLOC               soil organic carbon   \n",
       "8  SSAT  soil water content at saturation   \n",
       "9  SBDM                 soil bulk density   \n",
       "\n",
       "                                         Description  \\\n",
       "0                   Saturated hydraulic conductivity   \n",
       "1                              Soil layer base depth   \n",
       "2                              Soil albedo- dry soil   \n",
       "3                            Soil water- lower limit   \n",
       "4  Soil texture- clay (<0.002 mm) weight percent ...   \n",
       "5                    Soil water- drained upper limit   \n",
       "6  Soil texture- silt (0.05 to 0.002 mm) weight p...   \n",
       "7                 Total soil organic carbon by layer   \n",
       "8                              Soil water- saturated   \n",
       "9             Soil bulk density when moist for layer   \n",
       "\n",
       "                                       Standard Name      Unit  \n",
       "0       soil_water__saturated_hydraulic_conductivity    cm h-1  \n",
       "1                             soil_layer~base__depth        cm  \n",
       "2                      land_soil~dry_surface__albedo      None  \n",
       "3         soil_water__lower_limit_of_volume_fraction  cm3 cm-3  \n",
       "4                           soil_clay__mass_fraction         %  \n",
       "5  soil_water__upper_limit_of_drained_volume_frac...  cm3 cm-3  \n",
       "6                           soil_silt__mass_fraction         %  \n",
       "7                 soil_matter~organic__mass_fraction  g 100g-1  \n",
       "8              soil_water__saturated_volume_fraction  cm3 cm-3  \n",
       "9             soil~dry__bulk_mass-per-volume_density    g cm-3  "
      ]
     },
     "execution_count": 116,
     "metadata": {},
     "output_type": "execute_result"
    }
   ],
   "source": [
    "get_variables(input_files[2])"
   ]
  },
  {
   "cell_type": "markdown",
   "metadata": {},
   "source": [
    "## DSSAT Outputs by File\n",
    "And we can also show the variables for each output file"
   ]
  },
  {
   "cell_type": "code",
   "execution_count": 123,
   "metadata": {},
   "outputs": [
    {
     "name": "stdout",
     "output_type": "stream",
     "text": [
      "https://w3id.org/mint/instance/DSSAT_summary\n"
     ]
    },
    {
     "data": {
      "text/html": [
       "<div>\n",
       "<style scoped>\n",
       "    .dataframe tbody tr th:only-of-type {\n",
       "        vertical-align: middle;\n",
       "    }\n",
       "\n",
       "    .dataframe tbody tr th {\n",
       "        vertical-align: top;\n",
       "    }\n",
       "\n",
       "    .dataframe thead th {\n",
       "        text-align: right;\n",
       "    }\n",
       "</style>\n",
       "<table border=\"1\" class=\"dataframe\">\n",
       "  <thead>\n",
       "    <tr style=\"text-align: right;\">\n",
       "      <th></th>\n",
       "      <th>Label</th>\n",
       "      <th>Long Name</th>\n",
       "      <th>Description</th>\n",
       "      <th>Standard Name</th>\n",
       "      <th>Unit</th>\n",
       "    </tr>\n",
       "  </thead>\n",
       "  <tbody>\n",
       "    <tr>\n",
       "      <th>0</th>\n",
       "      <td>CWAM</td>\n",
       "      <td>tops dry weigth</td>\n",
       "      <td>Tops dry weight at maturity</td>\n",
       "      <td>crop_tops__maturity_dry_mass-per-area_yield</td>\n",
       "      <td>kg ha-1</td>\n",
       "    </tr>\n",
       "    <tr>\n",
       "      <th>1</th>\n",
       "      <td>HWAM</td>\n",
       "      <td>harvest yield</td>\n",
       "      <td>Harvest yield at harvest maturity (dry wt)</td>\n",
       "      <td>crop__maturity_dry_harvested_mass-per-area_yield</td>\n",
       "      <td>kg ha-1</td>\n",
       "    </tr>\n",
       "  </tbody>\n",
       "</table>\n",
       "</div>"
      ],
      "text/plain": [
       "  Label        Long Name                                 Description  \\\n",
       "0  CWAM  tops dry weigth                 Tops dry weight at maturity   \n",
       "1  HWAM    harvest yield  Harvest yield at harvest maturity (dry wt)   \n",
       "\n",
       "                                      Standard Name     Unit  \n",
       "0       crop_tops__maturity_dry_mass-per-area_yield  kg ha-1  \n",
       "1  crop__maturity_dry_harvested_mass-per-area_yield  kg ha-1  "
      ]
     },
     "execution_count": 123,
     "metadata": {},
     "output_type": "execute_result"
    }
   ],
   "source": [
    "get_variables(output_files[0])"
   ]
  }
 ],
 "metadata": {
  "kernelspec": {
   "display_name": "Python 3",
   "language": "python",
   "name": "python3"
  },
  "language_info": {
   "codemirror_mode": {
    "name": "ipython",
    "version": 3
   },
   "file_extension": ".py",
   "mimetype": "text/x-python",
   "name": "python",
   "nbconvert_exporter": "python",
   "pygments_lexer": "ipython3",
   "version": "3.5.3"
  }
 },
 "nbformat": 4,
 "nbformat_minor": 2
}
