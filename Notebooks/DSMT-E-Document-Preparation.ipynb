{
 "cells": [
  {
   "cell_type": "code",
   "execution_count": 1,
   "metadata": {},
   "outputs": [],
   "source": [
    "import boto3\n",
    "import json\n",
    "from jsonschema import validate\n",
    "from elasticsearch import Elasticsearch, RequestsHttpConnection\n",
    "from elasticsearch.helpers import scan\n",
    "from requests_aws4auth import AWS4Auth\n",
    "\n",
    "region = 'us-east-1'\n",
    "service = 'es'\n",
    "eshost = 'search-world-modelers-dev-gjvcliqvo44h4dgby7tn3psw74.us-east-1.es.amazonaws.com'\n",
    "\n",
    "session = boto3.Session(region_name=region, profile_name='wmuser')\n",
    "credentials = session.get_credentials()\n",
    "credentials = credentials.get_frozen_credentials()\n",
    "access_key = credentials.access_key\n",
    "secret_key = credentials.secret_key\n",
    "token = credentials.token\n",
    "\n",
    "aws_auth = AWS4Auth(\n",
    "    access_key,\n",
    "    secret_key,\n",
    "    region,\n",
    "    service,\n",
    "    session_token=token\n",
    ")\n"
   ]
  },
  {
   "cell_type": "code",
   "execution_count": 2,
   "metadata": {},
   "outputs": [],
   "source": [
    "es = Elasticsearch(\n",
    "    hosts = [{'host': eshost, 'port': 443}],\n",
    "    http_auth=aws_auth,\n",
    "    use_ssl=True,\n",
    "    verify_certs=True,\n",
    "    connection_class=RequestsHttpConnection,\n",
    "    timeout=300\n",
    ")"
   ]
  },
  {
   "cell_type": "code",
   "execution_count": 3,
   "metadata": {},
   "outputs": [],
   "source": [
    "index = \"wm-dev\""
   ]
  },
  {
   "cell_type": "code",
   "execution_count": 4,
   "metadata": {},
   "outputs": [],
   "source": [
    "query = {\n",
    "    \"aggs\" : {\n",
    "        \"categories\" : {\n",
    "            \"terms\" : { \"field\" : \"category.keyword\" } \n",
    "        }\n",
    "    }\n",
    "}\n",
    "\n",
    "categories = es.search(index=index, body=query)['aggregations']['categories']['buckets']"
   ]
  },
  {
   "cell_type": "code",
   "execution_count": 5,
   "metadata": {},
   "outputs": [
    {
     "data": {
      "text/plain": [
       "[{'key': 'Twelve-Month Eval Docs', 'doc_count': 473},\n",
       " {'key': 'November 2019 SSudan Docs', 'doc_count': 405},\n",
       " {'key': 'November 2019 Ethiopia Docs', 'doc_count': 255},\n",
       " {'key': 'Six-Month Evaluation Documents', 'doc_count': 38},\n",
       " {'key': 'Additional Six-Month Eval Docs', 'doc_count': 29},\n",
       " {'key': 'Luma-Provided Ethiopia Docs', 'doc_count': 21},\n",
       " {'key': 'Migration', 'doc_count': 19}]"
      ]
     },
     "execution_count": 5,
     "metadata": {},
     "output_type": "execute_result"
    }
   ],
   "source": [
    "categories"
   ]
  },
  {
   "cell_type": "code",
   "execution_count": 14,
   "metadata": {},
   "outputs": [],
   "source": [
    "results = []\n",
    "\n",
    "cats = ['Twelve-Month Eval Docs','Six-Month Evaluation Documents','Additional Six-Month Eval Docs'],\n",
    "\n",
    "for cat in cats:\n",
    "    query = {\n",
    "        \"query\" : {\n",
    "            \"terms\" : {\n",
    "                \"category.keyword\" : cat\n",
    "            }\n",
    "        }\n",
    "    }\n",
    "\n",
    "    res = es.search(index=index, body=query, size=1000)['hits']['hits']\n",
    "    results.extend(res)"
   ]
  },
  {
   "cell_type": "code",
   "execution_count": 16,
   "metadata": {},
   "outputs": [
    {
     "data": {
      "text/plain": [
       "True"
      ]
     },
     "execution_count": 16,
     "metadata": {},
     "output_type": "execute_result"
    }
   ],
   "source": [
    "len(results) == 473+38+29"
   ]
  },
  {
   "cell_type": "code",
   "execution_count": 37,
   "metadata": {},
   "outputs": [
    {
     "data": {
      "text/plain": [
       "540"
      ]
     },
     "execution_count": 37,
     "metadata": {},
     "output_type": "execute_result"
    }
   ],
   "source": [
    "len(dsmt_docs)"
   ]
  },
  {
   "cell_type": "code",
   "execution_count": 20,
   "metadata": {},
   "outputs": [],
   "source": [
    "dsmt_docs = []\n",
    "for res in results:\n",
    "    _id = res['_id']\n",
    "    source = res['_source']\n",
    "    source_url = source['source_url']\n",
    "    stored_url = source['stored_url']\n",
    "    file_name = source['file_name']\n",
    "    obj = {\"_id\": _id, \"source_url\": source_url, \"stored_url\": stored_url, \"file_name\": file_name}\n",
    "    dsmt_docs.append(obj)"
   ]
  },
  {
   "cell_type": "code",
   "execution_count": 36,
   "metadata": {},
   "outputs": [],
   "source": [
    "with open('DSMT-E_Document_Summary.jsonl','a') as f:\n",
    "    for doc in dsmt_docs:\n",
    "        f.write(json.dumps(doc)+'\\n')"
   ]
  },
  {
   "cell_type": "code",
   "execution_count": 22,
   "metadata": {},
   "outputs": [],
   "source": [
    "import boto3\n",
    "import requests\n",
    "\n",
    "profile = \"wmuser\"\n",
    "bucket_name = \"world-modelers\"\n",
    "\n",
    "session = boto3.Session(profile_name=profile)\n",
    "\n",
    "s3 = session.resource(\"s3\")\n",
    "s3_client = boto3.client(\"s3\")\n",
    "\n",
    "bucket = s3.Bucket(bucket_name)"
   ]
  },
  {
   "cell_type": "code",
   "execution_count": 23,
   "metadata": {},
   "outputs": [],
   "source": [
    "download_base_path = \"/Users/brandon/Desktop/DSMT-Sample-Documents/\""
   ]
  },
  {
   "cell_type": "code",
   "execution_count": 34,
   "metadata": {},
   "outputs": [
    {
     "name": "stdout",
     "output_type": "stream",
     "text": [
      "10\n",
      "20\n",
      "30\n",
      "40\n",
      "50\n",
      "60\n",
      "70\n",
      "80\n",
      "90\n",
      "100\n",
      "110\n",
      "120\n",
      "130\n",
      "140\n",
      "150\n",
      "160\n",
      "170\n",
      "180\n",
      "190\n",
      "200\n",
      "210\n",
      "220\n",
      "230\n",
      "240\n",
      "250\n",
      "260\n",
      "270\n",
      "280\n",
      "290\n",
      "300\n",
      "310\n",
      "320\n",
      "330\n",
      "340\n",
      "350\n",
      "360\n",
      "370\n",
      "380\n",
      "390\n",
      "400\n",
      "410\n",
      "420\n",
      "430\n",
      "440\n",
      "450\n",
      "460\n",
      "470\n",
      "480\n",
      "490\n",
      "500\n",
      "510\n",
      "520\n",
      "530\n",
      "540\n"
     ]
    }
   ],
   "source": [
    "count = 0\n",
    "for doc in dsmt_docs:\n",
    "    s3_key = doc['stored_url'].split('.com/')[1]\n",
    "    file_name = download_base_path + doc['file_name']    \n",
    "    bucket.download_file(s3_key, file_name)\n",
    "    count += 1\n",
    "    if count % 10 == 0:\n",
    "        print(count)"
   ]
  }
 ],
 "metadata": {
  "kernelspec": {
   "display_name": "Python 3",
   "language": "python",
   "name": "python3"
  },
  "language_info": {
   "codemirror_mode": {
    "name": "ipython",
    "version": 3
   },
   "file_extension": ".py",
   "mimetype": "text/x-python",
   "name": "python",
   "nbconvert_exporter": "python",
   "pygments_lexer": "ipython3",
   "version": "3.7.3"
  }
 },
 "nbformat": 4,
 "nbformat_minor": 2
}
