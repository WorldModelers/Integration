{
 "cells": [
  {
   "cell_type": "markdown",
   "metadata": {},
   "source": [
    "# SOFIA Tests"
   ]
  },
  {
   "cell_type": "markdown",
   "metadata": {},
   "source": [
    "### SOFIA as a Python Module\n",
    "SOFIA can be run as a Python module by importing the `SOFIA` class from `Main`:"
   ]
  },
  {
   "cell_type": "code",
   "execution_count": 1,
   "metadata": {},
   "outputs": [],
   "source": [
    "from Main import SOFIA"
   ]
  },
  {
   "cell_type": "markdown",
   "metadata": {},
   "source": [
    "a `SOFIA` object is instantiated by passing the path to an unzipped version of CoreNLP. In this case the instantiated object will be called `sofia`. This was tested using the release of [CoreNLP from 2018-10-05](http://nlp.stanford.edu/software/stanford-corenlp-full-2018-10-05.zip)"
   ]
  },
  {
   "cell_type": "code",
   "execution_count": 2,
   "metadata": {},
   "outputs": [],
   "source": [
    "sofia = SOFIA(CoreNLP='PATH_TO_CORENLP')"
   ]
  },
  {
   "cell_type": "code",
   "execution_count": 3,
   "metadata": {},
   "outputs": [],
   "source": [
    "text = '''The intense rain caused flooding in the area and in the capital. This was terrible news for the people of Pandonia. Conflict in the region is on the rise due to the floods. The floods are a direct result of rain and inadequate drainage.'''"
   ]
  },
  {
   "cell_type": "code",
   "execution_count": 4,
   "metadata": {},
   "outputs": [
    {
     "name": "stdout",
     "output_type": "stream",
     "text": [
      "The intense rain caused flooding in the area and in the capital. This was terrible news for the people of Pandonia. Conflict in the region is on the rise due to the floods. The floods are a direct result of rain and inadequate drainage.\n"
     ]
    }
   ],
   "source": [
    "print(text)"
   ]
  },
  {
   "cell_type": "markdown",
   "metadata": {},
   "source": [
    "The text can be passed to the `.getOutputOnline` function to receive results as an array of dictionaries (one per sentence)."
   ]
  },
  {
   "cell_type": "code",
   "execution_count": 5,
   "metadata": {},
   "outputs": [
    {
     "name": "stdout",
     "output_type": "stream",
     "text": [
      "CPU times: user 3.41 s, sys: 1.04 s, total: 4.45 s\n",
      "Wall time: 4.88 s\n"
     ]
    }
   ],
   "source": [
    "%time results = sofia.getOutputOnline(text)"
   ]
  },
  {
   "cell_type": "markdown",
   "metadata": {},
   "source": [
    "There were 4 sentences processed, so the `results` array is length 4."
   ]
  },
  {
   "cell_type": "code",
   "execution_count": 6,
   "metadata": {
    "scrolled": false
   },
   "outputs": [
    {
     "data": {
      "text/plain": [
       "4"
      ]
     },
     "execution_count": 6,
     "metadata": {},
     "output_type": "execute_result"
    }
   ],
   "source": [
    "len(results)"
   ]
  },
  {
   "cell_type": "markdown",
   "metadata": {},
   "source": [
    "Results for each setence is a dictionary with the following keys:\n",
    "\n",
    "* `Variables`\n",
    "* `Entities`\n",
    "* `Events`\n",
    "* `Causal`"
   ]
  },
  {
   "cell_type": "code",
   "execution_count": 7,
   "metadata": {},
   "outputs": [
    {
     "data": {
      "text/plain": [
       "{'Variables': {'Source_File': 'userinput',\n",
       "  'Sentence': 'The intense rain caused flooding in the area and in the capital . ',\n",
       "  'Indicator': 'None',\n",
       "  'Scoring': '',\n",
       "  'Index': 'V1'},\n",
       " 'Entities': [{'Source_File': 'userinput',\n",
       "   'Query': 'None',\n",
       "   'Score': '0.0',\n",
       "   'Entity Index': 'N1',\n",
       "   'Entity': 'the area',\n",
       "   'Entity_Type': '',\n",
       "   'FrameNet_Frame': \"['Dimension', 'Locale', 'Fields']\",\n",
       "   'Indicator': '',\n",
       "   'Qualifier': '',\n",
       "   'Sentence': 'The intense rain caused flooding in the area and in the capital . '},\n",
       "  {'Source_File': 'userinput',\n",
       "   'Query': 'None',\n",
       "   'Score': '0.0',\n",
       "   'Entity Index': 'N2',\n",
       "   'Entity': 'the capital',\n",
       "   'Entity_Type': '',\n",
       "   'FrameNet_Frame': \"['Money', 'Relational_political_locales']\",\n",
       "   'Indicator': '',\n",
       "   'Qualifier': '',\n",
       "   'Sentence': 'The intense rain caused flooding in the area and in the capital . '}],\n",
       " 'Events': [{'Source_File': 'userinput',\n",
       "   'Query': 'None',\n",
       "   'Score': '0.0',\n",
       "   'Event Index': 'E1',\n",
       "   'Relation': 'flooding',\n",
       "   'Event_Type': 'event1/Natural_Phenomena/Weather',\n",
       "   'FrameNet_Frame': '',\n",
       "   'Indicator': '',\n",
       "   'Location': '',\n",
       "   'Time': '',\n",
       "   'Agent Index': '',\n",
       "   'Agent': '',\n",
       "   'Patient Index': '',\n",
       "   'Patient': '',\n",
       "   'Sentence': 'The intense rain caused flooding in the area and in the capital . '}],\n",
       " 'Causal': []}"
      ]
     },
     "execution_count": 7,
     "metadata": {},
     "output_type": "execute_result"
    }
   ],
   "source": [
    "results[0]"
   ]
  },
  {
   "cell_type": "markdown",
   "metadata": {},
   "source": [
    "We can output this to an Excel spreadsheet if we would like:"
   ]
  },
  {
   "cell_type": "code",
   "execution_count": 8,
   "metadata": {},
   "outputs": [],
   "source": [
    "sofia.results2excel('SAMPLE_OUTPUT.xlsx',results)"
   ]
  },
  {
   "cell_type": "markdown",
   "metadata": {},
   "source": [
    "We can also perform query based reading by specifying a set of queries and using the `writeQueryBasedOutput` function:"
   ]
  },
  {
   "cell_type": "code",
   "execution_count": 10,
   "metadata": {},
   "outputs": [],
   "source": [
    "query = ['food security', 'malnutrition', 'starvation', 'famine', 'mortality', 'conflict', 'flood']\n",
    "q_results = sofia.writeQueryBasedOutput(text, query)"
   ]
  },
  {
   "cell_type": "markdown",
   "metadata": {},
   "source": [
    "### SOFIA as REST Service\n",
    "SOFIA can also be used as a REST Service. The following code assumes that you are running SOFIA as a service.\n",
    "\n",
    "This can be done by navigating to the SOFIA directory and running:\n",
    "\n",
    "```\n",
    "export FLASK_APP=REST_API.py\n",
    "flask run\n",
    "```"
   ]
  },
  {
   "cell_type": "code",
   "execution_count": 11,
   "metadata": {},
   "outputs": [],
   "source": [
    "import requests"
   ]
  },
  {
   "cell_type": "markdown",
   "metadata": {},
   "source": [
    "By default, the service runs at `localhost:5000`:"
   ]
  },
  {
   "cell_type": "code",
   "execution_count": 12,
   "metadata": {},
   "outputs": [],
   "source": [
    "url = 'http://localhost:5000'"
   ]
  },
  {
   "cell_type": "markdown",
   "metadata": {},
   "source": [
    "We can submit basic text for reading:"
   ]
  },
  {
   "cell_type": "code",
   "execution_count": 14,
   "metadata": {},
   "outputs": [],
   "source": [
    "obj = {'text': 'The intense rain caused flooding in the area and in the capital'}\n",
    "response = requests.post(url + '/process_text', json=obj)"
   ]
  },
  {
   "cell_type": "markdown",
   "metadata": {},
   "source": [
    "The results are returned as JSON:"
   ]
  },
  {
   "cell_type": "code",
   "execution_count": 16,
   "metadata": {},
   "outputs": [
    {
     "data": {
      "text/plain": [
       "{'Variables': {'Source_File': 'userinput',\n",
       "  'Sentence': 'The intense rain caused flooding in the area and in the capital ',\n",
       "  'Indicator': 'None',\n",
       "  'Scoring': '',\n",
       "  'Index': 'V1'},\n",
       " 'Entities': [{'Source_File': 'userinput',\n",
       "   'Query': 'None',\n",
       "   'Score': '0.0',\n",
       "   'Entity Index': 'N1',\n",
       "   'Entity': 'the area',\n",
       "   'Entity_Type': '',\n",
       "   'FrameNet_Frame': \"['Dimension', 'Locale', 'Fields']\",\n",
       "   'Indicator': '',\n",
       "   'Qualifier': '',\n",
       "   'Sentence': 'The intense rain caused flooding in the area and in the capital '},\n",
       "  {'Source_File': 'userinput',\n",
       "   'Query': 'None',\n",
       "   'Score': '0.0',\n",
       "   'Entity Index': 'N2',\n",
       "   'Entity': 'the capital',\n",
       "   'Entity_Type': '',\n",
       "   'FrameNet_Frame': \"['Money', 'Relational_political_locales']\",\n",
       "   'Indicator': '',\n",
       "   'Qualifier': '',\n",
       "   'Sentence': 'The intense rain caused flooding in the area and in the capital '}],\n",
       " 'Events': [{'Source_File': 'userinput',\n",
       "   'Query': 'None',\n",
       "   'Score': '0.0',\n",
       "   'Event Index': 'E1',\n",
       "   'Relation': 'flooding',\n",
       "   'Event_Type': 'event1/Natural_Phenomena/Weather',\n",
       "   'FrameNet_Frame': '',\n",
       "   'Indicator': '',\n",
       "   'Location': '',\n",
       "   'Time': '',\n",
       "   'Agent Index': '',\n",
       "   'Agent': '',\n",
       "   'Patient Index': '',\n",
       "   'Patient': '',\n",
       "   'Sentence': 'The intense rain caused flooding in the area and in the capital '}],\n",
       " 'Causal': []}"
      ]
     },
     "execution_count": 16,
     "metadata": {},
     "output_type": "execute_result"
    }
   ],
   "source": [
    "results = response.json()\n",
    "results[0]"
   ]
  },
  {
   "cell_type": "markdown",
   "metadata": {},
   "source": [
    "We can also perform query based reading using the REST API as well:"
   ]
  },
  {
   "cell_type": "code",
   "execution_count": 17,
   "metadata": {},
   "outputs": [],
   "source": [
    "obj = {'text': 'The intense rain caused flooding in the area and in the capital',\n",
    "       'query': ['food security', 'malnutrition', 'starvation', 'famine', 'flood']}\n",
    "response_q = requests.post(url + '/process_query', json=obj)"
   ]
  },
  {
   "cell_type": "code",
   "execution_count": 18,
   "metadata": {},
   "outputs": [
    {
     "data": {
      "text/plain": [
       "{'Variables': {'Source_File': 'userinput',\n",
       "  'Sentence': 'The intense rain caused flooding in the area and in the capital ',\n",
       "  'Indicator': 'None',\n",
       "  'Scoring': '',\n",
       "  'Index': 'V1'},\n",
       " 'Entities': [{'Source_File': 'userinput',\n",
       "   'Query': 'None',\n",
       "   'Score': '0.0',\n",
       "   'Entity Index': 'N1',\n",
       "   'Entity': 'the area',\n",
       "   'Entity_Type': '',\n",
       "   'FrameNet_Frame': \"['Dimension', 'Locale', 'Fields']\",\n",
       "   'Indicator': '',\n",
       "   'Qualifier': '',\n",
       "   'Sentence': 'The intense rain caused flooding in the area and in the capital '},\n",
       "  {'Source_File': 'userinput',\n",
       "   'Query': 'None',\n",
       "   'Score': '0.0',\n",
       "   'Entity Index': 'N2',\n",
       "   'Entity': 'the capital',\n",
       "   'Entity_Type': '',\n",
       "   'FrameNet_Frame': \"['Money', 'Relational_political_locales']\",\n",
       "   'Indicator': '',\n",
       "   'Qualifier': '',\n",
       "   'Sentence': 'The intense rain caused flooding in the area and in the capital '}],\n",
       " 'Events': [{'Source_File': 'userinput',\n",
       "   'Query': 'None',\n",
       "   'Score': '0.0',\n",
       "   'Event Index': 'E1',\n",
       "   'Relation': 'flooding',\n",
       "   'Event_Type': 'event1/Natural_Phenomena/Weather',\n",
       "   'FrameNet_Frame': '',\n",
       "   'Indicator': '',\n",
       "   'Location': '',\n",
       "   'Time': '',\n",
       "   'Agent Index': '',\n",
       "   'Agent': '',\n",
       "   'Patient Index': '',\n",
       "   'Patient': '',\n",
       "   'Sentence': 'The intense rain caused flooding in the area and in the capital '}],\n",
       " 'Causal': []}"
      ]
     },
     "execution_count": 18,
     "metadata": {},
     "output_type": "execute_result"
    }
   ],
   "source": [
    "results = response.json()\n",
    "results[0]"
   ]
  }
 ],
 "metadata": {
  "kernelspec": {
   "display_name": "Python 3",
   "language": "python",
   "name": "python3"
  },
  "language_info": {
   "codemirror_mode": {
    "name": "ipython",
    "version": 3
   },
   "file_extension": ".py",
   "mimetype": "text/x-python",
   "name": "python",
   "nbconvert_exporter": "python",
   "pygments_lexer": "ipython3",
   "version": "3.7.1"
  }
 },
 "nbformat": 4,
 "nbformat_minor": 2
}
