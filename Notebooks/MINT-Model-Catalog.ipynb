{
 "cells": [
  {
   "cell_type": "markdown",
   "metadata": {},
   "source": [
    "# ISI MINT Model Catalog Queries\n",
    "\n",
    "This notebook demonstrates how to construct and execute SPARQL queries using ISI's [MINT Model Catalog](http://ontosoft.isi.edu:8001/api/KnowledgeCaptureAndDiscovery/MINT-ModelCatalogQueries#/).\n",
    "\n",
    "Requires [SPARQLWrapper](https://pypi.org/project/SPARQLWrapper/) which can be installed with:\n",
    "\n",
    "```\n",
    "pip install SPARQLWrapper\n",
    "```\n",
    "\n",
    "This enables a user to submit SPARQL queries to the current Model Catalog endpoint: [http://ontosoft.isi.edu:3030/ds/query](http://ontosoft.isi.edu:3030/ds/query). Full documentation on the available queries are described in the [Model Catalog API specs](http://ontosoft.isi.edu:8001/api/KnowledgeCaptureAndDiscovery/MINT-ModelCatalogQueries#/)."
   ]
  },
  {
   "cell_type": "code",
   "execution_count": 23,
   "metadata": {
    "collapsed": false
   },
   "outputs": [],
   "source": [
    "from SPARQLWrapper import SPARQLWrapper, JSON\n",
    "import json"
   ]
  },
  {
   "cell_type": "code",
   "execution_count": 10,
   "metadata": {
    "collapsed": true
   },
   "outputs": [],
   "source": [
    "sparql = SPARQLWrapper(\"http://ontosoft.isi.edu:3030/ds/query\")"
   ]
  },
  {
   "cell_type": "markdown",
   "metadata": {},
   "source": [
    "### Get list of all model categories"
   ]
  },
  {
   "cell_type": "code",
   "execution_count": 72,
   "metadata": {
    "collapsed": false
   },
   "outputs": [],
   "source": [
    "sparql.setQuery(\"\"\"\n",
    "    PREFIX mc: <https://w3id.org/mint/modelCatalog#>\n",
    "\n",
    "    SELECT distinct ?category\n",
    "    WHERE {\n",
    "      ?model a mc:Model; \n",
    "             mc:hasModelCategory ?category\n",
    "    }\n",
    "\"\"\")"
   ]
  },
  {
   "cell_type": "code",
   "execution_count": 73,
   "metadata": {
    "collapsed": false
   },
   "outputs": [],
   "source": [
    "sparql.setReturnFormat(JSON)\n",
    "results = sparql.query().convert()"
   ]
  },
  {
   "cell_type": "markdown",
   "metadata": {},
   "source": [
    "Print the list of categories:"
   ]
  },
  {
   "cell_type": "code",
   "execution_count": 78,
   "metadata": {
    "collapsed": false,
    "scrolled": true
   },
   "outputs": [
    {
     "name": "stdout",
     "output_type": "stream",
     "text": [
      "Hydrology\n",
      "Land Use\n",
      "Agriculture\n",
      "Economic\n"
     ]
    }
   ],
   "source": [
    "for i in results['results']['bindings']:\n",
    "    print(i['category']['value'])"
   ]
  },
  {
   "cell_type": "markdown",
   "metadata": {},
   "source": [
    "### Get inputs/outputs referencing a model variable (standard name)"
   ]
  },
  {
   "cell_type": "code",
   "execution_count": 32,
   "metadata": {
    "collapsed": true
   },
   "outputs": [],
   "source": [
    "standard_name = 'atmosphere_water__precipitation_volume_flux'"
   ]
  },
  {
   "cell_type": "markdown",
   "metadata": {},
   "source": [
    "Note that the `standard_name` variable is inserted into the SPARQL query at line 10 below:"
   ]
  },
  {
   "cell_type": "code",
   "execution_count": 39,
   "metadata": {
    "collapsed": false
   },
   "outputs": [],
   "source": [
    "sparql.setQuery(\"\"\"\n",
    "    PREFIX rdfs: <http://www.w3.org/2000/01/rdf-schema#>\n",
    "    PREFIX mc: <https://w3id.org/mint/modelCatalog#>\n",
    "    PREFIX os: <http://ontosoft.org/software#>\n",
    "\n",
    "    SELECT DISTINCT ?io ?model_config ?modelVersion ?model\n",
    "    WHERE {\n",
    "      ?io a mc:DatasetSpecification.\n",
    "      ?io mc:hasPresentation ?presentation.\n",
    "      ?presentation mc:hasStandardVariable ?%s.\n",
    "      ?model os:hasSoftwareVersion ?modelVersion.\n",
    "      ?modelVersion mc:hasConfiguration ?model_config.\n",
    "      {  \n",
    "        ?model_config mc:hasInput ?io.\n",
    "      }\n",
    "      UNION\n",
    "      {\n",
    "        ?model_config mc:hasOutput ?io.\n",
    "      }\n",
    "    }\n",
    "\"\"\" % standard_name)"
   ]
  },
  {
   "cell_type": "code",
   "execution_count": 40,
   "metadata": {
    "collapsed": false
   },
   "outputs": [],
   "source": [
    "sparql.setReturnFormat(JSON)\n",
    "results = sparql.query().convert()"
   ]
  },
  {
   "cell_type": "markdown",
   "metadata": {},
   "source": [
    "Print the first result item:"
   ]
  },
  {
   "cell_type": "code",
   "execution_count": 70,
   "metadata": {
    "collapsed": false,
    "scrolled": true
   },
   "outputs": [
    {
     "data": {
      "text/plain": [
       "{'prop': {'type': 'uri',\n",
       "  'value': 'http://www.w3.org/1999/02/22-rdf-syntax-ns#type'},\n",
       " 'value': {'type': 'uri',\n",
       "  'value': 'https://w3id.org/mint/modelCatalog#VariablePresentation'}}"
      ]
     },
     "execution_count": 70,
     "metadata": {},
     "output_type": "execute_result"
    }
   ],
   "source": [
    "results['results']['bindings'][0]"
   ]
  },
  {
   "cell_type": "markdown",
   "metadata": {},
   "source": [
    "### Get resource (data) information"
   ]
  },
  {
   "cell_type": "code",
   "execution_count": 64,
   "metadata": {
    "collapsed": true
   },
   "outputs": [],
   "source": [
    "resource = 'TOPOFLOW'"
   ]
  },
  {
   "cell_type": "markdown",
   "metadata": {},
   "source": [
    "Note that the `resource` variable is inserted into the SPARQL query at line 4 below:"
   ]
  },
  {
   "cell_type": "code",
   "execution_count": 65,
   "metadata": {
    "collapsed": false
   },
   "outputs": [],
   "source": [
    "sparql.setQuery(\"\"\"\n",
    "    SELECT ?prop ?value\n",
    "    WHERE {\n",
    "      ?%s ?prop ?value\n",
    "    } \n",
    "\"\"\" % resource)"
   ]
  },
  {
   "cell_type": "code",
   "execution_count": 67,
   "metadata": {
    "collapsed": false
   },
   "outputs": [],
   "source": [
    "sparql.setReturnFormat(JSON)\n",
    "results = sparql.query().convert()"
   ]
  },
  {
   "cell_type": "markdown",
   "metadata": {},
   "source": [
    "Print the first result item:"
   ]
  },
  {
   "cell_type": "code",
   "execution_count": 71,
   "metadata": {
    "collapsed": false
   },
   "outputs": [
    {
     "data": {
      "text/plain": [
       "{'prop': {'type': 'uri',\n",
       "  'value': 'http://www.w3.org/1999/02/22-rdf-syntax-ns#type'},\n",
       " 'value': {'type': 'uri',\n",
       "  'value': 'https://w3id.org/mint/modelCatalog#VariablePresentation'}}"
      ]
     },
     "execution_count": 71,
     "metadata": {},
     "output_type": "execute_result"
    }
   ],
   "source": [
    "results['results']['bindings'][0]"
   ]
  }
 ],
 "metadata": {
  "kernelspec": {
   "display_name": "Python 3",
   "language": "python",
   "name": "python3"
  },
  "language_info": {
   "codemirror_mode": {
    "name": "ipython",
    "version": 3
   },
   "file_extension": ".py",
   "mimetype": "text/x-python",
   "name": "python",
   "nbconvert_exporter": "python",
   "pygments_lexer": "ipython3",
   "version": "3.5.3"
  }
 },
 "nbformat": 4,
 "nbformat_minor": 0
}
