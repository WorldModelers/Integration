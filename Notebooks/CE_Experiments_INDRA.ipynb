{
 "cells": [
  {
   "cell_type": "code",
   "execution_count": 3,
   "metadata": {},
   "outputs": [
    {
     "name": "stderr",
     "output_type": "stream",
     "text": [
      "WARNING: [2019-08-06 17:29:18] indra.assemblers.graph.assembler - Cannot use graph assembler because pygraphviz could not be imported.\n"
     ]
    }
   ],
   "source": [
    "import os\n",
    "import re\n",
    "\n",
    "import json\n",
    "import numpy as np\n",
    "\n",
    "import pandas\n",
    "\n",
    "from pysb.simulator import ScipyOdeSimulator\n",
    "\n",
    "from indra.sources import eidos\n",
    "from IPython.display import Image\n",
    "\n",
    "from indra.assemblers.graph import GraphAssembler\n",
    "from indra.assemblers.cag import CAGAssembler\n",
    "# from indra.assemblers.pysb import PysbAssembler"
   ]
  },
  {
   "cell_type": "code",
   "execution_count": 79,
   "metadata": {},
   "outputs": [],
   "source": [
    "text = \"\"\"A significant increase in precipitation resulted in food insecurity \n",
    "          and a decrease in humanitarian interventions in South Sudan in 1997.\"\"\""
   ]
  },
  {
   "cell_type": "code",
   "execution_count": 80,
   "metadata": {},
   "outputs": [],
   "source": [
    "ep = eidos.process_text(text, webservice='http://54.84.114.146:9000/')"
   ]
  },
  {
   "cell_type": "code",
   "execution_count": 81,
   "metadata": {},
   "outputs": [
    {
     "data": {
      "text/plain": [
       "[Influence(Event(precipitation), Event(humanitarian interventions in South Sudan)),\n",
       " Influence(Event(precipitation), Event(food insecurity))]"
      ]
     },
     "execution_count": 81,
     "metadata": {},
     "output_type": "execute_result"
    }
   ],
   "source": [
    "ep.statements"
   ]
  },
  {
   "cell_type": "code",
   "execution_count": 82,
   "metadata": {},
   "outputs": [],
   "source": [
    "def fix_periods(contents):\n",
    "    fixed = re.sub(r'\\s*\\n\\s*\\n\\s*', '.\\n\\n', contents)\n",
    "    fixed = re.sub(r'\\.\\.', '.', fixed)\n",
    "    fixed = fixed.replace('\\n','') # Brandon added this...not sure if it matters\n",
    "    return fixed"
   ]
  },
  {
   "cell_type": "code",
   "execution_count": 75,
   "metadata": {},
   "outputs": [],
   "source": [
    "def run_indra(doc):\n",
    "    text = fix_periods(doc['extracted_text'])\n",
    "    ep = eidos.process_text(text, webservice='http://54.84.114.146:9000/')\n",
    "    statements = [i.to_json() for i in ep.statements]\n",
    "    INDRA_statements.extend(statements)\n",
    "    return statements"
   ]
  },
  {
   "cell_type": "code",
   "execution_count": 76,
   "metadata": {},
   "outputs": [],
   "source": [
    "dirs = os.listdir('extracted_bronze_docs/')\n",
    "files = []\n",
    "for d in dirs:\n",
    "    if '.DS_Store' not in d:\n",
    "        f_ = os.listdir(f'extracted_bronze_docs/{d}/')\n",
    "        for file in f_:\n",
    "            files.append(f\"extracted_bronze_docs/{d}/{file}\")"
   ]
  },
  {
   "cell_type": "code",
   "execution_count": 77,
   "metadata": {},
   "outputs": [
    {
     "name": "stdout",
     "output_type": "stream",
     "text": [
      "reading file extracted_bronze_docs/News/f886330e9b0eb349235d1f5da300ec02.html.cdr\n",
      "reading file extracted_bronze_docs/News/16b136b9648765cad7b733121a230203.html.cdr\n",
      "reading file extracted_bronze_docs/News/c0fb6f4296091e2f62e8cb1b654cbc61.html.cdr\n",
      "reading file extracted_bronze_docs/News/fe1ae1f7f622b1d8311032beda0025c1.html.cdr\n",
      "reading file extracted_bronze_docs/Unstructured/Russia Building Up Military Sites on Poland’s Border Before Trump-Putin Meeting - Defense One.pdf.cdr\n",
      "reading file extracted_bronze_docs/Unstructured/NATO's Worst Nightmare_ Russia's Kaliningrad Is Armed to the Teeth.pdf.cdr\n",
      "reading file extracted_bronze_docs/Unstructured/Between a Rock and a Hard Place_ Kaliningrad to Become ‘Special’ Again - Jamestown.pdf.cdr\n",
      "reading file extracted_bronze_docs/Unstructured/Baltic concern rises at Russian missiles in Kaliningrad _ Financial Times.pdf.cdr\n",
      "reading file extracted_bronze_docs/Unstructured/The Propaganda War Now Broadcasting in Eastern Ukraine.pdf.cdr\n",
      "reading file extracted_bronze_docs/Unstructured/How a tiny pocket of Russian land next to Poland could soon become the most dangerous place in Europe _ The Independent.pdf.cdr\n",
      "reading file extracted_bronze_docs/Strategic Guidance/20180702_1807-russia-top5-myths-en.pdf.cdr\n",
      "reading file extracted_bronze_docs/Strategic Guidance/20180426_1805-NATO-Russia_en.pdf.cdr\n",
      "reading file extracted_bronze_docs/Intel/HUMINT IIR.docx.cdr\n",
      "reading file extracted_bronze_docs/Intel/20180925_NUCLEAR REACTOR EMBASSY DOCUMENT_v1.0.docx.cdr\n",
      "reading file extracted_bronze_docs/Intel/20180924__S2_templat  WITH k DATA.DOC.cdr\n",
      "reading file extracted_bronze_docs/Fake News/US plans to withdraw from INF Treaty — Russian defense minister.pdf.cdr\n",
      "reading file extracted_bronze_docs/Fake News/Russia won’t tolerate US biological experiments near its borders, warns diplomat.pdf.cdr\n",
      "reading file extracted_bronze_docs/Fake News/Nuclear cyber attacks.pdf.cdr\n",
      "reading file extracted_bronze_docs/Fake News/Minsk believes establishing US military base in Poland not to ensure regional stability.pdf.cdr\n",
      "reading file extracted_bronze_docs/Analytic/Making-Sense-of-Russian-Hybrid-Warfare-A-Brief-Assessment-of-the-Russo-Ukrainian-War.pdf.cdr\n",
      "reading file extracted_bronze_docs/Analytic/Russia’s Motives in the Baltic States - Foreign Policy Research Institute.pdf.cdr\n",
      "reading file extracted_bronze_docs/Analytic/Reviving The Propaganda State.pdf.cdr\n"
     ]
    }
   ],
   "source": [
    "for file in files:\n",
    "    print(f'reading file {file}')\n",
    "    with open(file,'r') as f:\n",
    "        doc = json.loads(f.read())\n",
    "    \n",
    "    INDRA_statements = run_indra(doc)\n",
    "    doc['INDRA_statements'] = INDRA_statements\n",
    "    \n",
    "    file_name = file.split('extracted_bronze_docs')[1]\n",
    "    \n",
    "    with open(f'enriched_bronze_docs{file_name}','w') as f:\n",
    "        f.write(json.dumps(doc))"
   ]
  }
 ],
 "metadata": {
  "kernelspec": {
   "display_name": "Python 3",
   "language": "python",
   "name": "python3"
  },
  "language_info": {
   "codemirror_mode": {
    "name": "ipython",
    "version": 3
   },
   "file_extension": ".py",
   "mimetype": "text/x-python",
   "name": "python",
   "nbconvert_exporter": "python",
   "pygments_lexer": "ipython3",
   "version": "3.7.3"
  }
 },
 "nbformat": 4,
 "nbformat_minor": 2
}
