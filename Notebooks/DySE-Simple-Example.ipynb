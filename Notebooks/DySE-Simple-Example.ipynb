{
 "cells": [
  {
   "cell_type": "markdown",
   "metadata": {},
   "source": [
    "# DySE Simple Example\n",
    "\n",
    "This notebook demonstrates the DySE simulation capability using an extremely simple, contrived example."
   ]
  },
  {
   "cell_type": "code",
   "execution_count": 9,
   "metadata": {},
   "outputs": [],
   "source": [
    "import pandas as pd\n",
    "from IPython.display import Image, display\n",
    "from Simulation.Simulator_Python import simulator_interface\n",
    "from Visualization import visualization_interface"
   ]
  },
  {
   "cell_type": "code",
   "execution_count": 23,
   "metadata": {},
   "outputs": [],
   "source": [
    "model = [\n",
    "    {'variable': 'hunger',\n",
    "    'positive': 'drought,locusts', # drought and locusts increase hunger\n",
    "    'negative': 'yield', # crop yields (+) decrease hunger\n",
    "    'initial': 2}, # initial value of hunger is set to `2` (100%)\n",
    "    \n",
    "    {'variable': 'drought',\n",
    "    'positive': '', # no variables increase drought\n",
    "    'negative': 'rainfall', # rainfall decreases drought\n",
    "    'initial': 0}, # initial value of drought is set to `0` (0%)\n",
    "    \n",
    "    {'variable': 'yield',\n",
    "    'positive': 'rainfall', # rainfall increases crop yield\n",
    "    'negative': 'drought,locusts', # drought and locusts decrease crop yield\n",
    "    'initial': 1}, # initial value of crop yield is set to `1` (50%)\n",
    "    \n",
    "    {'variable': 'locusts',\n",
    "    'positive': 'drought', # drought increases locusts\n",
    "    'negative': 'rainfall', # rainfall decreases locusts\n",
    "    'initial': 0}, # initial value of locusts is set to `0` (0%)\n",
    "    \n",
    "    {'variable': 'rainfall',\n",
    "    'positive': '', # no variables increase rainfall\n",
    "    'negative': '', # no variables decrease rainfall\n",
    "    'initial': 1}, # initial value of rainfall is set to `1` (50%)    \n",
    "]"
   ]
  },
  {
   "cell_type": "code",
   "execution_count": 24,
   "metadata": {},
   "outputs": [],
   "source": [
    "model_df = pd.DataFrame.from_records(model)"
   ]
  },
  {
   "cell_type": "markdown",
   "metadata": {},
   "source": [
    "Here we have to convert the `model_df` to an Excel file prior to running the simulation.\n",
    "\n",
    "Note that the key simulation parameters are the number of time steps (`steps`) and the number of `runs` to perform."
   ]
  },
  {
   "cell_type": "code",
   "execution_count": 25,
   "metadata": {},
   "outputs": [],
   "source": [
    "export_path = 'example_model.xlsx'\n",
    "simulation_trace_file = 'output.txt'\n",
    "simulation_trace_path = ''\n",
    "model_df.to_excel(export_path)\n",
    "simulator_interface.setup_and_run_simulation(export_path, simulation_trace_file, steps=50, runs=100, outputFormat=1)"
   ]
  },
  {
   "cell_type": "markdown",
   "metadata": {},
   "source": [
    "We have now generated the simulation output (trace) file, `output.txt`. We can examine it with:"
   ]
  },
  {
   "cell_type": "code",
   "execution_count": 26,
   "metadata": {},
   "outputs": [
    {
     "data": {
      "text/plain": [
       "'Run #0\\ndrought|3| 0 0 0 0 0 0 0 0 0 0 0 0 0 0 0 0 0 0 0 0 0 0 0 0 0 0 0 0 0 0 0 0 0 0 0 0 0 0 0 0 0 0 0 0 0 0 0 0 0 0 0\\nhunger|3| 2 2 2 2 2 1 1 1 0 0 0 0 0 0 0 0 0 0 0 0 0 0 0 0 0 0 0 0 0 0 0 0 0 0 0 0 0 0 0 0 0 0 0 0 0 0 0 0 0 0 0\\nlocusts|3| 0 0 0 0 0 0 0 0 0 0 0 0 0 0 0 0 0 0 0 0 0 0 0 0 0 0 0 0 0 0 0 0 0 0 0 0 0 0 0 0 0 0 0 0 0 0 0 0 0 0 0\\nrainfall|3| 1 1 1 1 1 1 1 1 1 1 1 1 1 1 1 1 1 1 1 1 1 1 1 1 1 1 1 1 1 1 1 1 1 1 1 1 1 1 1 1 1 1 1 1 1 1 1 1 1 1 1\\nyield|3| 1 1 2 2 2 2 2 2 2 2 2 2 2 2 2 2 '"
      ]
     },
     "execution_count": 26,
     "metadata": {},
     "output_type": "execute_result"
    }
   ],
   "source": [
    "simulation_output = open('output.txt','r').read()\n",
    "simulation_output[:500]"
   ]
  },
  {
   "cell_type": "markdown",
   "metadata": {},
   "source": [
    "Finally, we can visualize one of the variables. We can choose `hunger`:"
   ]
  },
  {
   "cell_type": "code",
   "execution_count": 27,
   "metadata": {},
   "outputs": [
    {
     "data": {
      "image/png": "[encoded data removed]",
      "text/plain": [
       "<IPython.core.display.Image object>"
      ]
     },
     "execution_count": 27,
     "metadata": {},
     "output_type": "execute_result"
    }
   ],
   "source": [
    "element = 'hunger'\n",
    "visualization_interface.plot_as_picture([simulation_trace_file], simulation_trace_path, elementsList=[element])\n",
    "Image(simulation_trace_path + element + '.png')"
   ]
  }
 ],
 "metadata": {
  "kernelspec": {
   "display_name": "Python 3",
   "language": "python",
   "name": "python3"
  },
  "language_info": {
   "codemirror_mode": {
    "name": "ipython",
    "version": 3
   },
   "file_extension": ".py",
   "mimetype": "text/x-python",
   "name": "python",
   "nbconvert_exporter": "python",
   "pygments_lexer": "ipython3",
   "version": "3.7.0"
  }
 },
 "nbformat": 4,
 "nbformat_minor": 2
}
