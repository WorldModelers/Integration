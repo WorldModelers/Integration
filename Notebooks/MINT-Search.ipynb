{
 "cells": [
  {
   "cell_type": "markdown",
   "metadata": {},
   "source": [
    "# MINT Model Catalog Search"
   ]
  },
  {
   "cell_type": "code",
   "execution_count": 1,
   "metadata": {},
   "outputs": [],
   "source": [
    "import json\n",
    "import requests"
   ]
  },
  {
   "cell_type": "markdown",
   "metadata": {},
   "source": [
    "## Search All\n",
    "Define a query and search across inputs, outputs, variables, and models:"
   ]
  },
  {
   "cell_type": "code",
   "execution_count": 8,
   "metadata": {},
   "outputs": [],
   "source": [
    "query = 'precipitation'"
   ]
  },
  {
   "cell_type": "code",
   "execution_count": 2,
   "metadata": {},
   "outputs": [],
   "source": [
    "params = (\n",
    "    ('text', query),\n",
    "    ('endpoint', 'https://endpoint.mint.isi.edu/ds/query'),\n",
    ")\n",
    "\n",
    "response = requests.get('https://query.mint.isi.edu/api/mintproject/MINT-ModelCatalogQueries/searchAll', params=params)"
   ]
  },
  {
   "cell_type": "code",
   "execution_count": 4,
   "metadata": {},
   "outputs": [],
   "source": [
    "results = response.json()['results']['bindings']"
   ]
  },
  {
   "cell_type": "markdown",
   "metadata": {},
   "source": [
    "Print the first 10 results:"
   ]
  },
  {
   "cell_type": "code",
   "execution_count": 31,
   "metadata": {},
   "outputs": [
    {
     "name": "stdout",
     "output_type": "stream",
     "text": [
      "https://w3id.org/mint/instance/Topo_qs: Saturated soil water content\n",
      "https://w3id.org/mint/instance/DSSAT_SALB: Soil albedo- dry soil\n",
      "https://w3id.org/mint/instance/cycles_smc_l1: Soil moisture content in layer 1\n",
      "https://w3id.org/mint/instance/cycles_soil_evap: Evaporation from the soil surface.\n",
      "https://w3id.org/mint/instance/cycles_residue_evap: Evaporation from soil residues\n",
      "https://w3id.org/mint/instance/cycles_silt: Silt mass per unit of soil mass (no rocks) and expressed as a percentage\n",
      "https://w3id.org/mint/instance/cycles_smc: Soil moisture content of each layer indexed from top to bottom\n",
      "https://w3id.org/mint/instance/cycles_swc: Soil moisture content (array of size = number of soil layers)\n",
      "https://w3id.org/mint/instance/cycles_layer: Soil layer number from 1 to an integer that is user defined (or database defined)\n",
      "https://w3id.org/mint/instance/cycles_dz: Soil layer thickness\n"
     ]
    }
   ],
   "source": [
    "for res in results[:10]:\n",
    "    print(f\"{res['w']['value']}: {res['desc']['value']}\")"
   ]
  },
  {
   "cell_type": "markdown",
   "metadata": {},
   "source": [
    "## Search IO\n",
    "Search across input and outputs."
   ]
  },
  {
   "cell_type": "code",
   "execution_count": 11,
   "metadata": {},
   "outputs": [],
   "source": [
    "query = 'precipitation'"
   ]
  },
  {
   "cell_type": "code",
   "execution_count": 12,
   "metadata": {},
   "outputs": [],
   "source": [
    "params = (\n",
    "    ('text', query),\n",
    "    ('endpoint', 'https://endpoint.mint.isi.edu/ds/query'),\n",
    ")\n",
    "\n",
    "response = requests.get('https://query.mint.isi.edu/api/mintproject/MINT-ModelCatalogQueries/searchIO', params=params)"
   ]
  },
  {
   "cell_type": "code",
   "execution_count": 13,
   "metadata": {},
   "outputs": [],
   "source": [
    "results = response.json()['results']['bindings']"
   ]
  },
  {
   "cell_type": "markdown",
   "metadata": {},
   "source": [
    "Print first 10 results:"
   ]
  },
  {
   "cell_type": "code",
   "execution_count": 30,
   "metadata": {},
   "outputs": [
    {
     "name": "stdout",
     "output_type": "stream",
     "text": [
      "https://w3id.org/mint/instance/Topo_qs: Saturated soil water content\n",
      "https://w3id.org/mint/instance/DSSAT_SALB: Soil albedo- dry soil\n",
      "https://w3id.org/mint/instance/cycles_smc_l1: Soil moisture content in layer 1\n",
      "https://w3id.org/mint/instance/cycles_soil_evap: Evaporation from the soil surface.\n",
      "https://w3id.org/mint/instance/cycles_residue_evap: Evaporation from soil residues\n",
      "https://w3id.org/mint/instance/cycles_silt: Silt mass per unit of soil mass (no rocks) and expressed as a percentage\n",
      "https://w3id.org/mint/instance/cycles_smc: Soil moisture content of each layer indexed from top to bottom\n",
      "https://w3id.org/mint/instance/cycles_swc: Soil moisture content (array of size = number of soil layers)\n",
      "https://w3id.org/mint/instance/cycles_layer: Soil layer number from 1 to an integer that is user defined (or database defined)\n",
      "https://w3id.org/mint/instance/cycles_dz: Soil layer thickness\n"
     ]
    }
   ],
   "source": [
    "for res in results[:10]:\n",
    "    print(f\"{res['w']['value']}: {res['desc']['value']}\")"
   ]
  },
  {
   "cell_type": "markdown",
   "metadata": {},
   "source": [
    "## Search Models\n",
    "Search across models:"
   ]
  },
  {
   "cell_type": "code",
   "execution_count": 52,
   "metadata": {},
   "outputs": [],
   "source": [
    "query = 'soil'"
   ]
  },
  {
   "cell_type": "code",
   "execution_count": 53,
   "metadata": {},
   "outputs": [],
   "source": [
    "params = (\n",
    "    ('text', query),\n",
    "    ('endpoint', 'https://endpoint.mint.isi.edu/ds/query'),\n",
    ")\n",
    "\n",
    "\n",
    "response = requests.get('https://query.mint.isi.edu/api/mintproject/MINT-ModelCatalogQueries/searchModels', params=params)"
   ]
  },
  {
   "cell_type": "code",
   "execution_count": 54,
   "metadata": {},
   "outputs": [],
   "source": [
    "results = response.json()['results']['bindings']"
   ]
  },
  {
   "cell_type": "markdown",
   "metadata": {},
   "source": [
    "Print the first 10 results"
   ]
  },
  {
   "cell_type": "code",
   "execution_count": 55,
   "metadata": {},
   "outputs": [
    {
     "name": "stdout",
     "output_type": "stream",
     "text": [
      "https://w3id.org/mint/instance/CYCLES: Cycles simulates the productivity and the water-carbon and nitrogen balance of soil-crop systems subject to climate conditions and a large array of management constraints\n",
      "https://w3id.org/mint/instance/DSSAT: The Decision Support System for Agrotechnology Transfer (DSSAT) comprises dynamic crop growth simulation model for over 40 crops. The model simulates growth; development; and yield as a function of the soil-plant-atmosphere dynamics.\n"
     ]
    }
   ],
   "source": [
    "for res in results[:10]:\n",
    "    print(f\"{res['w']['value']}: {res['desc']['value']}\")"
   ]
  },
  {
   "cell_type": "markdown",
   "metadata": {},
   "source": [
    "## Search Variables\n",
    "Search across variables based on keyword. Here we can try dropping the `l` on `soil` to just `soi` to see what results are returned."
   ]
  },
  {
   "cell_type": "code",
   "execution_count": 36,
   "metadata": {},
   "outputs": [],
   "source": [
    "query = 'soi'"
   ]
  },
  {
   "cell_type": "code",
   "execution_count": 37,
   "metadata": {},
   "outputs": [],
   "source": [
    "params = (\n",
    "    ('text', query),\n",
    "    ('endpoint', 'https://endpoint.mint.isi.edu/ds/query'),\n",
    ")\n",
    "\n",
    "\n",
    "response = requests.get('https://query.mint.isi.edu/api/mintproject/MINT-ModelCatalogQueries/searchVariables', params=params)"
   ]
  },
  {
   "cell_type": "code",
   "execution_count": 38,
   "metadata": {},
   "outputs": [],
   "source": [
    "results = response.json()['results']['bindings']"
   ]
  },
  {
   "cell_type": "code",
   "execution_count": 39,
   "metadata": {
    "scrolled": true
   },
   "outputs": [
    {
     "name": "stdout",
     "output_type": "stream",
     "text": [
      "https://w3id.org/mint/instance/Topo_qs: Saturated soil water content\n",
      "https://w3id.org/mint/instance/DSSAT_SALB: Soil albedo- dry soil\n",
      "https://w3id.org/mint/instance/cycles_smc_l1: Soil moisture content in layer 1\n",
      "https://w3id.org/mint/instance/cycles_soil_evap: Evaporation from the soil surface.\n",
      "https://w3id.org/mint/instance/cycles_residue_evap: Evaporation from soil residues\n",
      "https://w3id.org/mint/instance/cycles_silt: Silt mass per unit of soil mass (no rocks) and expressed as a percentage\n",
      "https://w3id.org/mint/instance/cycles_smc: Soil moisture content of each layer indexed from top to bottom\n",
      "https://w3id.org/mint/instance/cycles_swc: Soil moisture content (array of size = number of soil layers)\n",
      "https://w3id.org/mint/instance/cycles_layer: Soil layer number from 1 to an integer that is user defined (or database defined)\n",
      "https://w3id.org/mint/instance/cycles_dz: Soil layer thickness\n"
     ]
    }
   ],
   "source": [
    "for res in results[:10]:\n",
    "    print(f\"{res['w']['value']}: {res['desc']['value']}\")"
   ]
  },
  {
   "cell_type": "markdown",
   "metadata": {},
   "source": [
    "# Retrieve model by URI\n",
    "Let's try to search for a model whose description matches `crop growth`. Then, let's retrieve the model."
   ]
  },
  {
   "cell_type": "code",
   "execution_count": 56,
   "metadata": {},
   "outputs": [
    {
     "name": "stdout",
     "output_type": "stream",
     "text": [
      "https://w3id.org/mint/instance/DSSAT: The Decision Support System for Agrotechnology Transfer (DSSAT) comprises dynamic crop growth simulation model for over 40 crops. The model simulates growth; development; and yield as a function of the soil-plant-atmosphere dynamics.\n"
     ]
    }
   ],
   "source": [
    "query = 'crop growth'\n",
    "\n",
    "params = (\n",
    "    ('text', query),\n",
    "    ('endpoint', 'https://endpoint.mint.isi.edu/ds/query'),\n",
    ")\n",
    "\n",
    "\n",
    "response = requests.get('https://query.mint.isi.edu/api/mintproject/MINT-ModelCatalogQueries/searchModels', params=params)\n",
    "\n",
    "results = response.json()['results']['bindings']\n",
    "\n",
    "for res in results[:10]:\n",
    "    print(f\"{res['w']['value']}: {res['desc']['value']}\")"
   ]
  },
  {
   "cell_type": "code",
   "execution_count": 57,
   "metadata": {},
   "outputs": [],
   "source": [
    "model_label = res['w']['value']"
   ]
  },
  {
   "cell_type": "code",
   "execution_count": 59,
   "metadata": {},
   "outputs": [],
   "source": [
    "params = (\n",
    "    ('label', model_label),\n",
    "    ('endpoint', 'https://endpoint.mint.isi.edu/ds/query'),\n",
    ")\n",
    "\n",
    "response = requests.get('https://query.mint.isi.edu/api/mintproject/MINT-ModelCatalogQueries/getModel', params=params)"
   ]
  },
  {
   "cell_type": "markdown",
   "metadata": {},
   "source": [
    "We can print the model:"
   ]
  },
  {
   "cell_type": "code",
   "execution_count": 60,
   "metadata": {},
   "outputs": [
    {
     "data": {
      "text/plain": [
       "{'head': {'vars': ['model']},\n",
       " 'results': {'bindings': [{'model': {'type': 'uri',\n",
       "     'value': 'https://w3id.org/mint/instance/DSSAT'}}]}}"
      ]
     },
     "execution_count": 60,
     "metadata": {},
     "output_type": "execute_result"
    }
   ],
   "source": [
    "response.json()"
   ]
  }
 ],
 "metadata": {
  "kernelspec": {
   "display_name": "Python 3",
   "language": "python",
   "name": "python3"
  },
  "language_info": {
   "codemirror_mode": {
    "name": "ipython",
    "version": 3
   },
   "file_extension": ".py",
   "mimetype": "text/x-python",
   "name": "python",
   "nbconvert_exporter": "python",
   "pygments_lexer": "ipython3",
   "version": "3.7.3"
  }
 },
 "nbformat": 4,
 "nbformat_minor": 2
}
