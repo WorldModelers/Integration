{
 "cells": [
  {
   "cell_type": "markdown",
   "metadata": {},
   "source": [
    "# MINT Model Catalog Search"
   ]
  },
  {
   "cell_type": "code",
   "execution_count": 1,
   "metadata": {},
   "outputs": [],
   "source": [
    "import json\n",
    "import requests"
   ]
  },
  {
   "cell_type": "markdown",
   "metadata": {},
   "source": [
    "## Search All\n",
    "Define a query and search across inputs, outputs, variables, and models:"
   ]
  },
  {
   "cell_type": "code",
   "execution_count": 117,
   "metadata": {},
   "outputs": [],
   "source": [
    "query = 'simulation'"
   ]
  },
  {
   "cell_type": "code",
   "execution_count": 118,
   "metadata": {},
   "outputs": [],
   "source": [
    "params = (\n",
    "    ('text', query),\n",
    "    ('endpoint', 'https://endpoint.mint.isi.edu/ds/query'),\n",
    ")\n",
    "\n",
    "response = requests.get('https://query.mint.isi.edu/api/dgarijo/jatawareAPI/searchAll', params=params)"
   ]
  },
  {
   "cell_type": "code",
   "execution_count": 119,
   "metadata": {},
   "outputs": [],
   "source": [
    "results = response.json()['results']['bindings']"
   ]
  },
  {
   "cell_type": "markdown",
   "metadata": {},
   "source": [
    "Print the first 10 results:"
   ]
  },
  {
   "cell_type": "code",
   "execution_count": 120,
   "metadata": {},
   "outputs": [
    {
     "name": "stdout",
     "output_type": "stream",
     "text": [
      "https://w3id.org/mint/instance/dE.csv: Change in trade matrix (balance of trade) by country from FSC simulation\n",
      "https://w3id.org/mint/instance/e5209cb4-1f0b-4b97-9716-b24fe73041f1: Change in trade matrix (balance of trade) by country from FSC simulation\n",
      "https://w3id.org/mint/instance/E0.csv: Initial trade matrix (balance of trade) by country prior to running FSC simulation\n",
      "https://w3id.org/mint/instance/11a3e749-212b-40c1-b923-8886ef829449: Initial trade matrix (balance of trade) by country prior to running FSC simulation\n"
     ]
    }
   ],
   "source": [
    "for res in results[:10]:\n",
    "    print(f\"{res['w']['value']}: {res['desc']['value']}\")"
   ]
  },
  {
   "cell_type": "markdown",
   "metadata": {},
   "source": [
    "## Search IO\n",
    "Search across input and outputs."
   ]
  },
  {
   "cell_type": "code",
   "execution_count": 93,
   "metadata": {},
   "outputs": [],
   "source": [
    "query = 'crops'"
   ]
  },
  {
   "cell_type": "code",
   "execution_count": 94,
   "metadata": {},
   "outputs": [],
   "source": [
    "params = (\n",
    "    ('text', query),\n",
    "    ('endpoint', 'https://endpoint.mint.isi.edu/ds/query'),\n",
    ")\n",
    "\n",
    "response = requests.get('https://query.mint.isi.edu/api/dgarijo/jatawareAPI/searchIO', params=params)"
   ]
  },
  {
   "cell_type": "code",
   "execution_count": 95,
   "metadata": {},
   "outputs": [],
   "source": [
    "results = response.json()['results']['bindings']"
   ]
  },
  {
   "cell_type": "markdown",
   "metadata": {},
   "source": [
    "Print first 10 results:"
   ]
  },
  {
   "cell_type": "code",
   "execution_count": 96,
   "metadata": {},
   "outputs": [
    {
     "name": "stdout",
     "output_type": "stream",
     "text": [
      "https://w3id.org/mint/instance/Production_Crops_E_All_Data_(Normalized).csv: Production_Crops_E_All_Data_(Normalized).csv\n",
      "https://w3id.org/mint/instance/ecd711d4-d3f9-4807-9040-cefde9a6c576: Production_Crops_E_All_Data_(Normalized).csv\n"
     ]
    }
   ],
   "source": [
    "for res in results[:10]:\n",
    "    print(f\"{res['w']['value']}: {res['desc']['value']}\")"
   ]
  },
  {
   "cell_type": "markdown",
   "metadata": {},
   "source": [
    "## Search Models\n",
    "Search across models:"
   ]
  },
  {
   "cell_type": "code",
   "execution_count": 97,
   "metadata": {},
   "outputs": [],
   "source": [
    "query = 'food'"
   ]
  },
  {
   "cell_type": "code",
   "execution_count": 98,
   "metadata": {},
   "outputs": [],
   "source": [
    "params = (\n",
    "    ('text', query),\n",
    "    ('endpoint', 'https://endpoint.mint.isi.edu/ds/query'),\n",
    ")\n",
    "\n",
    "\n",
    "response = requests.get('https://query.mint.isi.edu/api/dgarijo/jatawareAPI/searchModels', params=params)"
   ]
  },
  {
   "cell_type": "code",
   "execution_count": 99,
   "metadata": {},
   "outputs": [],
   "source": [
    "results = response.json()['results']['bindings']"
   ]
  },
  {
   "cell_type": "markdown",
   "metadata": {},
   "source": [
    "Print the first 10 results"
   ]
  },
  {
   "cell_type": "code",
   "execution_count": 100,
   "metadata": {},
   "outputs": [
    {
     "name": "stdout",
     "output_type": "stream",
     "text": [
      "https://w3id.org/mint/instance/FSC: The Food Shocks Cascade Model (FSC) is a simple agent-based network model that computes chain-reactions due to negative production anomalies based on dynamic food balance sheets at the country level.\n"
     ]
    }
   ],
   "source": [
    "for res in results[:10]:\n",
    "    print(f\"{res['w']['value']}: {res['desc']['value']}\")"
   ]
  },
  {
   "cell_type": "markdown",
   "metadata": {},
   "source": [
    "## Search Variables\n",
    "Search across variables based on keyword. Here we can try dropping the `l` on `soil` to just `soi` to see what results are returned."
   ]
  },
  {
   "cell_type": "code",
   "execution_count": 132,
   "metadata": {},
   "outputs": [],
   "source": [
    "query = 'country'"
   ]
  },
  {
   "cell_type": "code",
   "execution_count": 133,
   "metadata": {},
   "outputs": [],
   "source": [
    "params = (\n",
    "    ('text', query),\n",
    "    ('endpoint', 'https://endpoint.mint.isi.edu/ds/query'),\n",
    ")\n",
    "\n",
    "\n",
    "response = requests.get('https://query.mint.isi.edu/api/dgarijo/jatawareAPI/searchVariables', params=params)"
   ]
  },
  {
   "cell_type": "code",
   "execution_count": 134,
   "metadata": {},
   "outputs": [],
   "source": [
    "results = response.json()['results']['bindings']"
   ]
  },
  {
   "cell_type": "code",
   "execution_count": 135,
   "metadata": {
    "scrolled": true
   },
   "outputs": [
    {
     "name": "stdout",
     "output_type": "stream",
     "text": [
      "https://w3id.org/mint/instance/18b54a69-06cf-4e2d-b64a-2e629b7f3aaf: Country_Code\n",
      "https://w3id.org/mint/instance/216c3afc-d03b-4c20-a115-df123967d1ca: Country_Name\n",
      "https://w3id.org/mint/instance/6827b448-037c-4c43-beb6-b4d6eb268ba7: country\n"
     ]
    }
   ],
   "source": [
    "for res in results[:10]:\n",
    "    print(f\"{res['w']['value']}: {res['desc']['value']}\")"
   ]
  },
  {
   "cell_type": "markdown",
   "metadata": {},
   "source": [
    "# Retrieve model by URI\n",
    "Let's try to search for a model whose description matches `crop growth`. Then, let's retrieve the model."
   ]
  },
  {
   "cell_type": "code",
   "execution_count": 136,
   "metadata": {},
   "outputs": [
    {
     "name": "stdout",
     "output_type": "stream",
     "text": [
      "https://w3id.org/mint/instance/FSC: The Food Shocks Cascade Model (FSC) is a simple agent-based network model that computes chain-reactions due to negative production anomalies based on dynamic food balance sheets at the country level.\n"
     ]
    }
   ],
   "source": [
    "query = 'food'\n",
    "\n",
    "params = (\n",
    "    ('text', query),\n",
    "    ('endpoint', 'https://endpoint.mint.isi.edu/ds/query'),\n",
    ")\n",
    "\n",
    "\n",
    "response = requests.get('https://query.mint.isi.edu/api/dgarijo/jatawareAPI/searchModels', params=params)\n",
    "\n",
    "results = response.json()['results']['bindings']\n",
    "\n",
    "for res in results[:10]:\n",
    "    print(f\"{res['w']['value']}: {res['desc']['value']}\")"
   ]
  },
  {
   "cell_type": "code",
   "execution_count": 137,
   "metadata": {},
   "outputs": [],
   "source": [
    "model_label = res['w']['value']"
   ]
  },
  {
   "cell_type": "code",
   "execution_count": 143,
   "metadata": {},
   "outputs": [
    {
     "data": {
      "text/plain": [
       "'https://w3id.org/mint/instance/FSC'"
      ]
     },
     "execution_count": 143,
     "metadata": {},
     "output_type": "execute_result"
    }
   ],
   "source": [
    "model_label"
   ]
  },
  {
   "cell_type": "code",
   "execution_count": 148,
   "metadata": {},
   "outputs": [
    {
     "name": "stdout",
     "output_type": "stream",
     "text": [
      "{'description': 'The Food Shocks Cascade Model (FSC) is a simple agent-based '\n",
      "                'network model that computes chain-reactions due to negative '\n",
      "                'production anomalies based on dynamic food balance sheets at '\n",
      "                'the country level.',\n",
      " 'has_documentation': ['https://github.com/mjpuma/FSC-WorldModelers'],\n",
      " 'has_model_category': ['Economic'],\n",
      " 'has_software_version': [{'id': 'FSC_0.1',\n",
      "                           'type': ['http://ontosoft.org/software#SoftwareVersion',\n",
      "                                    'https://w3id.org/mint/modelCatalog#ModelVersion']}],\n",
      " 'id': 'FSC',\n",
      " 'label': 'FSC',\n",
      " 'type': ['https://w3id.org/mint/modelCatalog#TheoryBasedModel',\n",
      "          'https://w3id.org/mint/modelCatalog#Model']}\n"
     ]
    }
   ],
   "source": [
    "from __future__ import print_function\n",
    "import time\n",
    "import mint_client\n",
    "from mint_client.rest import ApiException\n",
    "from pprint import pprint\n",
    "\n",
    "# create an instance of the API class\n",
    "api_instance = mint_client.ModelApi()\n",
    "username = 'modelservice' # str | To obtain the results maintained by the MINT project, you must not set up the variable. If you want the results of a user, you must set up the variable with the username (optional)\n",
    "\n",
    "model_id = model_label.split('instance/')[1]\n",
    "\n",
    "try:\n",
    "    # Get a Model\n",
    "    api_response = api_instance.get_model(model_id, username=username)\n",
    "    pprint(api_response)\n",
    "except ApiException as e:\n",
    "    print(\"Exception when calling ModelApi->get_model: %s\\n\" % e)"
   ]
  },
  {
   "cell_type": "markdown",
   "metadata": {},
   "source": [
    "# MINT Data Catalog Search\n",
    "\n",
    "We can try searching for `crops` and it will return an FSC input dataset:"
   ]
  },
  {
   "cell_type": "code",
   "execution_count": 59,
   "metadata": {},
   "outputs": [],
   "source": [
    "search_term = \"crops\"\n",
    "\n",
    "payload = {\n",
    "  \"provenance_id\": \"3831a57f-a372-424a-b310-525b5441581b\",\n",
    "  \"search_query\": [search_term] \n",
    "}\n",
    "\n",
    "response = requests.post('http://api.mint-data-catalog.org/datasets/jataware_search', data=json.dumps(payload))"
   ]
  },
  {
   "cell_type": "code",
   "execution_count": 60,
   "metadata": {},
   "outputs": [
    {
     "data": {
      "text/plain": [
       "[{'dataset_id': 'ecd711d4-d3f9-4807-9040-cefde9a6c576',\n",
       "  'dataset_name': 'Production_Crops_E_All_Data_(Normalized).csv',\n",
       "  'dataset_description': 'Normalized crop production by country from FAOSTAT',\n",
       "  'dataset_metadata': {'type': 'Input to FSC Model'},\n",
       "  'variables': [{'variable_id': '4c9619a5-1574-4ac2-a4fb-c4e9ffe25105',\n",
       "    'variable_name': 'Area',\n",
       "    'variable_metadata': {},\n",
       "    'standard_variables': [{'standard_variable_id': 'ce76c001-3e05-593e-af4f-e450b6cc1bc1',\n",
       "      'standard_variable_name': 'Country Name',\n",
       "      'standard_variable_uri': 'https://schema.org/Country'}]},\n",
       "   {'variable_id': '80dadf02-f54a-48ff-8591-d43461d1e3cc',\n",
       "    'variable_name': 'Year',\n",
       "    'variable_metadata': {},\n",
       "    'standard_variables': [{'standard_variable_id': 'df1daca4-d727-5dc8-bfa4-fb20c717a32b',\n",
       "      'standard_variable_name': 'year',\n",
       "      'standard_variable_uri': 'http://www.geoscienceontology.org/svo/svl/property#year'}]},\n",
       "   {'variable_id': '5157df00-d8a2-40c1-828d-f852e3125eee',\n",
       "    'variable_name': 'Item',\n",
       "    'variable_metadata': {},\n",
       "    'standard_variables': [{'standard_variable_id': '4350b567-805e-5bf5-bc41-35822ea57bfd',\n",
       "      'standard_variable_name': 'Type Specimens',\n",
       "      'standard_variable_uri': 'http://aims.fao.org/aos/agrovoc/c_08d19be4'}]},\n",
       "   {'variable_id': 'c0eaa16c-6fa5-49b3-af07-e05b87edbfb1',\n",
       "    'variable_name': 'Unit',\n",
       "    'variable_metadata': {},\n",
       "    'standard_variables': [{'standard_variable_id': 'c3a3fd4a-caba-555d-adaf-8a843c954999',\n",
       "      'standard_variable_name': 'Quantitative Value',\n",
       "      'standard_variable_uri': 'https://schema.org/QuantitativeValue'}]},\n",
       "   {'variable_id': '1134aa07-f9ce-4736-99fe-4d57547f78ac',\n",
       "    'variable_name': 'Value',\n",
       "    'variable_metadata': {},\n",
       "    'standard_variables': [{'standard_variable_id': '4760822e-0e1a-55fa-bd43-642ee981ed5f',\n",
       "      'standard_variable_name': 'Crop Production',\n",
       "      'standard_variable_uri': 'http://aims.fao.org/aos/agrovoc/c_5976'}]}]}]"
      ]
     },
     "execution_count": 60,
     "metadata": {},
     "output_type": "execute_result"
    }
   ],
   "source": [
    "response.json()['datasets']"
   ]
  },
  {
   "cell_type": "markdown",
   "metadata": {},
   "source": [
    "If we try to search for `year` (the name of a variable in that same dataset) we do not receive results:"
   ]
  },
  {
   "cell_type": "code",
   "execution_count": 61,
   "metadata": {},
   "outputs": [],
   "source": [
    "search_term = \"year\"\n",
    "\n",
    "payload = {\n",
    "  \"provenance_id\": \"3831a57f-a372-424a-b310-525b5441581b\",\n",
    "  \"search_query\": [search_term] \n",
    "}\n",
    "\n",
    "response = requests.post('http://api.mint-data-catalog.org/datasets/jataware_search', data=json.dumps(payload))"
   ]
  },
  {
   "cell_type": "code",
   "execution_count": 62,
   "metadata": {
    "scrolled": true
   },
   "outputs": [
    {
     "data": {
      "text/plain": [
       "{'result': 'success', 'datasets': []}"
      ]
     },
     "execution_count": 62,
     "metadata": {},
     "output_type": "execute_result"
    }
   ],
   "source": [
    "response.json()"
   ]
  }
 ],
 "metadata": {
  "kernelspec": {
   "display_name": "Python 3",
   "language": "python",
   "name": "python3"
  },
  "language_info": {
   "codemirror_mode": {
    "name": "ipython",
    "version": 3
   },
   "file_extension": ".py",
   "mimetype": "text/x-python",
   "name": "python",
   "nbconvert_exporter": "python",
   "pygments_lexer": "ipython3",
   "version": "3.7.3"
  }
 },
 "nbformat": 4,
 "nbformat_minor": 2
}
