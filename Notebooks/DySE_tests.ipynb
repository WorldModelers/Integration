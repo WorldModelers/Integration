{
 "cells": [
  {
   "cell_type": "code",
   "execution_count": 1,
   "metadata": {},
   "outputs": [],
   "source": [
    "import os\n",
    "import seaborn as sns\n",
    "from IPython.display import Image"
   ]
  },
  {
   "cell_type": "code",
   "execution_count": 2,
   "metadata": {},
   "outputs": [],
   "source": [
    "def read_contents(filename):\n",
    "    with open(filename) as this_file:\n",
    "        file_content = this_file.readlines()\n",
    "        \n",
    "    return file_content"
   ]
  },
  {
   "cell_type": "markdown",
   "metadata": {},
   "source": [
    "# DySE Framework"
   ]
  },
  {
   "cell_type": "markdown",
   "metadata": {},
   "source": [
    "### Load Model"
   ]
  },
  {
   "cell_type": "code",
   "execution_count": 3,
   "metadata": {},
   "outputs": [],
   "source": [
    "from Translation.model import get_model"
   ]
  },
  {
   "cell_type": "code",
   "execution_count": 4,
   "metadata": {},
   "outputs": [],
   "source": [
    "baseline_model_file = 'models/example_model_PCC.xlsx'\n",
    "dyse_baseline_model = get_model(baseline_model_file)"
   ]
  },
  {
   "cell_type": "code",
   "execution_count": 5,
   "metadata": {
    "scrolled": true
   },
   "outputs": [
    {
     "data": {
      "text/html": [
       "<div>\n",
       "<style scoped>\n",
       "    .dataframe tbody tr th:only-of-type {\n",
       "        vertical-align: middle;\n",
       "    }\n",
       "\n",
       "    .dataframe tbody tr th {\n",
       "        vertical-align: top;\n",
       "    }\n",
       "\n",
       "    .dataframe thead th {\n",
       "        text-align: right;\n",
       "    }\n",
       "</style>\n",
       "<table border=\"1\" class=\"dataframe\">\n",
       "  <thead>\n",
       "    <tr style=\"text-align: right;\">\n",
       "      <th></th>\n",
       "      <th>Element Name</th>\n",
       "      <th>Positive</th>\n",
       "      <th>Negative</th>\n",
       "      <th>Initial 0</th>\n",
       "    </tr>\n",
       "    <tr>\n",
       "      <th>Variable</th>\n",
       "      <th></th>\n",
       "      <th></th>\n",
       "      <th></th>\n",
       "      <th></th>\n",
       "    </tr>\n",
       "  </thead>\n",
       "  <tbody>\n",
       "    <tr>\n",
       "      <th>ADAMpf_memPCC</th>\n",
       "      <td>ADAM</td>\n",
       "      <td>PKCApn_cytoPCC,SRCpn_cytoPCC</td>\n",
       "      <td></td>\n",
       "      <td>1</td>\n",
       "    </tr>\n",
       "    <tr>\n",
       "      <th>AKTpf_cytoPCC</th>\n",
       "      <td>AKT</td>\n",
       "      <td>PDPK1pn_cytoPCC</td>\n",
       "      <td>ICMTpn_erPCC,PP2Apf_cytoPCC,AKTINHAKext_cytoPC...</td>\n",
       "      <td>1</td>\n",
       "    </tr>\n",
       "    <tr>\n",
       "      <th>AMPKpf_cytoPCC</th>\n",
       "      <td>AMPK</td>\n",
       "      <td>LKB1pn_cytoPCC</td>\n",
       "      <td></td>\n",
       "      <td>1</td>\n",
       "    </tr>\n",
       "    <tr>\n",
       "      <th>AP1pf_nucPCC</th>\n",
       "      <td>AP1</td>\n",
       "      <td>{FOSpn_nucPCC,JNKpf_nucPCC}</td>\n",
       "      <td></td>\n",
       "      <td>1</td>\n",
       "    </tr>\n",
       "    <tr>\n",
       "      <th>ARFpn_nucPCC</th>\n",
       "      <td>ARF</td>\n",
       "      <td>E2Fpf_nucPCC</td>\n",
       "      <td></td>\n",
       "      <td>1</td>\n",
       "    </tr>\n",
       "    <tr>\n",
       "      <th>ASKpf_cytoPCC</th>\n",
       "      <td>ASK</td>\n",
       "      <td>THIOREDOXINpn_cytoPCC,TRAFpf_cytoPCC</td>\n",
       "      <td></td>\n",
       "      <td>1</td>\n",
       "    </tr>\n",
       "    <tr>\n",
       "      <th>ATG4Apf_cytoPCC</th>\n",
       "      <td>ATG4A</td>\n",
       "      <td>ATG4Arna_nucPCC</td>\n",
       "      <td></td>\n",
       "      <td>1</td>\n",
       "    </tr>\n",
       "    <tr>\n",
       "      <th>ATG4Arna_nucPCC</th>\n",
       "      <td>ATG4A</td>\n",
       "      <td>ATG4Agene_nucPCC</td>\n",
       "      <td></td>\n",
       "      <td>1</td>\n",
       "    </tr>\n",
       "    <tr>\n",
       "      <th>ATG4Agene_nucPCC</th>\n",
       "      <td>ATG4A</td>\n",
       "      <td>HIF1Apn_nucPCC,JNKpf_nucPCC</td>\n",
       "      <td></td>\n",
       "      <td>1</td>\n",
       "    </tr>\n",
       "    <tr>\n",
       "      <th>ATMpn_cytoPCC</th>\n",
       "      <td>ATM</td>\n",
       "      <td>ROSche_cytoPCC</td>\n",
       "      <td></td>\n",
       "      <td>1</td>\n",
       "    </tr>\n",
       "    <tr>\n",
       "      <th>ATMpn_nucPCC</th>\n",
       "      <td>ATM</td>\n",
       "      <td>{ATMrna_nucPCC}[MRNpn_nucPCC],DNADAMbp_nucPCC</td>\n",
       "      <td></td>\n",
       "      <td>1</td>\n",
       "    </tr>\n",
       "    <tr>\n",
       "      <th>ATMrna_nucPCC</th>\n",
       "      <td>ATM</td>\n",
       "      <td>ATMgene_nucPCC</td>\n",
       "      <td></td>\n",
       "      <td>1</td>\n",
       "    </tr>\n",
       "    <tr>\n",
       "      <th>ATMgene_nucPCC</th>\n",
       "      <td>ATM</td>\n",
       "      <td>ERKpf_nucPCC</td>\n",
       "      <td></td>\n",
       "      <td>1</td>\n",
       "    </tr>\n",
       "    <tr>\n",
       "      <th>BECNgene_nucPCC</th>\n",
       "      <td>BECN</td>\n",
       "      <td>HIF1Apn_nucPCC,JNKpf_nucPCC</td>\n",
       "      <td></td>\n",
       "      <td>1</td>\n",
       "    </tr>\n",
       "    <tr>\n",
       "      <th>BECNrna_nucPCC</th>\n",
       "      <td>BECN</td>\n",
       "      <td>BECNgene_nucPCC</td>\n",
       "      <td></td>\n",
       "      <td>1</td>\n",
       "    </tr>\n",
       "    <tr>\n",
       "      <th>BECNpn_cytoPCC</th>\n",
       "      <td>BECN</td>\n",
       "      <td>BECNrna_nucPCC</td>\n",
       "      <td>BCL2pf_mitoPCC</td>\n",
       "      <td>1</td>\n",
       "    </tr>\n",
       "    <tr>\n",
       "      <th>BCL2gene_nucPCC</th>\n",
       "      <td>BCL2</td>\n",
       "      <td>STAT3pn_nucPCC</td>\n",
       "      <td></td>\n",
       "      <td>1</td>\n",
       "    </tr>\n",
       "    <tr>\n",
       "      <th>BCL2rna_nucPCC</th>\n",
       "      <td>BCL2</td>\n",
       "      <td>BCL2gene_nucPCC</td>\n",
       "      <td></td>\n",
       "      <td>1</td>\n",
       "    </tr>\n",
       "    <tr>\n",
       "      <th>BCL2pf_mitoPCC</th>\n",
       "      <td>BCL2</td>\n",
       "      <td>NFKBpf_cytoPCC,BCL2rna_nucPCC</td>\n",
       "      <td>PUMApn_cytoPCC</td>\n",
       "      <td>1</td>\n",
       "    </tr>\n",
       "    <tr>\n",
       "      <th>CAS8pf_cytoPCC</th>\n",
       "      <td>CAS8</td>\n",
       "      <td>FADDpn_cytoPCC</td>\n",
       "      <td></td>\n",
       "      <td>1</td>\n",
       "    </tr>\n",
       "    <tr>\n",
       "      <th>CCL2pn_ex</th>\n",
       "      <td>CCL2</td>\n",
       "      <td></td>\n",
       "      <td></td>\n",
       "      <td>1</td>\n",
       "    </tr>\n",
       "    <tr>\n",
       "      <th>CCL2rna_nucMAC</th>\n",
       "      <td>CCL2</td>\n",
       "      <td></td>\n",
       "      <td></td>\n",
       "      <td>1</td>\n",
       "    </tr>\n",
       "    <tr>\n",
       "      <th>CCL2gene_nucMAC</th>\n",
       "      <td>CCL2</td>\n",
       "      <td></td>\n",
       "      <td></td>\n",
       "      <td>1</td>\n",
       "    </tr>\n",
       "    <tr>\n",
       "      <th>CCND1gene_nucPCC</th>\n",
       "      <td>CCND1</td>\n",
       "      <td>E2Fpf_nucPCC,STAT3pn_nucPCC</td>\n",
       "      <td></td>\n",
       "      <td>1</td>\n",
       "    </tr>\n",
       "    <tr>\n",
       "      <th>CCND1rna_nucPCC</th>\n",
       "      <td>CCND1</td>\n",
       "      <td>CCND1gene_nucPCC</td>\n",
       "      <td></td>\n",
       "      <td>1</td>\n",
       "    </tr>\n",
       "    <tr>\n",
       "      <th>CCND1pn_nucPCC</th>\n",
       "      <td>CCND1</td>\n",
       "      <td>CCND1rna_nucPCC</td>\n",
       "      <td></td>\n",
       "      <td>1</td>\n",
       "    </tr>\n",
       "    <tr>\n",
       "      <th>CCNE1gene_nucPCC</th>\n",
       "      <td>CCNE1</td>\n",
       "      <td>CCND1pn_nucPCC,MYCpn_nucPCC</td>\n",
       "      <td></td>\n",
       "      <td>1</td>\n",
       "    </tr>\n",
       "    <tr>\n",
       "      <th>CCNE1rna_nucPCC</th>\n",
       "      <td>CCNE1</td>\n",
       "      <td>CCNE1gene_nucPCC</td>\n",
       "      <td></td>\n",
       "      <td>1</td>\n",
       "    </tr>\n",
       "    <tr>\n",
       "      <th>CCNE1pn_nucPCC</th>\n",
       "      <td>CCNE1</td>\n",
       "      <td>CCNE1rna_nucPCC</td>\n",
       "      <td></td>\n",
       "      <td>1</td>\n",
       "    </tr>\n",
       "    <tr>\n",
       "      <th>CCL2R_ACTpn_memMAC</th>\n",
       "      <td>CCR2</td>\n",
       "      <td></td>\n",
       "      <td></td>\n",
       "      <td>1</td>\n",
       "    </tr>\n",
       "    <tr>\n",
       "      <th>...</th>\n",
       "      <td>...</td>\n",
       "      <td>...</td>\n",
       "      <td>...</td>\n",
       "      <td>...</td>\n",
       "    </tr>\n",
       "    <tr>\n",
       "      <th>APOPTOSISbp_cytoPCC</th>\n",
       "      <td>APOPTOSIS</td>\n",
       "      <td>CAS8pf_cytoPCC,PUMArna_nucPCC</td>\n",
       "      <td>BCL2pf_mitoPCC,NFKBpf_cytoPCC</td>\n",
       "      <td>1</td>\n",
       "    </tr>\n",
       "    <tr>\n",
       "      <th>AUTOPHAGYbp_cytoPCC</th>\n",
       "      <td>AUTOPHAGY</td>\n",
       "      <td>{ATG4Apf_cytoPCC}[BECNpn_cytoPCC],LACTATEche_ex</td>\n",
       "      <td>MTORpf_cytoPCC,OXPHOSbp_mitoPCC</td>\n",
       "      <td>1</td>\n",
       "    </tr>\n",
       "    <tr>\n",
       "      <th>CCAbp_nucPCC</th>\n",
       "      <td>CCA</td>\n",
       "      <td>P21rna_nucPCC,P53rna_nucPCC,ATMpn_nucPCC</td>\n",
       "      <td>CCND1pn_nucPCC,CCNE1pn_nucPCC</td>\n",
       "      <td>1</td>\n",
       "    </tr>\n",
       "    <tr>\n",
       "      <th>DNADAMbp_nucPCC</th>\n",
       "      <td>DNADAM</td>\n",
       "      <td>ROSche_nucPCC</td>\n",
       "      <td>P53pn_nucPCC</td>\n",
       "      <td>1</td>\n",
       "    </tr>\n",
       "    <tr>\n",
       "      <th>IMMUNEbp_nucPCC</th>\n",
       "      <td>IMMUNE</td>\n",
       "      <td>IFNGpn_ex</td>\n",
       "      <td>TGFB1pn_ex</td>\n",
       "      <td>1</td>\n",
       "    </tr>\n",
       "    <tr>\n",
       "      <th>INFLAMMATORYbp_nucPCC</th>\n",
       "      <td>INFLAMMATORY</td>\n",
       "      <td>IL1Bpn_ex,TNFApn_ex,IL6pn_ex</td>\n",
       "      <td>TGFB1pn_ex,IL10pn_ex</td>\n",
       "      <td>1</td>\n",
       "    </tr>\n",
       "    <tr>\n",
       "      <th>OXPHOSbp_mitoPCC</th>\n",
       "      <td>OXPHOS</td>\n",
       "      <td>TCAKREBSbp_mitoPCC</td>\n",
       "      <td>DNADAMbp_nucPCC</td>\n",
       "      <td>1</td>\n",
       "    </tr>\n",
       "    <tr>\n",
       "      <th>PROLIFERATIONbp_nucPCC</th>\n",
       "      <td>PROLIFERATION</td>\n",
       "      <td>AP1pf_nucPCC,STAT3pn_nucPCC,TERTpf_nucPCC</td>\n",
       "      <td>SMAD3pf_nucPCC,CCAbp_nucPCC</td>\n",
       "      <td>1</td>\n",
       "    </tr>\n",
       "    <tr>\n",
       "      <th>INJURYbp_memPCC</th>\n",
       "      <td>INJURY</td>\n",
       "      <td></td>\n",
       "      <td></td>\n",
       "      <td>1</td>\n",
       "    </tr>\n",
       "    <tr>\n",
       "      <th>MUTBRAFext_cytoPCC</th>\n",
       "      <td>MUTBRAF</td>\n",
       "      <td></td>\n",
       "      <td></td>\n",
       "      <td>1</td>\n",
       "    </tr>\n",
       "    <tr>\n",
       "      <th>MUTPTENext_cytoPCC</th>\n",
       "      <td>MUTPTEN</td>\n",
       "      <td></td>\n",
       "      <td></td>\n",
       "      <td>1</td>\n",
       "    </tr>\n",
       "    <tr>\n",
       "      <th>MUTCDN2Aext_nucPCC</th>\n",
       "      <td>MUTCDN2A</td>\n",
       "      <td></td>\n",
       "      <td></td>\n",
       "      <td>1</td>\n",
       "    </tr>\n",
       "    <tr>\n",
       "      <th>EXP21ext_nucPCC</th>\n",
       "      <td>EXP21</td>\n",
       "      <td></td>\n",
       "      <td></td>\n",
       "      <td>1</td>\n",
       "    </tr>\n",
       "    <tr>\n",
       "      <th>GSK3ABext_cytoPCC</th>\n",
       "      <td>GSK3AB</td>\n",
       "      <td></td>\n",
       "      <td></td>\n",
       "      <td>1</td>\n",
       "    </tr>\n",
       "    <tr>\n",
       "      <th>S6ext_cytoPCC</th>\n",
       "      <td>S6</td>\n",
       "      <td></td>\n",
       "      <td></td>\n",
       "      <td>1</td>\n",
       "    </tr>\n",
       "    <tr>\n",
       "      <th>CDK4ext_nucPCC</th>\n",
       "      <td>CDK4</td>\n",
       "      <td></td>\n",
       "      <td>CDK4INHRYext_nucPCC,CDK4INHRYext_nucPCC</td>\n",
       "      <td>1</td>\n",
       "    </tr>\n",
       "    <tr>\n",
       "      <th>ele_4EBP1ext_nucPCC</th>\n",
       "      <td>4EBP1</td>\n",
       "      <td></td>\n",
       "      <td></td>\n",
       "      <td>1</td>\n",
       "    </tr>\n",
       "    <tr>\n",
       "      <th>YB1ext_nucPCC</th>\n",
       "      <td>YB1</td>\n",
       "      <td></td>\n",
       "      <td></td>\n",
       "      <td>1</td>\n",
       "    </tr>\n",
       "    <tr>\n",
       "      <th>PRAS40ext_cytoPCC</th>\n",
       "      <td>PRAS40</td>\n",
       "      <td></td>\n",
       "      <td></td>\n",
       "      <td>1</td>\n",
       "    </tr>\n",
       "    <tr>\n",
       "      <th>MEKINH901ext_cytoPCC</th>\n",
       "      <td>MEKINH901</td>\n",
       "      <td></td>\n",
       "      <td></td>\n",
       "      <td>1</td>\n",
       "    </tr>\n",
       "    <tr>\n",
       "      <th>AKTINHAKext_cytoPCC</th>\n",
       "      <td>AKTINHAK</td>\n",
       "      <td></td>\n",
       "      <td></td>\n",
       "      <td>1</td>\n",
       "    </tr>\n",
       "    <tr>\n",
       "      <th>PKCINHROext_cytoPCC</th>\n",
       "      <td>PKCINHRO</td>\n",
       "      <td></td>\n",
       "      <td></td>\n",
       "      <td>1</td>\n",
       "    </tr>\n",
       "    <tr>\n",
       "      <th>CDK4INHRYext_nucPCC</th>\n",
       "      <td>CDK4INHRY</td>\n",
       "      <td></td>\n",
       "      <td></td>\n",
       "      <td>1</td>\n",
       "    </tr>\n",
       "    <tr>\n",
       "      <th>SRCINHSRext_cytoPCC</th>\n",
       "      <td>SRCINHSR</td>\n",
       "      <td></td>\n",
       "      <td></td>\n",
       "      <td>1</td>\n",
       "    </tr>\n",
       "    <tr>\n",
       "      <th>MTORINHTMext_cytoPCC</th>\n",
       "      <td>MTORINHTM</td>\n",
       "      <td></td>\n",
       "      <td></td>\n",
       "      <td>1</td>\n",
       "    </tr>\n",
       "    <tr>\n",
       "      <th>PI3KINHZSext_cytoPCC</th>\n",
       "      <td>PI3KINHZS</td>\n",
       "      <td></td>\n",
       "      <td></td>\n",
       "      <td>1</td>\n",
       "    </tr>\n",
       "    <tr>\n",
       "      <th>RIGIext_cytoPCC</th>\n",
       "      <td>RIG_I</td>\n",
       "      <td></td>\n",
       "      <td></td>\n",
       "      <td>1</td>\n",
       "    </tr>\n",
       "    <tr>\n",
       "      <th>P27ext_nucPCC</th>\n",
       "      <td>P27</td>\n",
       "      <td></td>\n",
       "      <td></td>\n",
       "      <td>1</td>\n",
       "    </tr>\n",
       "    <tr>\n",
       "      <th>SKP2ext_nucPCC</th>\n",
       "      <td>SKP2</td>\n",
       "      <td></td>\n",
       "      <td></td>\n",
       "      <td>1</td>\n",
       "    </tr>\n",
       "    <tr>\n",
       "      <th>mTORC2ext_cytoPCC</th>\n",
       "      <td>mTORC2</td>\n",
       "      <td></td>\n",
       "      <td></td>\n",
       "      <td>1</td>\n",
       "    </tr>\n",
       "  </tbody>\n",
       "</table>\n",
       "<p>257 rows × 4 columns</p>\n",
       "</div>"
      ],
      "text/plain": [
       "                         Element Name  \\\n",
       "Variable                                \n",
       "ADAMpf_memPCC                    ADAM   \n",
       "AKTpf_cytoPCC                     AKT   \n",
       "AMPKpf_cytoPCC                   AMPK   \n",
       "AP1pf_nucPCC                      AP1   \n",
       "ARFpn_nucPCC                      ARF   \n",
       "ASKpf_cytoPCC                     ASK   \n",
       "ATG4Apf_cytoPCC                 ATG4A   \n",
       "ATG4Arna_nucPCC                 ATG4A   \n",
       "ATG4Agene_nucPCC                ATG4A   \n",
       "ATMpn_cytoPCC                     ATM   \n",
       "ATMpn_nucPCC                      ATM   \n",
       "ATMrna_nucPCC                     ATM   \n",
       "ATMgene_nucPCC                    ATM   \n",
       "BECNgene_nucPCC                  BECN   \n",
       "BECNrna_nucPCC                   BECN   \n",
       "BECNpn_cytoPCC                   BECN   \n",
       "BCL2gene_nucPCC                  BCL2   \n",
       "BCL2rna_nucPCC                   BCL2   \n",
       "BCL2pf_mitoPCC                   BCL2   \n",
       "CAS8pf_cytoPCC                   CAS8   \n",
       "CCL2pn_ex                        CCL2   \n",
       "CCL2rna_nucMAC                   CCL2   \n",
       "CCL2gene_nucMAC                  CCL2   \n",
       "CCND1gene_nucPCC                CCND1   \n",
       "CCND1rna_nucPCC                 CCND1   \n",
       "CCND1pn_nucPCC                  CCND1   \n",
       "CCNE1gene_nucPCC                CCNE1   \n",
       "CCNE1rna_nucPCC                 CCNE1   \n",
       "CCNE1pn_nucPCC                  CCNE1   \n",
       "CCL2R_ACTpn_memMAC               CCR2   \n",
       "...                               ...   \n",
       "APOPTOSISbp_cytoPCC         APOPTOSIS   \n",
       "AUTOPHAGYbp_cytoPCC         AUTOPHAGY   \n",
       "CCAbp_nucPCC                      CCA   \n",
       "DNADAMbp_nucPCC                DNADAM   \n",
       "IMMUNEbp_nucPCC                IMMUNE   \n",
       "INFLAMMATORYbp_nucPCC    INFLAMMATORY   \n",
       "OXPHOSbp_mitoPCC               OXPHOS   \n",
       "PROLIFERATIONbp_nucPCC  PROLIFERATION   \n",
       "INJURYbp_memPCC                INJURY   \n",
       "MUTBRAFext_cytoPCC            MUTBRAF   \n",
       "MUTPTENext_cytoPCC            MUTPTEN   \n",
       "MUTCDN2Aext_nucPCC           MUTCDN2A   \n",
       "EXP21ext_nucPCC                 EXP21   \n",
       "GSK3ABext_cytoPCC              GSK3AB   \n",
       "S6ext_cytoPCC                      S6   \n",
       "CDK4ext_nucPCC                   CDK4   \n",
       "ele_4EBP1ext_nucPCC             4EBP1   \n",
       "YB1ext_nucPCC                     YB1   \n",
       "PRAS40ext_cytoPCC              PRAS40   \n",
       "MEKINH901ext_cytoPCC        MEKINH901   \n",
       "AKTINHAKext_cytoPCC          AKTINHAK   \n",
       "PKCINHROext_cytoPCC          PKCINHRO   \n",
       "CDK4INHRYext_nucPCC         CDK4INHRY   \n",
       "SRCINHSRext_cytoPCC          SRCINHSR   \n",
       "MTORINHTMext_cytoPCC        MTORINHTM   \n",
       "PI3KINHZSext_cytoPCC        PI3KINHZS   \n",
       "RIGIext_cytoPCC                 RIG_I   \n",
       "P27ext_nucPCC                     P27   \n",
       "SKP2ext_nucPCC                   SKP2   \n",
       "mTORC2ext_cytoPCC              mTORC2   \n",
       "\n",
       "                                                               Positive  \\\n",
       "Variable                                                                  \n",
       "ADAMpf_memPCC                              PKCApn_cytoPCC,SRCpn_cytoPCC   \n",
       "AKTpf_cytoPCC                                           PDPK1pn_cytoPCC   \n",
       "AMPKpf_cytoPCC                                           LKB1pn_cytoPCC   \n",
       "AP1pf_nucPCC                                {FOSpn_nucPCC,JNKpf_nucPCC}   \n",
       "ARFpn_nucPCC                                               E2Fpf_nucPCC   \n",
       "ASKpf_cytoPCC                      THIOREDOXINpn_cytoPCC,TRAFpf_cytoPCC   \n",
       "ATG4Apf_cytoPCC                                         ATG4Arna_nucPCC   \n",
       "ATG4Arna_nucPCC                                        ATG4Agene_nucPCC   \n",
       "ATG4Agene_nucPCC                            HIF1Apn_nucPCC,JNKpf_nucPCC   \n",
       "ATMpn_cytoPCC                                            ROSche_cytoPCC   \n",
       "ATMpn_nucPCC              {ATMrna_nucPCC}[MRNpn_nucPCC],DNADAMbp_nucPCC   \n",
       "ATMrna_nucPCC                                            ATMgene_nucPCC   \n",
       "ATMgene_nucPCC                                             ERKpf_nucPCC   \n",
       "BECNgene_nucPCC                             HIF1Apn_nucPCC,JNKpf_nucPCC   \n",
       "BECNrna_nucPCC                                          BECNgene_nucPCC   \n",
       "BECNpn_cytoPCC                                           BECNrna_nucPCC   \n",
       "BCL2gene_nucPCC                                          STAT3pn_nucPCC   \n",
       "BCL2rna_nucPCC                                          BCL2gene_nucPCC   \n",
       "BCL2pf_mitoPCC                            NFKBpf_cytoPCC,BCL2rna_nucPCC   \n",
       "CAS8pf_cytoPCC                                           FADDpn_cytoPCC   \n",
       "CCL2pn_ex                                                                 \n",
       "CCL2rna_nucMAC                                                            \n",
       "CCL2gene_nucMAC                                                           \n",
       "CCND1gene_nucPCC                            E2Fpf_nucPCC,STAT3pn_nucPCC   \n",
       "CCND1rna_nucPCC                                        CCND1gene_nucPCC   \n",
       "CCND1pn_nucPCC                                          CCND1rna_nucPCC   \n",
       "CCNE1gene_nucPCC                            CCND1pn_nucPCC,MYCpn_nucPCC   \n",
       "CCNE1rna_nucPCC                                        CCNE1gene_nucPCC   \n",
       "CCNE1pn_nucPCC                                          CCNE1rna_nucPCC   \n",
       "CCL2R_ACTpn_memMAC                                                        \n",
       "...                                                                 ...   \n",
       "APOPTOSISbp_cytoPCC                       CAS8pf_cytoPCC,PUMArna_nucPCC   \n",
       "AUTOPHAGYbp_cytoPCC     {ATG4Apf_cytoPCC}[BECNpn_cytoPCC],LACTATEche_ex   \n",
       "CCAbp_nucPCC                   P21rna_nucPCC,P53rna_nucPCC,ATMpn_nucPCC   \n",
       "DNADAMbp_nucPCC                                           ROSche_nucPCC   \n",
       "IMMUNEbp_nucPCC                                               IFNGpn_ex   \n",
       "INFLAMMATORYbp_nucPCC                      IL1Bpn_ex,TNFApn_ex,IL6pn_ex   \n",
       "OXPHOSbp_mitoPCC                                     TCAKREBSbp_mitoPCC   \n",
       "PROLIFERATIONbp_nucPCC        AP1pf_nucPCC,STAT3pn_nucPCC,TERTpf_nucPCC   \n",
       "INJURYbp_memPCC                                                           \n",
       "MUTBRAFext_cytoPCC                                                        \n",
       "MUTPTENext_cytoPCC                                                        \n",
       "MUTCDN2Aext_nucPCC                                                        \n",
       "EXP21ext_nucPCC                                                           \n",
       "GSK3ABext_cytoPCC                                                         \n",
       "S6ext_cytoPCC                                                             \n",
       "CDK4ext_nucPCC                                                            \n",
       "ele_4EBP1ext_nucPCC                                                       \n",
       "YB1ext_nucPCC                                                             \n",
       "PRAS40ext_cytoPCC                                                         \n",
       "MEKINH901ext_cytoPCC                                                      \n",
       "AKTINHAKext_cytoPCC                                                       \n",
       "PKCINHROext_cytoPCC                                                       \n",
       "CDK4INHRYext_nucPCC                                                       \n",
       "SRCINHSRext_cytoPCC                                                       \n",
       "MTORINHTMext_cytoPCC                                                      \n",
       "PI3KINHZSext_cytoPCC                                                      \n",
       "RIGIext_cytoPCC                                                           \n",
       "P27ext_nucPCC                                                             \n",
       "SKP2ext_nucPCC                                                            \n",
       "mTORC2ext_cytoPCC                                                         \n",
       "\n",
       "                                                                 Negative  \\\n",
       "Variable                                                                    \n",
       "ADAMpf_memPCC                                                               \n",
       "AKTpf_cytoPCC           ICMTpn_erPCC,PP2Apf_cytoPCC,AKTINHAKext_cytoPC...   \n",
       "AMPKpf_cytoPCC                                                              \n",
       "AP1pf_nucPCC                                                                \n",
       "ARFpn_nucPCC                                                                \n",
       "ASKpf_cytoPCC                                                               \n",
       "ATG4Apf_cytoPCC                                                             \n",
       "ATG4Arna_nucPCC                                                             \n",
       "ATG4Agene_nucPCC                                                            \n",
       "ATMpn_cytoPCC                                                               \n",
       "ATMpn_nucPCC                                                                \n",
       "ATMrna_nucPCC                                                               \n",
       "ATMgene_nucPCC                                                              \n",
       "BECNgene_nucPCC                                                             \n",
       "BECNrna_nucPCC                                                              \n",
       "BECNpn_cytoPCC                                             BCL2pf_mitoPCC   \n",
       "BCL2gene_nucPCC                                                             \n",
       "BCL2rna_nucPCC                                                              \n",
       "BCL2pf_mitoPCC                                             PUMApn_cytoPCC   \n",
       "CAS8pf_cytoPCC                                                              \n",
       "CCL2pn_ex                                                                   \n",
       "CCL2rna_nucMAC                                                              \n",
       "CCL2gene_nucMAC                                                             \n",
       "CCND1gene_nucPCC                                                            \n",
       "CCND1rna_nucPCC                                                             \n",
       "CCND1pn_nucPCC                                                              \n",
       "CCNE1gene_nucPCC                                                            \n",
       "CCNE1rna_nucPCC                                                             \n",
       "CCNE1pn_nucPCC                                                              \n",
       "CCL2R_ACTpn_memMAC                                                          \n",
       "...                                                                   ...   \n",
       "APOPTOSISbp_cytoPCC                         BCL2pf_mitoPCC,NFKBpf_cytoPCC   \n",
       "AUTOPHAGYbp_cytoPCC                       MTORpf_cytoPCC,OXPHOSbp_mitoPCC   \n",
       "CCAbp_nucPCC                                CCND1pn_nucPCC,CCNE1pn_nucPCC   \n",
       "DNADAMbp_nucPCC                                              P53pn_nucPCC   \n",
       "IMMUNEbp_nucPCC                                                TGFB1pn_ex   \n",
       "INFLAMMATORYbp_nucPCC                                TGFB1pn_ex,IL10pn_ex   \n",
       "OXPHOSbp_mitoPCC                                          DNADAMbp_nucPCC   \n",
       "PROLIFERATIONbp_nucPCC                        SMAD3pf_nucPCC,CCAbp_nucPCC   \n",
       "INJURYbp_memPCC                                                             \n",
       "MUTBRAFext_cytoPCC                                                          \n",
       "MUTPTENext_cytoPCC                                                          \n",
       "MUTCDN2Aext_nucPCC                                                          \n",
       "EXP21ext_nucPCC                                                             \n",
       "GSK3ABext_cytoPCC                                                           \n",
       "S6ext_cytoPCC                                                               \n",
       "CDK4ext_nucPCC                    CDK4INHRYext_nucPCC,CDK4INHRYext_nucPCC   \n",
       "ele_4EBP1ext_nucPCC                                                         \n",
       "YB1ext_nucPCC                                                               \n",
       "PRAS40ext_cytoPCC                                                           \n",
       "MEKINH901ext_cytoPCC                                                        \n",
       "AKTINHAKext_cytoPCC                                                         \n",
       "PKCINHROext_cytoPCC                                                         \n",
       "CDK4INHRYext_nucPCC                                                         \n",
       "SRCINHSRext_cytoPCC                                                         \n",
       "MTORINHTMext_cytoPCC                                                        \n",
       "PI3KINHZSext_cytoPCC                                                        \n",
       "RIGIext_cytoPCC                                                             \n",
       "P27ext_nucPCC                                                               \n",
       "SKP2ext_nucPCC                                                              \n",
       "mTORC2ext_cytoPCC                                                           \n",
       "\n",
       "                        Initial 0  \n",
       "Variable                           \n",
       "ADAMpf_memPCC                   1  \n",
       "AKTpf_cytoPCC                   1  \n",
       "AMPKpf_cytoPCC                  1  \n",
       "AP1pf_nucPCC                    1  \n",
       "ARFpn_nucPCC                    1  \n",
       "ASKpf_cytoPCC                   1  \n",
       "ATG4Apf_cytoPCC                 1  \n",
       "ATG4Arna_nucPCC                 1  \n",
       "ATG4Agene_nucPCC                1  \n",
       "ATMpn_cytoPCC                   1  \n",
       "ATMpn_nucPCC                    1  \n",
       "ATMrna_nucPCC                   1  \n",
       "ATMgene_nucPCC                  1  \n",
       "BECNgene_nucPCC                 1  \n",
       "BECNrna_nucPCC                  1  \n",
       "BECNpn_cytoPCC                  1  \n",
       "BCL2gene_nucPCC                 1  \n",
       "BCL2rna_nucPCC                  1  \n",
       "BCL2pf_mitoPCC                  1  \n",
       "CAS8pf_cytoPCC                  1  \n",
       "CCL2pn_ex                       1  \n",
       "CCL2rna_nucMAC                  1  \n",
       "CCL2gene_nucMAC                 1  \n",
       "CCND1gene_nucPCC                1  \n",
       "CCND1rna_nucPCC                 1  \n",
       "CCND1pn_nucPCC                  1  \n",
       "CCNE1gene_nucPCC                1  \n",
       "CCNE1rna_nucPCC                 1  \n",
       "CCNE1pn_nucPCC                  1  \n",
       "CCL2R_ACTpn_memMAC              1  \n",
       "...                           ...  \n",
       "APOPTOSISbp_cytoPCC             1  \n",
       "AUTOPHAGYbp_cytoPCC             1  \n",
       "CCAbp_nucPCC                    1  \n",
       "DNADAMbp_nucPCC                 1  \n",
       "IMMUNEbp_nucPCC                 1  \n",
       "INFLAMMATORYbp_nucPCC           1  \n",
       "OXPHOSbp_mitoPCC                1  \n",
       "PROLIFERATIONbp_nucPCC          1  \n",
       "INJURYbp_memPCC                 1  \n",
       "MUTBRAFext_cytoPCC              1  \n",
       "MUTPTENext_cytoPCC              1  \n",
       "MUTCDN2Aext_nucPCC              1  \n",
       "EXP21ext_nucPCC                 1  \n",
       "GSK3ABext_cytoPCC               1  \n",
       "S6ext_cytoPCC                   1  \n",
       "CDK4ext_nucPCC                  1  \n",
       "ele_4EBP1ext_nucPCC             1  \n",
       "YB1ext_nucPCC                   1  \n",
       "PRAS40ext_cytoPCC               1  \n",
       "MEKINH901ext_cytoPCC            1  \n",
       "AKTINHAKext_cytoPCC             1  \n",
       "PKCINHROext_cytoPCC             1  \n",
       "CDK4INHRYext_nucPCC             1  \n",
       "SRCINHSRext_cytoPCC             1  \n",
       "MTORINHTMext_cytoPCC            1  \n",
       "PI3KINHZSext_cytoPCC            1  \n",
       "RIGIext_cytoPCC                 1  \n",
       "P27ext_nucPCC                   1  \n",
       "SKP2ext_nucPCC                  1  \n",
       "mTORC2ext_cytoPCC               1  \n",
       "\n",
       "[257 rows x 4 columns]"
      ]
     },
     "execution_count": 5,
     "metadata": {},
     "output_type": "execute_result"
    }
   ],
   "source": [
    "# display a subset of model columns \n",
    "dyse_baseline_model[['Element Name','Positive','Negative','Initial 0']]"
   ]
  },
  {
   "cell_type": "markdown",
   "metadata": {},
   "source": [
    "### Simulate"
   ]
  },
  {
   "cell_type": "code",
   "execution_count": 6,
   "metadata": {},
   "outputs": [],
   "source": [
    "from Simulation.Simulator_Python import simulator_interface"
   ]
  },
  {
   "cell_type": "code",
   "execution_count": 7,
   "metadata": {},
   "outputs": [],
   "source": [
    "simulation_trace_file = 'traces/example_traces_PCC.txt'"
   ]
  },
  {
   "cell_type": "code",
   "execution_count": 8,
   "metadata": {},
   "outputs": [],
   "source": [
    "# simulate the baseline model\n",
    "simulator_interface.setup_and_run_simulation(\n",
    "    baseline_model_file, simulation_trace_file, \n",
    "    steps=200, runs=100, outputFormat=1)"
   ]
  },
  {
   "cell_type": "code",
   "execution_count": 9,
   "metadata": {
    "scrolled": true
   },
   "outputs": [
    {
     "name": "stdout",
     "output_type": "stream",
     "text": [
      "['Run #0\\n', 'ACIDICMEbp_ex|3| 1 1 1 1 1 1 1 1 1 1 1 1 1 1 1 1 1 1 1 1 1 1 1 1 1 1 1 1 1 1 1 1 1 1 1 1 1 1 1 1 1 1 1 1 1 1 1 1 1 1 1 1 1 1 1 1 1 1 1 1 1 1 1 1 1 1 1 1 1 1 1 1 1 1 1 1 1 1 1 1 1 1 1 1 1 1 1 1 1 1 1 1 1 1 1 1 1 1 1 1 1 1 1 1 1 1 1 1 1 1 1 1 1 1 1 1 1 1 1 1 1 1 1 1 1 1 1 1 1 1 1 1 1 1 1 1 1 1 1 1 1 1 1 1 1 1 1 1 1 1 1 1 1 1 1 1 1 1 1 1 1 1 1 1 1 1 1 1 1 1 1 1 1 1 1 1 1 1 1 1 1 1 1 1 1 1 1 1 1 1 1 1 2 2 2 2 2 2 2 2 2\\n', 'ADAMpf_memPCC|3| 1 1 1 1 1 1 1 1 1 1 1 1 1 1 1 1 1 1 1 1 1 1 1 1 1 1 1 1 1 1 1 1 1 1 1 1 1 1 1 1 1 1 1 1 1 1 1 1 1 1 1 1 1 1 1 1 1 1 1 1 1 1 1 1 1 1 1 1 1 1 1 1 1 1 1 1 1 1 1 1 1 1 1 1 1 1 1 1 1 1 1 1 1 1 1 1 1 1 1 1 1 1 1 1 1 1 1 1 1 1 1 1 1 1 1 1 1 1 1 1 1 1 1 1 1 1 1 1 1 1 1 1 1 1 1 1 1 1 1 1 1 1 1 1 1 1 1 1 1 1 1 1 1 1 1 1 1 1 1 1 1 1 1 1 1 1 1 1 1 1 1 1 1 1 1 1 1 1 1 1 1 1 1 1 1 1 1 1 1 1 1 1 1 1 1 1 1 1 1 1 1\\n', 'AKTINHAKext_cytoPCC|3| 1 1 1 1 1 1 1 1 1 1 1 1 1 1 1 1 1 1 1 1 1 1 1 1 1 1 1 1 1 1 1 1 1 1 1 1 1 1 1 1 1 1 1 1 1 1 1 1 1 1 1 1 1 1 1 1 1 1 1 1 1 1 1 1 1 1 1 1 1 1 1 1 1 1 1 1 1 1 1 1 1 1 1 1 1 1 1 1 1 1 1 1 1 1 1 1 1 1 1 1 1 1 1 1 1 1 1 1 1 1 1 1 1 1 1 1 1 1 1 1 1 1 1 1 1 1 1 1 1 1 1 1 1 1 1 1 1 1 1 1 1 1 1 1 1 1 1 1 1 1 1 1 1 1 1 1 1 1 1 1 1 1 1 1 1 1 1 1 1 1 1 1 1 1 1 1 1 1 1 1 1 1 1 1 1 1 1 1 1 1 1 1 1 1 1 1 1 1 1 1 1\\n', 'AKTpf_cytoPCC|3| 1 1 1 1 1 1 1 1 1 1 1 1 1 1 1 1 1 1 1 1 1 1 1 1 1 1 1 1 1 1 1 1 1 1 1 1 1 1 1 1 1 1 1 1 1 1 1 1 1 1 1 1 1 1 1 1 1 1 1 1 1 1 1 1 1 1 1 1 1 1 1 1 1 1 1 1 1 1 1 1 1 1 1 1 1 1 1 1 1 1 1 1 1 1 1 1 1 1 1 1 1 1 1 1 1 1 1 1 1 1 1 1 1 1 1 1 1 1 1 1 1 1 1 1 1 1 1 1 1 1 1 1 1 1 1 1 1 1 1 1 1 1 1 1 1 1 1 1 1 1 1 1 1 1 1 1 1 1 1 1 1 1 1 1 1 1 0 0 0 0 0 0 0 0 0 0 0 0 0 0 0 0 0 0 0 0 0 0 0 0 0 0 0 0 0 0 0 0 0 0 0\\n', 'AMPKpf_cytoPCC|3| 1 1 1 1 1 1 1 1 1 1 1 1 1 1 1 1 1 1 1 1 1 1 1 1 1 1 1 1 1 1 1 1 1 1 1 1 1 1 1 1 1 1 1 1 1 1 1 1 1 1 1 1 1 1 1 1 1 1 1 1 1 1 1 1 1 1 1 1 1 1 1 1 1 1 1 1 1 1 1 1 1 1 1 1 1 1 1 1 1 1 1 1 1 1 1 1 1 1 1 1 1 1 1 1 1 1 1 1 1 1 1 1 1 1 1 1 1 1 1 1 1 1 1 1 1 1 1 1 1 1 1 1 1 1 1 1 1 1 1 1 1 1 1 1 1 1 1 1 1 1 1 1 1 1 1 1 1 1 1 1 1 1 1 1 1 1 1 1 1 1 1 1 1 1 1 1 1 1 1 1 1 1 1 1 1 1 1 1 1 1 1 1 1 1 1 1 1 1 1 1 1\\n', 'ANAEROBICbp_nucPCC|3| 1 1 1 1 1 1 1 1 1 1 1 1 1 1 1 1 1 1 1 1 1 1 1 1 1 1 1 1 1 1 0 0 0 0 0 0 0 0 0 0 0 0 0 0 0 0 0 0 0 0 0 0 0 0 0 0 0 0 0 0 0 0 0 0 0 0 0 0 0 0 0 0 0 0 0 0 0 0 0 0 0 0 0 0 0 0 0 0 0 0 0 0 0 0 0 0 0 0 0 0 0 0 0 0 0 0 0 0 0 0 0 0 0 0 0 0 0 0 0 0 0 0 0 0 0 0 0 0 0 0 0 0 0 0 0 0 0 0 0 0 0 0 0 0 0 0 0 0 0 0 0 0 0 0 0 0 0 0 0 0 0 0 0 0 0 0 0 0 0 0 0 0 0 0 0 0 0 0 0 0 0 0 0 0 0 0 0 0 0 0 0 0 0 0 0 0 0 0 0 0 0\\n', 'AP1pf_nucPCC|3| 1 1 1 1 1 1 1 1 1 1 1 1 1 1 1 1 1 1 1 1 1 1 1 1 1 1 1 1 1 1 1 1 1 1 1 1 1 1 1 1 1 1 1 1 1 1 1 1 1 1 1 1 1 1 1 1 1 1 1 1 1 1 1 1 1 1 1 2 2 2 2 2 2 2 2 2 2 2 2 2 2 2 2 2 2 2 2 2 2 2 2 2 2 2 2 2 2 2 2 2 2 2 2 2 2 2 2 2 2 2 2 2 2 2 2 2 2 2 2 2 2 2 2 2 2 2 2 2 2 2 2 2 2 2 2 2 2 2 2 2 2 2 2 2 2 2 2 2 2 2 2 2 2 2 2 2 2 2 2 2 2 2 2 2 2 2 2 2 2 2 2 2 2 2 2 2 2 2 2 2 2 2 2 2 2 2 2 2 2 2 2 2 2 2 2 2 2 2 2 2 2\\n', 'APOPTOSISbp_cytoPCC|3| 1 1 1 1 1 1 1 1 1 1 1 1 1 1 1 1 1 1 1 1 1 1 1 1 1 1 1 1 1 1 1 1 1 1 1 1 1 1 1 1 1 1 1 1 1 1 1 1 1 1 1 1 1 1 1 1 1 1 1 1 1 1 1 1 1 1 1 1 1 1 1 1 1 1 1 1 1 1 1 1 1 1 1 1 1 1 1 1 1 1 1 1 1 1 1 1 1 1 1 1 1 1 1 1 1 1 1 1 1 1 1 1 1 1 1 1 1 1 1 1 1 1 1 1 1 1 1 1 1 1 1 2 2 2 2 2 2 2 2 2 2 2 2 2 2 2 2 2 2 2 2 2 2 2 2 2 2 2 2 2 2 2 2 2 2 2 2 2 2 2 2 2 2 2 2 2 2 2 2 2 2 2 2 2 2 2 2 2 2 2 2 2 2 2 2 2 2 2 2 2 2\\n', 'ARFpn_nucPCC|3| 1 2 2 2 2 2 2 2 2 2 2 2 2 2 2 2 2 2 2 2 2 2 2 2 2 2 2 2 2 2 2 2 2 2 2 2 2 2 2 2 2 2 2 2 2 2 2 2 2 2 2 2 2 2 2 2 2 2 2 2 2 2 2 2 2 2 2 2 2 2 2 2 2 2 2 2 2 2 2 2 2 2 2 2 2 2 2 2 2 2 2 2 2 2 2 2 2 2 2 2 2 2 2 2 2 2 2 2 2 2 2 2 2 2 2 2 2 2 2 2 2 2 2 2 2 2 2 2 2 2 2 2 2 2 2 2 2 2 2 2 2 2 2 2 2 2 2 2 2 2 2 2 2 2 2 2 2 2 2 2 2 2 2 2 2 2 2 2 2 2 2 2 2 2 2 2 2 2 2 2 2 2 2 2 2 2 2 2 2 2 2 2 2 2 2 2 2 2 2 2 2\\n']\n"
     ]
    }
   ],
   "source": [
    "# show part of the simulation trace file\n",
    "traces = read_contents(simulation_trace_file)\n",
    "print(traces[:10])"
   ]
  },
  {
   "cell_type": "markdown",
   "metadata": {},
   "source": [
    "### Plot simulation results"
   ]
  },
  {
   "cell_type": "code",
   "execution_count": 10,
   "metadata": {},
   "outputs": [],
   "source": [
    "from Visualization import visualization_interface"
   ]
  },
  {
   "cell_type": "code",
   "execution_count": 11,
   "metadata": {},
   "outputs": [],
   "source": [
    "plot_output_path_baseline = 'plots/'\n",
    "element = 'S6ext_cytoPCC'"
   ]
  },
  {
   "cell_type": "code",
   "execution_count": 12,
   "metadata": {},
   "outputs": [
    {
     "data": {
      "image/png": "[encoded data removed]",
      "text/plain": [
       "<IPython.core.display.Image object>"
      ]
     },
     "execution_count": 12,
     "metadata": {},
     "output_type": "execute_result"
    }
   ],
   "source": [
    "# plot results for S6ext_cytoPCC\n",
    "visualization_interface.plot_as_picture([simulation_trace_file], plot_output_path_baseline, elementsList=[element])\n",
    "Image(plot_output_path_baseline + element + '.png')"
   ]
  },
  {
   "cell_type": "markdown",
   "metadata": {},
   "source": [
    "### Model checking"
   ]
  },
  {
   "cell_type": "code",
   "execution_count": 13,
   "metadata": {},
   "outputs": [],
   "source": [
    "from Extension.checker_extension import call_checker"
   ]
  },
  {
   "cell_type": "code",
   "execution_count": 14,
   "metadata": {},
   "outputs": [],
   "source": [
    "test_file = 'checking/example_test.txt'\n",
    "property_file = 'checking/example_property_PCC.txt'\n",
    "checker_trace_file = 'traces/example_trace_PCC.txt'\n",
    "estimate_file = 'checking/example_estimate.txt'\n",
    "framework_path = '..'"
   ]
  },
  {
   "cell_type": "code",
   "execution_count": 15,
   "metadata": {},
   "outputs": [
    {
     "name": "stdout",
     "output_type": "stream",
     "text": [
      "['F[100](S6ext_cytoPCC == 1)']\n"
     ]
    }
   ],
   "source": [
    "# view the property\n",
    "property_ = read_contents(property_file)\n",
    "print(property_)"
   ]
  },
  {
   "cell_type": "code",
   "execution_count": 16,
   "metadata": {},
   "outputs": [
    {
     "name": "stdout",
     "output_type": "stream",
     "text": [
      "0.956522\n"
     ]
    }
   ],
   "source": [
    "# calculate the estimate that the property is satisfied\n",
    "estimate = call_checker(\n",
    "    test_file, property_file, baseline_model_file, \n",
    "    checker_trace_file, estimate_file, \n",
    "    framework_path, steps=100\n",
    "    )\n",
    "print(estimate)"
   ]
  },
  {
   "cell_type": "markdown",
   "metadata": {},
   "source": [
    "### Model extension"
   ]
  },
  {
   "cell_type": "code",
   "execution_count": 17,
   "metadata": {},
   "outputs": [],
   "source": [
    "from Translation.model import model_to_dict\n",
    "from Extension.extension_interface import get_extensions\n",
    "from Extension.topXReading import getAll"
   ]
  },
  {
   "cell_type": "code",
   "execution_count": 18,
   "metadata": {},
   "outputs": [],
   "source": [
    "interactions_file = 'interactions/example_ic_output_processed.csv'"
   ]
  },
  {
   "cell_type": "code",
   "execution_count": 19,
   "metadata": {
    "scrolled": true
   },
   "outputs": [],
   "source": [
    "# format model and extensions\n",
    "dyse_model_dict = model_to_dict(dyse_baseline_model)\n",
    "extensions = get_extensions(dyse_model_dict, interactions_file)\n",
    "clusters = getAll(extensions)"
   ]
  },
  {
   "cell_type": "markdown",
   "metadata": {},
   "source": [
    "#### Iterative extension against a property"
   ]
  },
  {
   "cell_type": "code",
   "execution_count": 20,
   "metadata": {},
   "outputs": [],
   "source": [
    "from Extension.geneticAlgorithm import initialize_ga_structure"
   ]
  },
  {
   "cell_type": "code",
   "execution_count": 21,
   "metadata": {},
   "outputs": [],
   "source": [
    "test_file = 'checking/example_test.txt'\n",
    "property_file = 'checking/example_property_PCC.txt'\n",
    "extended_model_file = 'extension/use_case_extended.xlsx'\n",
    "output_folder = 'extension/'\n",
    "estimate_threshold = 0.6\n",
    "framework_path = '..'"
   ]
  },
  {
   "cell_type": "code",
   "execution_count": 22,
   "metadata": {},
   "outputs": [
    {
     "name": "stdout",
     "output_type": "stream",
     "text": [
      "['F[100](S6ext_cytoPCC == 1)']\n"
     ]
    }
   ],
   "source": [
    "# same property as before\n",
    "property_ = read_contents(property_file)\n",
    "print(property_)"
   ]
  },
  {
   "cell_type": "code",
   "execution_count": 23,
   "metadata": {},
   "outputs": [
    {
     "ename": "BrokenProcessPool",
     "evalue": "A task has failed to un-serialize. Please ensure that the arguments of the function are all picklable.",
     "output_type": "error",
     "traceback": [
      "\u001b[0;31m---------------------------------------------------------------------------\u001b[0m",
      "\u001b[0;31m_RemoteTraceback\u001b[0m                          Traceback (most recent call last)",
      "\u001b[0;31m_RemoteTraceback\u001b[0m: \n'''\nTraceback (most recent call last):\n  File \"/Users/jgawrilow/anaconda3/envs/pitt_env/lib/python3.7/site-packages/joblib-0.12.5-py3.7.egg/joblib/externals/loky/process_executor.py\", line 393, in _process_worker\n    call_item = call_queue.get(block=True, timeout=timeout)\n  File \"/Users/jgawrilow/anaconda3/envs/pitt_env/lib/python3.7/multiprocessing/queues.py\", line 113, in get\n    return _ForkingPickler.loads(res)\nAttributeError: Can't get attribute 'Individual' on <module 'deap.creator' from '/Users/jgawrilow/anaconda3/envs/pitt_env/lib/python3.7/site-packages/deap-1.2.2-py3.7-macosx-10.7-x86_64.egg/deap/creator.py'>\n'''",
      "\nThe above exception was the direct cause of the following exception:\n",
      "\u001b[0;31mBrokenProcessPool\u001b[0m                         Traceback (most recent call last)",
      "\u001b[0;32m<ipython-input-23-613e4df09c28>\u001b[0m in \u001b[0;36m<module>\u001b[0;34m\u001b[0m\n\u001b[1;32m      8\u001b[0m     \u001b[0mn_generations\u001b[0m\u001b[0;34m=\u001b[0m\u001b[0;36m1\u001b[0m\u001b[0;34m,\u001b[0m \u001b[0minit_pop_size\u001b[0m\u001b[0;34m=\u001b[0m\u001b[0;36m3\u001b[0m\u001b[0;34m,\u001b[0m \u001b[0mind_size\u001b[0m\u001b[0;34m=\u001b[0m\u001b[0;36m3\u001b[0m\u001b[0;34m,\u001b[0m\u001b[0;34m\u001b[0m\u001b[0m\n\u001b[1;32m      9\u001b[0m     \u001b[0mmu_individuals\u001b[0m\u001b[0;34m=\u001b[0m\u001b[0;36m3\u001b[0m\u001b[0;34m,\u001b[0m \u001b[0mlambda_num_children\u001b[0m\u001b[0;34m=\u001b[0m\u001b[0;36m3\u001b[0m\u001b[0;34m,\u001b[0m\u001b[0;34m\u001b[0m\u001b[0m\n\u001b[0;32m---> 10\u001b[0;31m     steps=100)\n\u001b[0m",
      "\u001b[0;32m~/anaconda3/envs/pitt_env/lib/python3.7/site-packages/dyse-0.1-py3.7.egg/Extension/geneticAlgorithm.py\u001b[0m in \u001b[0;36minitialize_ga_structure\u001b[0;34m(init_model, extensions, output_path, test_, property_, estimate_threshold, framework_path, scenario, normalize, init_pop_size, ind_size, mu_individuals, lambda_num_children, p_crossover, p_mutation, n_generations, steps)\u001b[0m\n\u001b[1;32m    237\u001b[0m     pop, log = MyeaMuCommaLambda(pop, toolbox, mu=mu_individuals, lambda_=lambda_num_children, \n\u001b[1;32m    238\u001b[0m         \u001b[0mcxpb\u001b[0m\u001b[0;34m=\u001b[0m\u001b[0mp_crossover\u001b[0m\u001b[0;34m,\u001b[0m \u001b[0mmutpb\u001b[0m\u001b[0;34m=\u001b[0m\u001b[0mp_mutation\u001b[0m\u001b[0;34m,\u001b[0m \u001b[0mngen\u001b[0m\u001b[0;34m=\u001b[0m\u001b[0mn_generations\u001b[0m\u001b[0;34m,\u001b[0m\u001b[0;34m\u001b[0m\u001b[0m\n\u001b[0;32m--> 239\u001b[0;31m         stats=stats, halloffame=hof, verbose=True)\n\u001b[0m\u001b[1;32m    240\u001b[0m \u001b[0;34m\u001b[0m\u001b[0m\n\u001b[1;32m    241\u001b[0m     \u001b[0mlogging\u001b[0m\u001b[0;34m.\u001b[0m\u001b[0minfo\u001b[0m\u001b[0;34m(\u001b[0m\u001b[0;34m(\u001b[0m\u001b[0;34m'%s'\u001b[0m\u001b[0;34m)\u001b[0m \u001b[0;34m%\u001b[0m \u001b[0mstr\u001b[0m\u001b[0;34m(\u001b[0m\u001b[0mlog\u001b[0m\u001b[0;34m)\u001b[0m\u001b[0;34m)\u001b[0m\u001b[0;34m\u001b[0m\u001b[0m\n",
      "\u001b[0;32m~/anaconda3/envs/pitt_env/lib/python3.7/site-packages/dyse-0.1-py3.7.egg/Extension/geneticAlgorithm.py\u001b[0m in \u001b[0;36mMyeaMuCommaLambda\u001b[0;34m(population, toolbox, mu, lambda_, cxpb, mutpb, ngen, stats, halloffame, verbose)\u001b[0m\n\u001b[1;32m    113\u001b[0m     \u001b[0minvalid_ind\u001b[0m \u001b[0;34m=\u001b[0m \u001b[0;34m[\u001b[0m\u001b[0mind\u001b[0m \u001b[0;32mfor\u001b[0m \u001b[0mind\u001b[0m \u001b[0;32min\u001b[0m \u001b[0mpopulation\u001b[0m \u001b[0;32mif\u001b[0m \u001b[0;32mnot\u001b[0m \u001b[0mind\u001b[0m\u001b[0;34m.\u001b[0m\u001b[0mfitness\u001b[0m\u001b[0;34m.\u001b[0m\u001b[0mvalid\u001b[0m\u001b[0;34m]\u001b[0m\u001b[0;34m\u001b[0m\u001b[0m\n\u001b[1;32m    114\u001b[0m     \u001b[0minvalid_ind_to_fitness\u001b[0m \u001b[0;34m=\u001b[0m \u001b[0;34m[\u001b[0m\u001b[0;34m[\u001b[0m\u001b[0midx\u001b[0m\u001b[0;34m,\u001b[0m\u001b[0mind\u001b[0m\u001b[0;34m]\u001b[0m \u001b[0;32mfor\u001b[0m \u001b[0midx\u001b[0m\u001b[0;34m,\u001b[0m\u001b[0mind\u001b[0m \u001b[0;32min\u001b[0m \u001b[0menumerate\u001b[0m\u001b[0;34m(\u001b[0m\u001b[0mpopulation\u001b[0m\u001b[0;34m)\u001b[0m \u001b[0;32mif\u001b[0m \u001b[0;32mnot\u001b[0m \u001b[0mind\u001b[0m\u001b[0;34m.\u001b[0m\u001b[0mfitness\u001b[0m\u001b[0;34m.\u001b[0m\u001b[0mvalid\u001b[0m\u001b[0;34m]\u001b[0m\u001b[0;34m\u001b[0m\u001b[0m\n\u001b[0;32m--> 115\u001b[0;31m     \u001b[0mfitnesses\u001b[0m \u001b[0;34m=\u001b[0m \u001b[0mtoolbox\u001b[0m\u001b[0;34m.\u001b[0m\u001b[0mmap\u001b[0m\u001b[0;34m(\u001b[0m\u001b[0mtoolbox\u001b[0m\u001b[0;34m.\u001b[0m\u001b[0mevaluate\u001b[0m\u001b[0;34m,\u001b[0m \u001b[0minvalid_ind_to_fitness\u001b[0m\u001b[0;34m)\u001b[0m\u001b[0;34m\u001b[0m\u001b[0m\n\u001b[0m\u001b[1;32m    116\u001b[0m     \u001b[0;32mfor\u001b[0m \u001b[0mind\u001b[0m\u001b[0;34m,\u001b[0m \u001b[0mfit\u001b[0m \u001b[0;32min\u001b[0m \u001b[0mzip\u001b[0m\u001b[0;34m(\u001b[0m\u001b[0minvalid_ind\u001b[0m\u001b[0;34m,\u001b[0m \u001b[0mfitnesses\u001b[0m\u001b[0;34m)\u001b[0m\u001b[0;34m:\u001b[0m\u001b[0;34m\u001b[0m\u001b[0m\n\u001b[1;32m    117\u001b[0m         \u001b[0mind\u001b[0m\u001b[0;34m.\u001b[0m\u001b[0mfitness\u001b[0m\u001b[0;34m.\u001b[0m\u001b[0mvalues\u001b[0m \u001b[0;34m=\u001b[0m \u001b[0mfit\u001b[0m\u001b[0;34m\u001b[0m\u001b[0m\n",
      "\u001b[0;32m~/anaconda3/envs/pitt_env/lib/python3.7/site-packages/dyse-0.1-py3.7.egg/Extension/geneticAlgorithm.py\u001b[0m in \u001b[0;36mmymap\u001b[0;34m(f, *iters)\u001b[0m\n\u001b[1;32m     36\u001b[0m \u001b[0;34m\u001b[0m\u001b[0m\n\u001b[1;32m     37\u001b[0m \u001b[0;32mdef\u001b[0m \u001b[0mmymap\u001b[0m\u001b[0;34m(\u001b[0m\u001b[0mf\u001b[0m\u001b[0;34m,\u001b[0m \u001b[0;34m*\u001b[0m\u001b[0miters\u001b[0m\u001b[0;34m)\u001b[0m\u001b[0;34m:\u001b[0m\u001b[0;34m\u001b[0m\u001b[0m\n\u001b[0;32m---> 38\u001b[0;31m     \u001b[0;32mreturn\u001b[0m \u001b[0mParallel\u001b[0m\u001b[0;34m(\u001b[0m\u001b[0mn_jobs\u001b[0m\u001b[0;34m=\u001b[0m\u001b[0;34m-\u001b[0m\u001b[0;36m1\u001b[0m\u001b[0;34m)\u001b[0m\u001b[0;34m(\u001b[0m\u001b[0mdelayed\u001b[0m\u001b[0;34m(\u001b[0m\u001b[0mf\u001b[0m\u001b[0;34m)\u001b[0m\u001b[0;34m(\u001b[0m\u001b[0;34m*\u001b[0m\u001b[0margs\u001b[0m\u001b[0;34m)\u001b[0m \u001b[0;32mfor\u001b[0m \u001b[0margs\u001b[0m \u001b[0;32min\u001b[0m \u001b[0mzip\u001b[0m\u001b[0;34m(\u001b[0m\u001b[0;34m*\u001b[0m\u001b[0miters\u001b[0m\u001b[0;34m)\u001b[0m\u001b[0;34m)\u001b[0m\u001b[0;34m\u001b[0m\u001b[0m\n\u001b[0m\u001b[1;32m     39\u001b[0m \u001b[0;34m\u001b[0m\u001b[0m\n\u001b[1;32m     40\u001b[0m \u001b[0;31m# To read the initial model\u001b[0m\u001b[0;34m\u001b[0m\u001b[0;34m\u001b[0m\u001b[0m\n",
      "\u001b[0;32m~/anaconda3/envs/pitt_env/lib/python3.7/site-packages/joblib-0.12.5-py3.7.egg/joblib/parallel.py\u001b[0m in \u001b[0;36m__call__\u001b[0;34m(self, iterable)\u001b[0m\n\u001b[1;32m    994\u001b[0m \u001b[0;34m\u001b[0m\u001b[0m\n\u001b[1;32m    995\u001b[0m             \u001b[0;32mwith\u001b[0m \u001b[0mself\u001b[0m\u001b[0;34m.\u001b[0m\u001b[0m_backend\u001b[0m\u001b[0;34m.\u001b[0m\u001b[0mretrieval_context\u001b[0m\u001b[0;34m(\u001b[0m\u001b[0;34m)\u001b[0m\u001b[0;34m:\u001b[0m\u001b[0;34m\u001b[0m\u001b[0m\n\u001b[0;32m--> 996\u001b[0;31m                 \u001b[0mself\u001b[0m\u001b[0;34m.\u001b[0m\u001b[0mretrieve\u001b[0m\u001b[0;34m(\u001b[0m\u001b[0;34m)\u001b[0m\u001b[0;34m\u001b[0m\u001b[0m\n\u001b[0m\u001b[1;32m    997\u001b[0m             \u001b[0;31m# Make sure that we get a last message telling us we are done\u001b[0m\u001b[0;34m\u001b[0m\u001b[0;34m\u001b[0m\u001b[0m\n\u001b[1;32m    998\u001b[0m             \u001b[0melapsed_time\u001b[0m \u001b[0;34m=\u001b[0m \u001b[0mtime\u001b[0m\u001b[0;34m.\u001b[0m\u001b[0mtime\u001b[0m\u001b[0;34m(\u001b[0m\u001b[0;34m)\u001b[0m \u001b[0;34m-\u001b[0m \u001b[0mself\u001b[0m\u001b[0;34m.\u001b[0m\u001b[0m_start_time\u001b[0m\u001b[0;34m\u001b[0m\u001b[0m\n",
      "\u001b[0;32m~/anaconda3/envs/pitt_env/lib/python3.7/site-packages/joblib-0.12.5-py3.7.egg/joblib/parallel.py\u001b[0m in \u001b[0;36mretrieve\u001b[0;34m(self)\u001b[0m\n\u001b[1;32m    897\u001b[0m             \u001b[0;32mtry\u001b[0m\u001b[0;34m:\u001b[0m\u001b[0;34m\u001b[0m\u001b[0m\n\u001b[1;32m    898\u001b[0m                 \u001b[0;32mif\u001b[0m \u001b[0mgetattr\u001b[0m\u001b[0;34m(\u001b[0m\u001b[0mself\u001b[0m\u001b[0;34m.\u001b[0m\u001b[0m_backend\u001b[0m\u001b[0;34m,\u001b[0m \u001b[0;34m'supports_timeout'\u001b[0m\u001b[0;34m,\u001b[0m \u001b[0;32mFalse\u001b[0m\u001b[0;34m)\u001b[0m\u001b[0;34m:\u001b[0m\u001b[0;34m\u001b[0m\u001b[0m\n\u001b[0;32m--> 899\u001b[0;31m                     \u001b[0mself\u001b[0m\u001b[0;34m.\u001b[0m\u001b[0m_output\u001b[0m\u001b[0;34m.\u001b[0m\u001b[0mextend\u001b[0m\u001b[0;34m(\u001b[0m\u001b[0mjob\u001b[0m\u001b[0;34m.\u001b[0m\u001b[0mget\u001b[0m\u001b[0;34m(\u001b[0m\u001b[0mtimeout\u001b[0m\u001b[0;34m=\u001b[0m\u001b[0mself\u001b[0m\u001b[0;34m.\u001b[0m\u001b[0mtimeout\u001b[0m\u001b[0;34m)\u001b[0m\u001b[0;34m)\u001b[0m\u001b[0;34m\u001b[0m\u001b[0m\n\u001b[0m\u001b[1;32m    900\u001b[0m                 \u001b[0;32melse\u001b[0m\u001b[0;34m:\u001b[0m\u001b[0;34m\u001b[0m\u001b[0m\n\u001b[1;32m    901\u001b[0m                     \u001b[0mself\u001b[0m\u001b[0;34m.\u001b[0m\u001b[0m_output\u001b[0m\u001b[0;34m.\u001b[0m\u001b[0mextend\u001b[0m\u001b[0;34m(\u001b[0m\u001b[0mjob\u001b[0m\u001b[0;34m.\u001b[0m\u001b[0mget\u001b[0m\u001b[0;34m(\u001b[0m\u001b[0;34m)\u001b[0m\u001b[0;34m)\u001b[0m\u001b[0;34m\u001b[0m\u001b[0m\n",
      "\u001b[0;32m~/anaconda3/envs/pitt_env/lib/python3.7/site-packages/joblib-0.12.5-py3.7.egg/joblib/_parallel_backends.py\u001b[0m in \u001b[0;36mwrap_future_result\u001b[0;34m(future, timeout)\u001b[0m\n\u001b[1;32m    515\u001b[0m         AsyncResults.get from multiprocessing.\"\"\"\n\u001b[1;32m    516\u001b[0m         \u001b[0;32mtry\u001b[0m\u001b[0;34m:\u001b[0m\u001b[0;34m\u001b[0m\u001b[0m\n\u001b[0;32m--> 517\u001b[0;31m             \u001b[0;32mreturn\u001b[0m \u001b[0mfuture\u001b[0m\u001b[0;34m.\u001b[0m\u001b[0mresult\u001b[0m\u001b[0;34m(\u001b[0m\u001b[0mtimeout\u001b[0m\u001b[0;34m=\u001b[0m\u001b[0mtimeout\u001b[0m\u001b[0;34m)\u001b[0m\u001b[0;34m\u001b[0m\u001b[0m\n\u001b[0m\u001b[1;32m    518\u001b[0m         \u001b[0;32mexcept\u001b[0m \u001b[0mLokyTimeoutError\u001b[0m\u001b[0;34m:\u001b[0m\u001b[0;34m\u001b[0m\u001b[0m\n\u001b[1;32m    519\u001b[0m             \u001b[0;32mraise\u001b[0m \u001b[0mTimeoutError\u001b[0m\u001b[0;34m(\u001b[0m\u001b[0;34m)\u001b[0m\u001b[0;34m\u001b[0m\u001b[0m\n",
      "\u001b[0;32m~/anaconda3/envs/pitt_env/lib/python3.7/concurrent/futures/_base.py\u001b[0m in \u001b[0;36mresult\u001b[0;34m(self, timeout)\u001b[0m\n\u001b[1;32m    430\u001b[0m                 \u001b[0;32mraise\u001b[0m \u001b[0mCancelledError\u001b[0m\u001b[0;34m(\u001b[0m\u001b[0;34m)\u001b[0m\u001b[0;34m\u001b[0m\u001b[0m\n\u001b[1;32m    431\u001b[0m             \u001b[0;32melif\u001b[0m \u001b[0mself\u001b[0m\u001b[0;34m.\u001b[0m\u001b[0m_state\u001b[0m \u001b[0;34m==\u001b[0m \u001b[0mFINISHED\u001b[0m\u001b[0;34m:\u001b[0m\u001b[0;34m\u001b[0m\u001b[0m\n\u001b[0;32m--> 432\u001b[0;31m                 \u001b[0;32mreturn\u001b[0m \u001b[0mself\u001b[0m\u001b[0;34m.\u001b[0m\u001b[0m__get_result\u001b[0m\u001b[0;34m(\u001b[0m\u001b[0;34m)\u001b[0m\u001b[0;34m\u001b[0m\u001b[0m\n\u001b[0m\u001b[1;32m    433\u001b[0m             \u001b[0;32melse\u001b[0m\u001b[0;34m:\u001b[0m\u001b[0;34m\u001b[0m\u001b[0m\n\u001b[1;32m    434\u001b[0m                 \u001b[0;32mraise\u001b[0m \u001b[0mTimeoutError\u001b[0m\u001b[0;34m(\u001b[0m\u001b[0;34m)\u001b[0m\u001b[0;34m\u001b[0m\u001b[0m\n",
      "\u001b[0;32m~/anaconda3/envs/pitt_env/lib/python3.7/concurrent/futures/_base.py\u001b[0m in \u001b[0;36m__get_result\u001b[0;34m(self)\u001b[0m\n\u001b[1;32m    382\u001b[0m     \u001b[0;32mdef\u001b[0m \u001b[0m__get_result\u001b[0m\u001b[0;34m(\u001b[0m\u001b[0mself\u001b[0m\u001b[0;34m)\u001b[0m\u001b[0;34m:\u001b[0m\u001b[0;34m\u001b[0m\u001b[0m\n\u001b[1;32m    383\u001b[0m         \u001b[0;32mif\u001b[0m \u001b[0mself\u001b[0m\u001b[0;34m.\u001b[0m\u001b[0m_exception\u001b[0m\u001b[0;34m:\u001b[0m\u001b[0;34m\u001b[0m\u001b[0m\n\u001b[0;32m--> 384\u001b[0;31m             \u001b[0;32mraise\u001b[0m \u001b[0mself\u001b[0m\u001b[0;34m.\u001b[0m\u001b[0m_exception\u001b[0m\u001b[0;34m\u001b[0m\u001b[0m\n\u001b[0m\u001b[1;32m    385\u001b[0m         \u001b[0;32melse\u001b[0m\u001b[0;34m:\u001b[0m\u001b[0;34m\u001b[0m\u001b[0m\n\u001b[1;32m    386\u001b[0m             \u001b[0;32mreturn\u001b[0m \u001b[0mself\u001b[0m\u001b[0;34m.\u001b[0m\u001b[0m_result\u001b[0m\u001b[0;34m\u001b[0m\u001b[0m\n",
      "\u001b[0;31mBrokenProcessPool\u001b[0m: A task has failed to un-serialize. Please ensure that the arguments of the function are all picklable."
     ]
    }
   ],
   "source": [
    "# run genetic algorithm to cluster extensions\n",
    "# model extension will save/return any models that satisfy defined properties\n",
    "# only running one generation and small population to limit time\n",
    "initialize_ga_structure(\n",
    "    baseline_model_file, clusters, output_folder,\n",
    "    test_file, property_file, estimate_threshold,\n",
    "    framework_path,\n",
    "    n_generations=1, init_pop_size=3, ind_size=3,\n",
    "    mu_individuals=3, lambda_num_children=3,\n",
    "    steps=100)"
   ]
  },
  {
   "cell_type": "code",
   "execution_count": 10,
   "metadata": {},
   "outputs": [
    {
     "data": {
      "text/plain": [
       "256"
      ]
     },
     "execution_count": 10,
     "metadata": {},
     "output_type": "execute_result"
    }
   ],
   "source": [
    "# remove temp files\n",
    "temps = os.path.join(output_folder,'~temp_*')\n",
    "os.system('rm ' + temps)"
   ]
  },
  {
   "cell_type": "markdown",
   "metadata": {},
   "source": [
    "#### Add all possible extensions"
   ]
  },
  {
   "cell_type": "code",
   "execution_count": 34,
   "metadata": {
    "collapsed": true
   },
   "outputs": [],
   "source": [
    "from Extension.extension_util import extend_model"
   ]
  },
  {
   "cell_type": "code",
   "execution_count": 35,
   "metadata": {
    "collapsed": true
   },
   "outputs": [],
   "source": [
    "# add all extensions (skip clustering or iteration against a property)\n",
    "extended_model_file = 'extension/example_model_PCC_extended.xlsx'\n",
    "extend_model(baseline_model_file,clusters[0],extended_model_file)"
   ]
  },
  {
   "cell_type": "markdown",
   "metadata": {},
   "source": [
    "### Model Export"
   ]
  },
  {
   "cell_type": "markdown",
   "metadata": {},
   "source": [
    "#### NetworkX and Cytoscape"
   ]
  },
  {
   "cell_type": "code",
   "execution_count": 44,
   "metadata": {
    "collapsed": true
   },
   "outputs": [],
   "source": [
    "from Translation.model import model_to_networkx\n",
    "from py2cytoscape.data.cyrest_client import CyRestClient"
   ]
  },
  {
   "cell_type": "code",
   "execution_count": 45,
   "metadata": {
    "collapsed": true,
    "scrolled": true
   },
   "outputs": [],
   "source": [
    "cy = CyRestClient()"
   ]
  },
  {
   "cell_type": "code",
   "execution_count": 46,
   "metadata": {
    "collapsed": true
   },
   "outputs": [],
   "source": [
    "dyse_model_graph = model_to_networkx(dyse_baseline_model)"
   ]
  },
  {
   "cell_type": "code",
   "execution_count": 47,
   "metadata": {
    "collapsed": true
   },
   "outputs": [],
   "source": [
    "# Cytoscape must be open for CyRestClient to export the graph\n",
    "cy_network = cy.network.create_from_networkx(dyse_model_graph)\n",
    "cy.style.apply(cy.style.create('default'),cy_network)\n",
    "cy.layout.apply(name='circular', network=cy_network)"
   ]
  },
  {
   "cell_type": "code",
   "execution_count": null,
   "metadata": {
    "collapsed": true
   },
   "outputs": [],
   "source": []
  }
 ],
 "metadata": {
  "kernelspec": {
   "display_name": "Python 3",
   "language": "python",
   "name": "python3"
  },
  "language_info": {
   "codemirror_mode": {
    "name": "ipython",
    "version": 3
   },
   "file_extension": ".py",
   "mimetype": "text/x-python",
   "name": "python",
   "nbconvert_exporter": "python",
   "pygments_lexer": "ipython3",
   "version": "3.7.0"
  },
  "toc": {
   "base_numbering": 1,
   "nav_menu": {},
   "number_sections": true,
   "sideBar": true,
   "skip_h1_title": true,
   "title_cell": "Table of Contents",
   "title_sidebar": "Contents",
   "toc_cell": false,
   "toc_position": {
    "height": "calc(100% - 180px)",
    "left": "10px",
    "top": "150px",
    "width": "196px"
   },
   "toc_section_display": true,
   "toc_window_display": true
  }
 },
 "nbformat": 4,
 "nbformat_minor": 2
}
