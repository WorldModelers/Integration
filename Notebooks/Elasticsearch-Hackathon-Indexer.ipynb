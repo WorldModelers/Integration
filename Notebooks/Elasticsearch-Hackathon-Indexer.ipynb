{
 "cells": [
  {
   "cell_type": "markdown",
   "metadata": {},
   "source": [
    "# Indexing hackathon documents to Elasticsearch\n",
    "\n",
    "This notebook indexes the 358 June, 2019 hackathon documents to Elasticsearch. Each document is stored with its corresponding metadata.\n",
    "\n",
    "\n",
    "### Configuration\n",
    "First, ensure that the appropriate credentials are stored in your AWS credentials at `~/.aws/credentials`.\n",
    "\n",
    "These should be stored under the `wmuser` profile with something like:\n",
    "\n",
    "```\n",
    "[wmuser]\n",
    "aws_access_key_id = WMUSER_ACCESS_KEY\n",
    "aws_secret_access_key = WMUSER_SECRET_KEY\n",
    "```\n",
    "\n",
    "> Note that this profile must be specified by name when creating the `boto3` session.\n",
    "\n",
    "### Requirements\n",
    "\n",
    "```\n",
    "pip install requests-aws4auth==0.9\n",
    "pip install elasticsearch==7.0.2\n",
    "```"
   ]
  },
  {
   "cell_type": "code",
   "execution_count": 1,
   "metadata": {},
   "outputs": [],
   "source": [
    "import boto3, json\n",
    "from elasticsearch import Elasticsearch, RequestsHttpConnection\n",
    "from requests_aws4auth import AWS4Auth\n",
    "\n",
    "region = 'us-east-1'\n",
    "service = 'es'\n",
    "eshost = 'search-world-modelers-dev-gjvcliqvo44h4dgby7tn3psw74.us-east-1.es.amazonaws.com'\n",
    "\n",
    "session = boto3.Session(region_name=region, profile_name='wmuser')\n",
    "credentials = session.get_credentials()\n",
    "credentials = credentials.get_frozen_credentials()\n",
    "access_key = credentials.access_key\n",
    "secret_key = credentials.secret_key\n",
    "token = credentials.token\n",
    "\n",
    "aws_auth = AWS4Auth(\n",
    "    access_key,\n",
    "    secret_key,\n",
    "    region,\n",
    "    service,\n",
    "    session_token=token\n",
    ")"
   ]
  },
  {
   "cell_type": "code",
   "execution_count": 2,
   "metadata": {},
   "outputs": [
    {
     "name": "stdout",
     "output_type": "stream",
     "text": [
      "{\n",
      "  \"tagline\": \"You Know, for Search\",\n",
      "  \"cluster_uuid\": \"nGeAO1lMTKaG6_LOpSg17w\",\n",
      "  \"version\": {\n",
      "    \"build_date\": \"2019-04-17T05:34:35.022392Z\",\n",
      "    \"build_hash\": \"8453f77\",\n",
      "    \"build_flavor\": \"oss\",\n",
      "    \"minimum_index_compatibility_version\": \"5.0.0\",\n",
      "    \"build_snapshot\": false,\n",
      "    \"lucene_version\": \"7.7.0\",\n",
      "    \"build_type\": \"zip\",\n",
      "    \"number\": \"6.7.0\",\n",
      "    \"minimum_wire_compatibility_version\": \"5.6.0\"\n",
      "  },\n",
      "  \"name\": \"ZhaR9MU\",\n",
      "  \"cluster_name\": \"342635568055:world-modelers-dev\"\n",
      "}\n"
     ]
    }
   ],
   "source": [
    "es = Elasticsearch(\n",
    "    hosts = [{'host': eshost, 'port': 443}],\n",
    "    http_auth=aws_auth,\n",
    "    use_ssl=True,\n",
    "    verify_certs=True,\n",
    "    connection_class=RequestsHttpConnection\n",
    ")\n",
    "\n",
    "print(json.dumps(es.info(), indent=2))"
   ]
  },
  {
   "cell_type": "markdown",
   "metadata": {},
   "source": [
    "Now that we have a connection with Elasticsearch we can index the documents. \n",
    "\n",
    "> Note: you must update the `dir_path` to the appropriate path to the hackathon documents"
   ]
  },
  {
   "cell_type": "code",
   "execution_count": 3,
   "metadata": {},
   "outputs": [],
   "source": [
    "import os"
   ]
  },
  {
   "cell_type": "code",
   "execution_count": 4,
   "metadata": {},
   "outputs": [],
   "source": [
    "docs = []\n",
    "\n",
    "# Update this path with the correct path to the hackathon documents\n",
    "dir_path = '/PATH_TO/Docs_20-May-2019'\n",
    "\n",
    "txt_files = os.listdir(dir_path + '/txt')\n",
    "for txt in txt_files:\n",
    "    \n",
    "    # load txt file\n",
    "    with open(dir_path + '/txt/' + txt, 'r') as f:\n",
    "        txt_file = f.read()\n",
    "        \n",
    "    # load metadata file\n",
    "    with open(dir_path + '/meta/' + txt.replace('txt','json'), 'r') as f:\n",
    "        meta_file = json.loads(f.read())\n",
    "    \n",
    "    # store the txt as key `content\n",
    "    doc = {'content': txt_file}\n",
    "    \n",
    "    # add metadata to document object\n",
    "    for m in meta_file:\n",
    "        k = m['MT']['N']\n",
    "        v = m['MT']['V']\n",
    "    \n",
    "        # we should standardize the key names\n",
    "        if k == 'publisherName': \n",
    "            k = 'publisher name'\n",
    "        k = k.replace(' ','_')\n",
    "        doc[k] = v\n",
    "\n",
    "    # we should also add in the original file name\n",
    "    doc['file_name'] = txt\n",
    "    docs.append(doc)"
   ]
  },
  {
   "cell_type": "markdown",
   "metadata": {},
   "source": [
    "Now we should create an index for the Migration documents called `migration`"
   ]
  },
  {
   "cell_type": "code",
   "execution_count": 5,
   "metadata": {},
   "outputs": [
    {
     "data": {
      "text/plain": [
       "{'acknowledged': True, 'index': 'migration', 'shards_acknowledged': True}"
      ]
     },
     "execution_count": 5,
     "metadata": {},
     "output_type": "execute_result"
    }
   ],
   "source": [
    "index = 'migration'\n",
    "doc_type = 'document'\n",
    "\n",
    "es.indices.create(index)"
   ]
  },
  {
   "cell_type": "code",
   "execution_count": 6,
   "metadata": {},
   "outputs": [],
   "source": [
    "for doc in docs:\n",
    "    es.index(index=index, doc_type=doc_type, body=doc)"
   ]
  },
  {
   "cell_type": "markdown",
   "metadata": {},
   "source": [
    "Now we can query the Elasticsearch `migration` index using a variety of querying approaches outlined [here](https://www.elastic.co/guide/en/elasticsearch/reference/6.7/query-dsl.html).\n",
    "\n",
    "Below is an example of using a `query_string` and Lucene query syntax (boolean) search:"
   ]
  },
  {
   "cell_type": "code",
   "execution_count": 7,
   "metadata": {},
   "outputs": [],
   "source": [
    "query = {\n",
    "    \"query\": {\n",
    "        \"query_string\" : {\n",
    "            \"default_field\" : \"content\", # Ensure we use the correct field (could search on `title` as well)\n",
    "            \"query\" : \"refugee AND aid AND (addis OR NGO)\" # Lucene query syntax\n",
    "        }\n",
    "    }\n",
    "}"
   ]
  },
  {
   "cell_type": "code",
   "execution_count": 8,
   "metadata": {
    "scrolled": false
   },
   "outputs": [],
   "source": [
    "results = es.search(index=index, body=query)['hits']['hits']"
   ]
  },
  {
   "cell_type": "markdown",
   "metadata": {},
   "source": [
    "Results are stored as an array. Each item in the array is an object which has the following keys:"
   ]
  },
  {
   "cell_type": "code",
   "execution_count": 9,
   "metadata": {},
   "outputs": [
    {
     "data": {
      "text/plain": [
       "dict_keys(['_index', '_type', '_score', '_id', '_source'])"
      ]
     },
     "execution_count": 9,
     "metadata": {},
     "output_type": "execute_result"
    }
   ],
   "source": [
    "results[0].keys()"
   ]
  },
  {
   "cell_type": "markdown",
   "metadata": {},
   "source": [
    "The `_id` key is a unique identifer for that document in the `migration` index. The actual document is stored in the `_source` key."
   ]
  },
  {
   "cell_type": "code",
   "execution_count": 10,
   "metadata": {},
   "outputs": [
    {
     "data": {
      "text/plain": [
       "'yu6GQ2sB3Wd34S8RQMIB'"
      ]
     },
     "execution_count": 10,
     "metadata": {},
     "output_type": "execute_result"
    }
   ],
   "source": [
    "results[0]['_id']"
   ]
  },
  {
   "cell_type": "code",
   "execution_count": 11,
   "metadata": {},
   "outputs": [
    {
     "data": {
      "text/plain": [
       "'The Aid in Danger Monthly News Brief'"
      ]
     },
     "execution_count": 11,
     "metadata": {},
     "output_type": "execute_result"
    }
   ],
   "source": [
    "results[0]['_source']['title']"
   ]
  },
  {
   "cell_type": "markdown",
   "metadata": {},
   "source": [
    "You can retrieve documents by their `_id` if you wish:"
   ]
  },
  {
   "cell_type": "code",
   "execution_count": 12,
   "metadata": {},
   "outputs": [
    {
     "data": {
      "text/plain": [
       "{'_id': 'yu6GQ2sB3Wd34S8RQMIB',\n",
       " '_index': 'migration',\n",
       " '_primary_term': 1,\n",
       " '_seq_no': 39,\n",
       " '_source': {'content': \".\\n\\nThe Aid Agency  \\nMonthly News Brief \\nInsecurity affecting the delivery of aid.\\n\\nattacked.\\n\\nanti-Balaka  militants.\\n\\nSecurity Incidents and Access Constraints.\\n\\nAfrica  \\nCentral African Republic \\nIn  Bria  city,  Haute-Kotto  prefecture,  an \\n04  December  2017: \\nunspecified  number  of \\na \\nMultidimensional  Integrated  Stabilization  Mission  in  the  Central \\nAfrican Republic (MINUSCA) police checkpoint at the entrance to the \\nPK3  internally  displaced  people  (IDP)  site,  killing  a  Mauritanian \\npeacekeeper,  and  wounding  two  other  Mauritanians,  and  one \\nZambian.  Sources:  Africa  Time,  Le  Réseau  des  Journalistes  pour  les \\nDroits de l'Homme (RJDH) and The Associated Press.\\n\\n04 December 2017: In Bria city, Haute-Kotto prefecture, unspecified \\narmed men stopped and pointed their weapons at a Médecins Sans \\nFrontières  (MSF)  ambulance,  whilst  it  was  transporting  an  injured \\nperson from PK3 IDP. They objected to the wounded being taken to \\nhospital. Source: aBangui.\\n\\n07 December 2017: In Kabo town, Ouham prefecture, suspected ex-\\nSeleka armed militants shot and killed a staff member of the Italian \\nnon-governmental  organisation  (NGO)  INTERSOS  in  front  of  his \\nhouse, after they asked him for money, and he replied that he did not \\nhave  any.  This  incident  prompted  humanitarian  groups  to  suspend \\noperations in the city. Sources: ACAPS, eNCA, News24 and RJDH.\\n\\n08 December 2017: In Kabo town, Ouham prefecture, six unidentified \\narmed men vandalised the base of the NGO Solidarity International, \\nand stole computers, office equipment, and a large  sum of money. \\nSubsequently,  the  organisation  evacuated  all  affected  staff  but \\nmaintained  its  presence  in  the  city.  Sources:  ACAPS,  RJDH  (a)  and \\nRJDH (b).\\n\\n08 December 2017: In Kaga Bandoro, a male NGO staff member was \\nkilled after gunman raided his home and shot him. Source: AWSD1.\\n\\n09 December 2017: In Kaga-Bandoro town, Nana-Grébizi prefecture, \\nex-Seleka rebels fired a mortar toward a MINUSCA base, causing no \\ncasualties or material damage. Source: aBangui.\\n\\nAid agencies \\nDecember \\n2017.\\n\\nThis monthly digest comprises \\nthreats and incidents of \\nviolence affecting the delivery \\nof aid. It is prepared by \\nInsecurity Insight from \\ninformation available in open \\nsources.\\n\\nAll decisions made, on the basis \\nof, or with consideration to, \\nsuch information remains the \\nresponsibility of their \\nrespective organisations.\\n\\nEditorial team:  \\nChristina Wille, Larissa Fast and \\nHelen Buck \\nInsecurity Insight.\\n\\nAndrew Eckert \\nEuropean Interagency Security \\nForum (EISF).\\n\\nResearch team: \\nJames Naudi \\nInsecurity Insight.\\n\\nVisit our website to download \\nprevious Aid in Danger Monthly \\nNews Briefs.\\n\\nSuggested citation: Insecurity \\nInsight. 2017. The Aid in Danger \\nMonthly News Brief, December \\n2017. Geneva: Insecurity \\nInsight, Aid in Danger Project.\\n\\nThe Aid in Danger Monthly News Brief – December 2017.\\n\\nPage 1.\\n\\nChad \\n31 December 2017: In Am Timan city and sub-prefecture, Barh Azoum department, Salamat region, armed \\nindividuals attacked and stole a vehicle belonging to the NGO MSF-Holland, used to transfer waste from Am \\nTiman Regional Hospital to a dump site. They also tortured the driver, and released him in the bush later \\nduring the night. Source: Alwihda Info.\\n\\nDemocratic Republic of Congo \\n04 December 2017: In North Kivu province, clashes between two opposing factions of the Democratic Forces \\nfor  the  Liberation  of  Rwanda,  Forces  Combattantes  Abacunguzi  (FOCA)  and  Conseil  National  pour  le \\nRenouveau et la Democratie (CNRD), have led to the suspension of humanitarian activities in Mpati area. \\nSource: Radio Okapi.\\n\\n04 December 2017: In Masisi territory, North Kivu province, unspecified armed men attacked MSF’s base in \\nMweso area, subjecting staff to violence and kidnapping threats, and robbing the compound of money and \\nequipment. Sources: Congo Actuel and MSF.\\n\\n07  December  2017:  In  North  Kivu  Province,  fighters  from  the  extremist  group  Allied  Democratic  Forces \\nraided  a  United  Nations  Organization  Stabilization  Mission  in  the  Democratic  Republic  of  the  Congo \\n(MONUSCO)  base  situated  near  a  bridge  on  the  river  Semuliki,  killing  15  Tanzanian  peacekeepers,  and \\ninjuring 53 more. Sources: Devex, eNCA, IRIN (a), IRIN (b), Lemonde, The Guardian and Voice of Afrique.\\n\\n12 December 2017: In Goma city, North Kivu province, Congolese authorities seized a vehicle belonging to \\nthe United Nations High Commissioner of Refugees (UNHCR), loaned to National Commission for Refugees \\n(CNR), after they discovered hidden packages of coltan in it. Source: Radio Okapi.\\n\\n12 December 2017: In Mubambiro village, North Kivu province, Congolese soldiers intercepted two vehicles \\nbelonging to an unspecified INGO, after they discovered hidden packages of coltan in one of them. Source: \\nRadio Okapi.\\n\\nKenya \\n05 December 2017: In Kisumu city and county, and in other parts of Kenya, violent clashes in the midst of \\npolitical turmoil have led to a difficult operating environment for development actors. Source: Devex.\\n\\nMali \\n16  December  2017:  In  Kidal  town,  in  the  midst  of  four  simultaneous  coordinated  attacks,  unspecified \\nassailants ambushed the main Multidimensional Integrated Stabilization Mission in Mali (MINUSMA) camp \\nin the city, as well as a patrol of peacekeepers, killing one Guinean blue helmet, and seriously wounding \\nanother. Sources: aBamako and Radio France Internationale (RFI).\\n\\nNigeria \\n11 December 2017: In Pulka town, Gwoza local government area, Borno state, a mortal shell took off at an \\nIDP  camp,  where  a  Spanish  team  from  MSF  were  providing  healthcare,  killing  several  people.  Source: \\nVanguard.\\n\\n17 December 2017: In Borno state, 35 kilometres southwest of Ngala local government area, Boko Haram \\nmilitants attacked a convoy escorted by the Nigerian military, including World Food Programme (WFP)-hired \\ntrucks, killing four people, including a driver and a driver’s assistant. Sources: AWSD1, DW and Reuters.\\n\\nThe Aid in Danger Monthly News Brief – December 2017.\\n\\nPage 2.\\n\\nSomalia \\n29-30 December: In Mogadishu, Kahda district, unspecified agents evicted people and destroyed over 23 IDP \\nsettlements, housing over 4,000 IDP households, without prior notification. Source: Goobjoog News.\\n\\nSouth Sudan \\n04  December  2017:  In  Juba,  an  INGO  contracted  LNGO  demining  team  was  attacked  by  15  armed  men, \\ninjuring two national staff members. Three vehicles and personal property were stolen. The vehicles were \\nfound abandoned nearby. Source: AWSD1.\\n\\n04 December 2017: In Rubkona, Unity state, a convoy of vehicles belonging to a UN-contracted demining \\ncompany was ambushed. Two national staff sustained critical gunshot injuries. Source: AWSD1.\\n\\n10 December 2017: In  Unity state,  an  unidentified perpetrator  killed a Sudanese refugee from the Nuba \\nMountains at Yida camp. Source: Dabanga Sudan.\\n\\n10  December  2017:  In  Unity  state  unidentified  perpetrators  killed  a  Sudanese  refugee  from  the  Nuba \\nMountains  at  camp  Pamir,  Yida  camp,  sparking  mass  protests  on  11  and  12  December,  during  which \\ndemonstrators gathered outside the UNHCR compound, before burying the dead. Source: Dabanga Sudan.\\n\\n14 December 2017: Bureaucracy, violence and rocketing government fees continue to prevent humanitarian \\norganisations from operating in the country. Source: Reuters.\\n\\n17 December 2017: In Raja town, Lol state, rebels loyal to former vice-president Riek Machar ambushed two \\nNGO  vehicles  along  the  Wau-Raja  road,  and  kidnapped  six  aid  workers  from  three  organisations,  two \\ninternational  aid  groups,  HealthNet  and  Solidarity  International,  and  one  local  group.  Solidarity \\nInternational’s country director was the only foreigner among the victims, the rest are South Sudanese. On \\n19 December, the perpetrators claimed that they had kidnapped the relief workers to save their lives during \\nclashes between government forces and rebels. The victims were freed on 20 December. Sources: Fox News, \\nRadio Tamazuj (a), Radio Tamazuj (b), Radio Tamazuj (c) and Reuters.\\n\\nSudan \\n30 December 2017: In Khartoum, a female UN international staff member was attacked in the street by two \\nmen on a motorcycle who dragged her behind the motorcycle and then physically assaulted her, biting off \\nher thumb. Robbery is the suspected motive for the attack. Source: AWSD1.\\n\\nAsia \\nBangladesh \\n02 December 2017: In Jessore district, Southwest region, unidentified perpetrators attacked the executive \\ndirector of the NGO Protyasha Samajkalyan Sangstha on the outskirts of Jessore town with bullets and a \\nhome-made bomb. The victim died from his injuries in hospital. Source: The Daily Star.\\n\\n18  December  2017:  In  Cox’s  Bazar,  Chittagong  division,  Bangladeshi  authorities  have  not  approved  any \\npending  or  new  relief  projects  by  local,  national  and  international  NGOs  since  the  second  week  of  last \\nNovember. Source: The Daily Star.\\n\\nCambodia \\n07 December 2017 Update: The suspension of the land rights organisation Equitable Cambodia for allegedly \\nfailing to comply with the controversial Law on Associations and NGOs and their own bylaws continues. The \\norganisation was suspended in September. Source: The Phnom Penh Post.\\n\\nThe Aid in Danger Monthly News Brief – December 2017.\\n\\nPage 3.\\n\\nMyanmar \\n08 December 2017: In Rakhine state, despite a repatriation deal for Rohingya refugees between Myanmar \\nand Bangladesh, humanitarian access remains inadequate. Moreover, a dozen humanitarian organisations, \\nincluding  Oxfam  and  Save  the  Children,  announced  that  they  would  not  operate  in  any  closed  camps  or \\ncamp-like settlements, raising fears that refugees would face a repeat of the situation endured by 100,000 \\nRohingya in central Rakhine, who have been trapped in squalid camps ever since they were displaced by an \\noutbreak of violence in 2012. Sources: Irrawaddy and The Star.\\n\\n21 December 2017:  The  Myanmar military barred the UN  independent investigator into  human rights in \\nMyanmar from visiting the country coming January for the rest of her tenure. Sources: Thomson Reuters \\nFoundation and VOA.\\n\\nNorth Korea \\n12  December  2017:  Punitive  sanctions  on  North  Korea  could  have  unintended  consequences  for  the \\ncountry’s long-suffering civilian population, hampering relief efforts by humanitarian organisations. Source: \\nCable News Network (CNN).\\n\\nPakistan \\n14 December 2017: The Interior Ministry informed 29 organisations, including ActionAid, Plan International, \\nOpen Society Foundation and Marie Stopes, that their applications to continue working in the country have \\nbeen rejected, without specifying the reason. They have been told to leave within 60 days. International civil \\nsociety  organisations  have  described  this  decision  as  part  of  a  growing  trend  of  shrinking  space  for  civil \\nsociety and repression of human rights across South Asia. Sources: ANI, NPR and The Financial Times.\\n\\nMiddle-East and North Africa  \\nLebanon \\n16 December 2017: In Beirut, a Lebanese Uber driver with a criminal record abducted, sexually assaulted \\nand strangled to death a British woman who had been working as a programme and policy manager at the \\nDepartment  for  International  Development  of  the  British  Embassy.  The  perpetrator  was  arrested  by  the \\npolice  on  18  December.  Police  stated  that  the  killing  was  not  politically-motivated.  Sources:  British \\nBroadcasting Corporation (BBC), Sky News and The Guardian.\\n\\nOccupied Palestinian Territories \\n23 December 2017: The Danish government announced that it would cease giving aid money to Palestinian \\nNGOs, following alleged pressure from Israel, and called on all European countries to follow suit. Source: The \\nJerusalem Post.\\n\\nSyrian Arab Republic  \\n02 December 2017: In Harasta city, Eastern Ghouta, Damascus, fixed-wing Syrian regime forces warplanes \\nreportedly fired a missile near an ambulance belonging to the SCD centre 90 as volunteers were responding \\nto a previous incident.  The missile landed 25 meters away from the ambulance, causing the ambulance’s \\ndriver to lose control and to collide with a Syrian Arab Red Crescent ambulance. Both ambulances structures \\nwere damaged. Source: SNHR.\\n\\n02 December 2017: In Morek town, Hama governorate, suspected fixed-wing Russian forces warplanes fired \\nseveral missiles at SCD centre 119, partially destroying the centre and damaging equipment and furniture. \\nSource: SNHR.\\n\\n06 December 2017: The Russian government blocked the proposed renewal of Security Council authorized.\\n\\nThe Aid in Danger Monthly News Brief – December 2017.\\n\\nPage 4.\\n\\nUN measure, that expires in January 2018, and that allowed aid deliveries to pass Syrian borders without \\npermission from the Syrian authorities into rebel-held areas, claiming that such deliveries impinge on Syria’s \\nsovereignty. Source: The New York Times.\\n\\n11  December  2017:  In  Douma,  Eastern  Ghouta,  one  NGO  volunteer  was  killed  when  the  area  he  was \\nperforming humanitarian services in was shelled. Source: AWSD1.\\n\\n19 December 2017: The Syrian government continued to ignore UN pleas for permission to evacuate some \\n500 civilians from the besieged Eastern Ghouta region on medical grounds. 12 patients are reported to have \\ndied. Source: Integrated Regional Information Networks (IRIN).\\n\\n25 December 2017: In Abu al Thohour town, Idlib governorate, fixed-wing Syrian regime forces warplanes \\nreportedly fired one missile at al Zafar IDPs camp, damaging around 15 tents. Source: SNHR.\\n\\n26 December 2017: In Khan Sheikhoun, Idlib governorate, a national SCD volunteer was reportedly killed by \\na missile fired by Syrian warplanes near al Rahma Cave Hospital and the SCD office as he was responding to \\na previous incident (above). The Source: SNHR.\\n\\n28 December 2017: In Bdama town, Idlib governorate, a national SCD volunteer was reportedly killed by \\nshelling fired by Syrian regime rocket launchers as he was responding to a previous incident. Source: SNHR.\\n\\n28 December 2017: In Kafr Zita city, Hama governorate, Syrian regime forces warplanes reportedly fired two \\nmissiles at the SAMS-supported Martyr Hasan al A’raj (known as al Maghara Hospital). A second strike on \\nthe same facility by suspected Russian forces warplanes was also reported. The two airstrikes resulted in \\ndamages to the hospital and an ambulance. Source: SNHR.\\n\\n30  December  2017:  In  Idlib  governorate,  barrel  bombs  from  an  unspecified  source  hit  and  damaged  a \\nwarehouse belonging to an unspecified international NGO. Source: United Nations (UN) News Centre.\\n\\nYemen \\nDecember:  The  Saudi-imposed  blockade  on  Yemen’s  Red  Sea  ports  and  Sana’a  airport  continued  to \\naggravate the humanitarian catastrophe, delaying relief  supplies entering the country, and hindering the \\navailability of essential commercial goods, such as food and fuel needed to run generators in hospitals and \\nwater treatment plants. Sources: IRIN, OCHA, The Express Tribune, Thomson Reuters Foundation and VOA \\nNews.\\n\\n03 December 2017: In Sana’a, fighting prevents Red Cross staff from moving. Source: Alexandre Faite.\\n\\n03 December 2017: In Sana’a, fighting cut off the airport road and prevented the UN from evacuating at \\nleast 140 aid workers, pending approval from the Saudi-led coalition. Sources: IRIN and Reuters.\\n\\n03 December 2017: Throughout Yemen, a Saudi-led coalition blockade has cut off fuel for hospitals, water \\npumps and vital aid supplies for starving children,  possibly leading to another wave of cholera outbreak. \\nSource: IRIN.\\n\\n05  December  2017:  In  Sana’a,  airstrikes  have  forced  the  country  director  for  CARE  to  seek  safety \\nunderground for a couple of days. Source: NPR.\\n\\n07 December 2017: Throughout Yemen, continued airstrikes and shelling forced the UN Population Fund to \\nevacuate part of its team from the country. Eighty staff remain. Source: Devex.\\n\\nThe Aid in Danger Monthly News Brief – December 2017.\\n\\nPage 5.\\n\\n14 December 2017: In Al Hudaydah city and governorate, a possible battle between a coalition of anti-Houthi \\nforces  and  rebels  in  urban  areas  could  see  the  sea  port  destroyed,  making  it  impossible  to  import  relief \\nsupplies and essential commercial goods. Source: IRIN.\\n\\n14  December  2017:  Throughout  Yemen,  Norwegian  Refugee  Council  humanitarian  warehouses  are \\nvulnerable to attack, and authorities continue to actively impede access for humanitarian actors to people \\nin need. Source: IRIN.\\n\\nThe Americas \\nHonduras \\n11 December 2017: Five persons have been caught using an NGO to divert public funds, destined for social \\nprogrammes, for personal use. Source: La Tribuna.\\n\\nThis document is  part  of the Aid  in Danger project. It  is published by Insecurity  Insight and funded by \\nEuropean Union Humanitarian Aid, Save the Children and USAID.\\n\\nThis report is funded by.\\n\\nInsecurity Insight is a member of.\\n\\n1 The AWSD database does not include the names of individual victims or the agencies affected by an incident. This is done in \\nconsideration of the victims and their families who may not wish to have the names publicised in this format and to afford equal \\nrespect to the many victims for whom this information is not available.\\n\\nThe Aid in Danger Monthly News Brief – December 2017.\\n\\nPage 6.\\n\\n\",\n",
       "  'creation_date': 'December 2017',\n",
       "  'file_name': 'The_Aid_in_Danger_Monthly_News_Brief_Dec-17.txt',\n",
       "  'publisher_name': 'Aid In Danger Project',\n",
       "  'title': 'The Aid in Danger Monthly News Brief'},\n",
       " '_type': 'document',\n",
       " '_version': 1,\n",
       " 'found': True}"
      ]
     },
     "execution_count": 12,
     "metadata": {},
     "output_type": "execute_result"
    }
   ],
   "source": [
    "es.get(index=index, doc_type=doc_type, id=results[0]['_id'])"
   ]
  },
  {
   "cell_type": "markdown",
   "metadata": {},
   "source": [
    "If you would like to retrieve all the documents you can do so with a `match all` query:"
   ]
  },
  {
   "cell_type": "code",
   "execution_count": 13,
   "metadata": {},
   "outputs": [
    {
     "name": "stdout",
     "output_type": "stream",
     "text": [
      "There are 358 total documents in the migration index.\n"
     ]
    }
   ],
   "source": [
    "query = {\n",
    "    \"query\": {\n",
    "        \"match_all\": {}\n",
    "    }\n",
    "}\n",
    "\n",
    "count = es.count(index=index, body=query)['count']\n",
    "print(\"There are {0} total documents in the {1} index.\".format(count,index))"
   ]
  },
  {
   "cell_type": "code",
   "execution_count": 14,
   "metadata": {},
   "outputs": [],
   "source": [
    "results = es.search(index=index, body=query, size=count)['hits']['hits']"
   ]
  },
  {
   "cell_type": "code",
   "execution_count": 15,
   "metadata": {},
   "outputs": [
    {
     "name": "stdout",
     "output_type": "stream",
     "text": [
      "This query returned 358 total documents\n"
     ]
    }
   ],
   "source": [
    "print(\"This query returned {} total documents\".format(len(results)))"
   ]
  }
 ],
 "metadata": {
  "kernelspec": {
   "display_name": "Python 3",
   "language": "python",
   "name": "python3"
  },
  "language_info": {
   "codemirror_mode": {
    "name": "ipython",
    "version": 3
   },
   "file_extension": ".py",
   "mimetype": "text/x-python",
   "name": "python",
   "nbconvert_exporter": "python",
   "pygments_lexer": "ipython3",
   "version": "3.5.3"
  }
 },
 "nbformat": 4,
 "nbformat_minor": 2
}
