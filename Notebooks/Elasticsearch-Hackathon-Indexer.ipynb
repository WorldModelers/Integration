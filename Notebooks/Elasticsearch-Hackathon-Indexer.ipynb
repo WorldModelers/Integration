{
 "cells": [
  {
   "cell_type": "markdown",
   "metadata": {},
   "source": [
    "# Indexing hackathon documents to Elasticsearch\n",
    "\n",
    "This notebook indexes the 358 June, 2019 hackathon documents to Elasticsearch. Each document is stored with its corresponding metadata.\n",
    "\n",
    "\n",
    "### Configuration\n",
    "First, ensure that the appropriate credentials are stored in your AWS credentials at `~/.aws/credentials`.\n",
    "\n",
    "These should be stored under the `wmuser` profile with something like:\n",
    "\n",
    "```\n",
    "[wmuser]\n",
    "aws_access_key_id = WMUSER_ACCESS_KEY\n",
    "aws_secret_access_key = WMUSER_SECRET_KEY\n",
    "```\n",
    "\n",
    "> Note that this profile must be specified by name when creating the `boto3` session.\n",
    "\n",
    "### Requirements\n",
    "\n",
    "```\n",
    "pip install requests-aws4auth==0.9\n",
    "pip install elasticsearch==7.0.2\n",
    "```"
   ]
  },
  {
   "cell_type": "markdown",
   "metadata": {},
   "source": [
    "## Connecting to Elasticsearch"
   ]
  },
  {
   "cell_type": "code",
   "execution_count": 1,
   "metadata": {},
   "outputs": [],
   "source": [
    "import boto3, json\n",
    "import os\n",
    "from hashlib import sha256\n",
    "from elasticsearch import Elasticsearch, RequestsHttpConnection\n",
    "from requests_aws4auth import AWS4Auth\n",
    "\n",
    "region = 'us-east-1'\n",
    "service = 'es'\n",
    "eshost = 'search-world-modelers-dev-gjvcliqvo44h4dgby7tn3psw74.us-east-1.es.amazonaws.com'\n",
    "\n",
    "session = boto3.Session(region_name=region, profile_name='wmuser')\n",
    "credentials = session.get_credentials()\n",
    "credentials = credentials.get_frozen_credentials()\n",
    "access_key = credentials.access_key\n",
    "secret_key = credentials.secret_key\n",
    "token = credentials.token\n",
    "\n",
    "aws_auth = AWS4Auth(\n",
    "    access_key,\n",
    "    secret_key,\n",
    "    region,\n",
    "    service,\n",
    "    session_token=token\n",
    ")"
   ]
  },
  {
   "cell_type": "code",
   "execution_count": 2,
   "metadata": {},
   "outputs": [
    {
     "name": "stdout",
     "output_type": "stream",
     "text": [
      "{\n",
      "  \"name\": \"ZhaR9MU\",\n",
      "  \"version\": {\n",
      "    \"build_snapshot\": false,\n",
      "    \"number\": \"6.7.0\",\n",
      "    \"minimum_index_compatibility_version\": \"5.0.0\",\n",
      "    \"build_date\": \"2019-04-17T05:34:35.022392Z\",\n",
      "    \"build_flavor\": \"oss\",\n",
      "    \"lucene_version\": \"7.7.0\",\n",
      "    \"build_type\": \"zip\",\n",
      "    \"minimum_wire_compatibility_version\": \"5.6.0\",\n",
      "    \"build_hash\": \"8453f77\"\n",
      "  },\n",
      "  \"cluster_name\": \"342635568055:world-modelers-dev\",\n",
      "  \"cluster_uuid\": \"nGeAO1lMTKaG6_LOpSg17w\",\n",
      "  \"tagline\": \"You Know, for Search\"\n",
      "}\n"
     ]
    }
   ],
   "source": [
    "es = Elasticsearch(\n",
    "    hosts = [{'host': eshost, 'port': 443}],\n",
    "    http_auth=aws_auth,\n",
    "    use_ssl=True,\n",
    "    verify_certs=True,\n",
    "    connection_class=RequestsHttpConnection\n",
    ")\n",
    "\n",
    "print(json.dumps(es.info(), indent=2))"
   ]
  },
  {
   "cell_type": "markdown",
   "metadata": {},
   "source": [
    "## Indexing documents\n",
    "Now that we have a connection with Elasticsearch we can index the documents. \n",
    "\n",
    "> Note: you must update the `dir_path` to the appropriate path to the hackathon documents"
   ]
  },
  {
   "cell_type": "code",
   "execution_count": 3,
   "metadata": {},
   "outputs": [],
   "source": [
    "docs = []\n",
    "\n",
    "# Update this path with the correct path to the hackathon documents\n",
    "dir_path = '/PATH_TO/Docs_20-May-2019'\n",
    "\n",
    "txt_files = os.listdir(dir_path + '/txt')\n",
    "for txt in txt_files:\n",
    "    \n",
    "    # load txt file\n",
    "    with open(dir_path + '/txt/' + txt, 'r') as f:\n",
    "        txt_file = f.read()\n",
    "        \n",
    "    # load metadata file\n",
    "    with open(dir_path + '/meta/' + txt.replace('txt','json'), 'r') as f:\n",
    "        meta_file = json.loads(f.read())\n",
    "    \n",
    "    # store the txt as key `content\n",
    "    doc = {'content': txt_file}\n",
    "    \n",
    "    # add metadata to document object\n",
    "    for m in meta_file:\n",
    "        k = m['MT']['N']\n",
    "        v = m['MT']['V']\n",
    "    \n",
    "        # we should standardize the key names\n",
    "        if k == 'publisherName': \n",
    "            k = 'publisher name'\n",
    "        k = k.replace(' ','_')\n",
    "        doc[k] = v\n",
    "\n",
    "    # we should also add in the original file name\n",
    "    doc['file_name'] = txt\n",
    "    \n",
    "    # we can sha256 hash the text to generate a UUID which we can use instead of the \n",
    "    # auto-generated ID Elasticsearch would otherwise provide\n",
    "    doc['_id'] = sha256(txt_file.encode('utf-8')).hexdigest()\n",
    "    \n",
    "    docs.append(doc)"
   ]
  },
  {
   "cell_type": "markdown",
   "metadata": {},
   "source": [
    "Now we should create an index for the Migration documents called `migration`"
   ]
  },
  {
   "cell_type": "code",
   "execution_count": 4,
   "metadata": {},
   "outputs": [],
   "source": [
    "index = 'migration'\n",
    "doc_type = 'document'"
   ]
  },
  {
   "cell_type": "code",
   "execution_count": 5,
   "metadata": {},
   "outputs": [],
   "source": [
    "# create the index if it does not exist\n",
    "if not es.indices.exists(index):\n",
    "    es.indices.create(index)"
   ]
  },
  {
   "cell_type": "markdown",
   "metadata": {},
   "source": [
    "Note that when we index the document we pop its `_id` and store that as its Elasticsearch `_id`. This ensures that if we index a document to that `_id` we will be updating the document in place, not generating a new document in Elasticsearch.\n",
    "\n",
    "Since each document was hashed to generate an `_id`, of the 358 original documents there were at least 2 exact duplicates; once hashed there were 356 unique documents."
   ]
  },
  {
   "cell_type": "code",
   "execution_count": 6,
   "metadata": {},
   "outputs": [],
   "source": [
    "for doc in docs:\n",
    "    es.index(index=index, doc_type=doc_type, id=doc.pop('_id'), body=doc)"
   ]
  },
  {
   "cell_type": "markdown",
   "metadata": {},
   "source": [
    "## Retrieving documents\n",
    "Now we can query the Elasticsearch `migration` index using a variety of querying approaches outlined [here](https://www.elastic.co/guide/en/elasticsearch/reference/6.7/query-dsl.html).\n",
    "\n",
    "Below is an example of using a `query_string` and Lucene query syntax (boolean) search:"
   ]
  },
  {
   "cell_type": "code",
   "execution_count": 7,
   "metadata": {},
   "outputs": [],
   "source": [
    "query = {\n",
    "    \"query\": {\n",
    "        \"query_string\" : {\n",
    "            \"default_field\" : \"content\", # Ensure we use the correct field (could search on `title` as well)\n",
    "            \"query\" : \"refugee AND aid AND (addis OR NGO)\" # Lucene query syntax\n",
    "        }\n",
    "    }\n",
    "}"
   ]
  },
  {
   "cell_type": "code",
   "execution_count": 8,
   "metadata": {
    "scrolled": false
   },
   "outputs": [],
   "source": [
    "results = es.search(index=index, body=query)['hits']['hits']"
   ]
  },
  {
   "cell_type": "markdown",
   "metadata": {},
   "source": [
    "Results are stored as an array. Each item in the array is an object which has the following keys:"
   ]
  },
  {
   "cell_type": "code",
   "execution_count": 9,
   "metadata": {},
   "outputs": [
    {
     "data": {
      "text/plain": [
       "dict_keys(['_score', '_index', '_type', '_source', '_id'])"
      ]
     },
     "execution_count": 9,
     "metadata": {},
     "output_type": "execute_result"
    }
   ],
   "source": [
    "results[0].keys()"
   ]
  },
  {
   "cell_type": "markdown",
   "metadata": {},
   "source": [
    "The `_id` key is a unique identifer for that document in the `migration` index. The actual document is stored in the `_source` key."
   ]
  },
  {
   "cell_type": "code",
   "execution_count": 10,
   "metadata": {},
   "outputs": [
    {
     "data": {
      "text/plain": [
       "'120c5949cc2895689c9f02d2ff59f92b78f332e2e4647a9b0d03783367d60233'"
      ]
     },
     "execution_count": 10,
     "metadata": {},
     "output_type": "execute_result"
    }
   ],
   "source": [
    "results[0]['_id']"
   ]
  },
  {
   "cell_type": "code",
   "execution_count": 11,
   "metadata": {},
   "outputs": [
    {
     "data": {
      "text/plain": [
       "'The Aid in Danger Monthly News Brief'"
      ]
     },
     "execution_count": 11,
     "metadata": {},
     "output_type": "execute_result"
    }
   ],
   "source": [
    "results[0]['_source']['title']"
   ]
  },
  {
   "cell_type": "markdown",
   "metadata": {},
   "source": [
    "You can retrieve documents by their `_id` if you wish:"
   ]
  },
  {
   "cell_type": "code",
   "execution_count": 12,
   "metadata": {},
   "outputs": [
    {
     "data": {
      "text/plain": [
       "{'_id': '120c5949cc2895689c9f02d2ff59f92b78f332e2e4647a9b0d03783367d60233',\n",
       " '_index': 'migration',\n",
       " '_primary_term': 1,\n",
       " '_seq_no': 55,\n",
       " '_source': {'content': \".\\n\\nAid in Danger \\nMonthly News Brief \\nInsecurity affecting the delivery of aid.\\n\\nSecurity Incidents and Access Constraints.\\n\\nAfrica  \\nCentral African Republic \\n05  February  2018:  Update:  The  NGO  Solidarity \\nInternational \\nannounced the release of one of its staffers after six days in captivity. \\nSource: Le Réseau des Journalistes pour les Droits de l'Homme (RJDH).\\n\\n09 February 2018: In Bangassou, Mbomou prefecture, a month-long \\nblockade of the aid corridor in the city has been lifted, thus allowing \\nthe delivery of food and medical supplies to those in need. Sources: \\nCorbeau News and Xinhua.\\n\\n13  February  2018:  In  Bangassou,  Mbomou  prefecture,  anti-Balaka \\nfighters  stole  a  pickup  truck  belonging  to  the  United  Nations \\nMultidimensional  Integrated  Stabilization  Mission  in  the  Central \\nAfrican Republic (MINUSCA) and sold it to a Congolese individual for \\n15 million CFA (approximately 22,800 EUR). Source: Corbeau News.\\n\\n15  February  2018:  In  Kaga-Bandoro  town,  Nana-Grébizi  prefecture, \\nlocal  people  staged  a  protest  against  MINUSCA  and  other  NGOs \\nworking in the area following the murder of a young trader. Source: \\nRJDH.\\n\\n19 February 2018: In Bamingui-Bangoran, a INGO staff member was \\nkidnapped  and  held  for  three  days  by  the  Front  Populaire  pour  la \\nRenaissance  de  Centrafrique  (FPRC).  A  ransom  was  demanded  and \\npaid for the release of the staff member.  It is not clear who paid the \\nransom. Source: AWSD.\\n\\n25  February 2018:  In  Markounda  town  and  sub-prefecture,  Ouham \\nprefecture, unidentified armed men killed a United Nations Children’s \\nFund  (UNICEF)  employee  and  five  educators,  three  of  whom  were \\nNGO  workers,  for  unclear  reasons.  Sources:  AWSD,  Cable  News \\nNetwork (CNN), The New York Times, Reuters and RJDH.\\n\\nChad \\n12  February  2018:  Oxfam \\nInternational  faced  accusations  of \\ninappropriate conduct by staff members in the country some 12 years \\nago. Source: The Guardian.\\n\\nAid agencies \\nFebruary \\n2018.\\n\\nThis monthly digest comprises \\nthreats and incidents of \\nviolence affecting the delivery \\nof aid. It is prepared by \\nInsecurity Insight from \\ninformation available in open \\nsources.\\n\\nAll decisions made, on the basis \\nof, or with consideration to, \\nsuch information remains the \\nresponsibility of their \\nrespective organisations.\\n\\nEditorial team:  \\nChristina Wille, Larissa Fast, \\nLaurence Gerhardt and Helen \\nBuck, Insecurity Insight.\\n\\nAndrew Eckert \\nEuropean Interagency Security \\nForum (EISF).\\n\\nResearch team: \\nJames Naudi \\nInsecurity Insight.\\n\\nVisit our website to download \\nprevious Aid in Danger Monthly \\nNews Briefs.\\n\\nSuggested citation: Insecurity \\nInsight. 2018. The Aid in Danger \\nMonthly News Brief, February \\n2018. Geneva: Insecurity \\nInsight, Aid in Danger Project.\\n\\nThe Aid in Danger Monthly News Brief – February 2018.\\n\\nPage 1.\\n\\nDemocratic Republic of the Congo \\n17  February  2018:  In  Mushikiri  village,  North  Kivu  province,  unidentified  gunmen  kidnapped  three \\nemployees of the NGO Hydraulique Sans Frontières (HYFRO) for no ascertained reason. Two of the victims \\nwere found dead on 18 February, whereas the third subject was released on 19 February. Sources: Radio \\nOkapi (a), Radio Okapi (b), Radio Okapi (c) and Voice of America (VOA).\\n\\n27 February 2018: In Goma, North Kivu, gunmen abducted an NGO contracted driver and his assistant along \\nthe Mweso-Kalembe road axis. No further information available. Source: AWSD.\\n\\nKenya \\n21 February 2018: In Garba Tulla, Isiolo County, a INGO male national staff member was shot twice by armed \\nperpetrators  who  ambushed  the  NGO's  vehicle.  The  team  of  five  staff  members  were  traveling  from \\nMalkadaka to Garba Tulla when they were attacked. Nothing was stolen from the passengers. There are no \\nreports that the staff members appeared to have been targeted specifically for their affiliation to an aid \\norganization, however, the vehicle was clearly marked. Security has deteriorated in Isiolo county. Source: \\nAWSD.\\n\\nRwanda \\n22 February 2018: In Karongi town, Western province, Rwandan police broke up a crowd of around 3,000 \\nCongolese refugees in Kiziba camp, killing 11 people, and injuring 20 more. The refugees had been protesting \\nat  the  offices  of  the  World  Food  Programme  (WFP)  against  a  cut  in  food  rations.  Sources:  Daily  Nation, \\nDeutsche Welle (DW) (a), DW (b), Reuters and VOA.\\n\\nSomalia \\n17 February 2018: In Somalia, vast quantities of food aid – bearing the stamps of WFP, USAID, the Japanese \\ngovernment and other aid agencies – continue to show up in major markets all over the country, prompting \\nthe Somali government to warn of legal action against those involved in this aid-for-cash scandal. Source: \\nHiiraan Online.\\n\\nSouth Sudan  \\n08 February 2018: In Kapoeta, Eastern Equatoria state, an INGO national staff member was assaulted during \\nan ambush on his vehicle by a group of armed men between Kapoeta South and Camp 15. There were two \\nother staff members in the vehicle (a total of two international staff members and one local staff member). \\nThey were all robbed of their valuables and money, and the international staff members had their passports \\nstolen. Source: AWSD.\\n\\n10 February 2018: In Juba, a LNGO national NGO security guard was killed during a compound robbery of \\nthe organization's office. Source: AWSD.\\n\\n11 February 2018: In Akobo, Jonglei state, an NGO worker was killed during an attack that was reported to \\nbe caused by a local dispute. Another NGO staff member was reportedly also injured. Source: AWSD.\\n\\n13 February 2018: In South Sudan, Oxfam International faced accusations of sexual assault and cover-up by \\nits staff in the country. Source: Radio Tamazuj.\\n\\n27 February 2018: In Bentiu, Unity state, a LNGO national staff member was assaulted at their home in Bentiu \\nprotection of civilian (PoC) site and required medical treatment. Three other people were also hurt in the \\nattack, but they sustained minor injuries. Nothing was taken from the household. Source: AWSD.\\n\\nThe Aid in Danger Monthly News Brief – February 2018.\\n\\nPage 2.\\n\\nUganda \\n20 February 2018: The Ugandan government, the UN, and the EU have clashed over conflicting corruption \\naccusations.  The  UN  and  EU  are  conducting  investigations  into  the  alleged  sale  of  food  and  other  aid \\nintended  for  refugees,  payment  of  bribes,  and  the  trafficking  of  refugee  girls  by  Ugandan  officials. \\nMeanwhile, Kampala simultaneously announced that it was widening the investigation to examine whether \\nstaff from UNHCR and WFP had collaborated with corrupt state employees, while UNHCR also warned that \\nits donors would withhold funding for all Ugandan operations until refugee numbers were officially verified, \\nfollowing accusations that officials inflated the figures to steal aid. Source: Reuters.\\n\\nAsia \\nBangladesh \\n23 February 2018: In Cox’s Bazar, Chittagong division, the Rapid Action Battalion detained 11 aid workers of \\ndifferent NGOs for failing to produce their passport, visa or work permit, and handed them over to Ukhiya \\npolice. Two of the aid workers were from the United Kingdom, two from Italy, and one each from Belgium, \\nBrazil, Kenya, Korea, the Netherlands, Norway and Turkey. They were released later following their written \\nconsent never to visit any camp or go out without a valid passport or visa again. Source: Dhaka Tribune.\\n\\nCambodia \\n13 February 2018: The National Election Committee of Cambodia warned that NGOs and foreigners could \\nface fines of up to 2,500 USD or expulsion from the country for interfering with or affecting the results of \\nthe 25 February Senate elections. Source: Khmer Times.\\n\\nEurope \\nGermany \\n28 February 2018: In Berlin the organisers of the Berlin Conference on Myanmar Genocide denied access to \\neight  members  of  the  Union  Enterprise  for  Humanitarian  Assistance,  Resettlement  and  Development  in \\nRakhine (UEHRD,)  including the  chief coordinator, on the  basis that there were no seats available  at the \\nconference. Source: Eleven.\\n\\nTurkey \\n01 February 2018: Update: The chairman of Amnesty International’s local arm was conditionally released \\nafter eight months in detention. However, he was re-arrested on the same day before he could arrive home \\nafter the prosecution successfully appealed against his release. Source: VOA.\\n\\nMiddle-East and North Africa  \\nLibya \\n06 February 2018: The Libyan army discovered aid boxes carrying the emblem of the Qatari Red Crescent \\nwere being used to smuggle weapons and ammunition from Qatar into the country. Source: Afri Gate News.\\n\\nSyrian Arab Republic \\n01 February 2018: In Kafr Zita, Hama governorate, five airstrikes reportedly targeted Hasan al A’raj Hospital \\n(also known as al Maghara and Kafr Zita Cave Hospital) affiliated with the Free Hama Health Administration \\nand supported by the Syrian American Medical Society (SAMS), resulting in heavy material damage to the \\nbuilding and equipment. The facility was forced to close. Source: SAMS and SNHR.\\n\\n04  February  2018:  In  Maarrat  al-Nu’man,  Idlib  governorate,  suspected  Russian  fixed-wing  warplanes \\nreportedly  fired  several  missiles  at  SAMS-supported  Ma’aret  al  Nu’man  Central  Hospital,  (known  as  the \\nNational  Hospital).  The  hospital  building  was  partially  destroyed  and  its  incubator,  aid  wings,  hospital.\\n\\nThe Aid in Danger Monthly News Brief – February 2018.\\n\\nPage 3.\\n\\nequipment and an ambulance belonging to the hospital were all badly damaged. The facility was forced to \\nclose.  In  addition,  two  ambulances,  belonging  to  the  aid  network  of  the  Syrian  Relief  and  Development \\nOrganization (SRD), were moderately damaged. Source: SNHR and VOA.\\n\\n05  February  2018:  In  Irbeen  city,  Eastern  Ghouta,  Damascus,  a  male  national  Syrian  Civil  Defence  (SCD) \\nvolunteer was reportedly killed in a bombing by missiles fired by fixed-wing Syrian regime forces warplanes \\nas he was tending to the wounded from a previous shelling. Source: SNHR.\\n\\n06 February 2018: In Al Ghadfa, Idlib governorate, a LNGO national volunteer was reportedly killed while \\ntending to the wounded from a previous Russian aerial bombing. Source: AWSD.\\n\\n06  February  2018:  In  Kafr  Batna,  Damascus,  fixed-wing  Syrian  regime  forces  warplanes  reportedly  fired \\nseveral missiles at Women Now Centre for Development, which offers vocational and educational courses \\nfor women. The building was partially destroyed, and its furniture was heavily damaged. Source: SNHR II.\\n\\n08 February 2018: In Mishmishan city, Idlib province, airstrikes of unknown origin hit a health centre partially \\nsupported by Médecins Sans Frontières (MSF), killing six people and wounding 17 more. Source: Doctors \\nWithout Borders.\\n\\n08  February  2018:  In  Khan  Sheikhoun,  Maarrat  al-Nu'man  district,  Idlib  governorate,  suspected  Russian \\nfixed-wing warplanes reportedly fired several missiles at al Rahma Hospital, which is built inside a cave and \\nlocated next to the SCD centre. The hospital building, and its equipment were heavily damaged, forcing it to \\nclose. In addition, three SCD volunteers were reportedly killed and four injured. The SCD centre building was \\ndestroyed, and its equipment and a SCD ambulance were damaged, forcing the SCD facility to also close. \\nSource: SNHR.\\n\\n08 February 2018: In Ma'arat al-Nu'man town, Idlib governorate, a LNGO national volunteer was reportedly \\nwounded during shelling from an unspecified source. Source: AWSD.\\n\\n15 February 2018: In Termalla village, Idlib governorate, a LNGO national volunteer was reportedly killed and \\none wounded during aerial airstrikes from an unspecified origin. Source: AWSD.\\n\\n19 February 2018: In Eastern Ghouta, Damascus, three INGO staff members were reportedly killed by aerial \\nbombing. No further information available. Source: AWSD.\\n\\n19 February 2018: In unspecified locations, Syrian and Russian government forces allegedly targeted Alhayat \\nhospital and the office of the NGO Seraj. Source: Annie Sparrow.\\n\\n19  February  2018:  In  Mesraba  village,  Douma  district,  Rift  Dimashq  governorate,  Syrian  and  Russian \\ngovernment forces allegedly targeted the Union of Medical Care and Relief Organisations (UOSSM)-run Ibn \\nAlnafees Centre. Source: Annie Sparrow.\\n\\n20 February 2018: In Irbeen city, Eastern Ghouta, Damascus, a female national nurse at Syrian American \\nMedical Society (SAMS)-supported Irbeen Surgical Hospital was reportedly killed along with her infant son \\nin  a  bombing  by  either  fixed-wing  Syrian  regime  forces  or  Russian  warplanes.  The  missiles  were  fired  in \\nparallel with a barrel bomb attack by Syrian regime forces helicopters. Source: SNHR.\\n\\n21 February 2018: In Eastern Ghouta, Damascus, suspected fixed-wing Syrian regime or Russian warplanes \\nfired reportedly several missiles in front of an ambulance belonging to the SCD centre as the ambulance \\ncrew  were  tending  to  the  wounded  from  a  previous  shelling.  The  vehicle  was  partially  destroyed  and.\\n\\nThe Aid in Danger Monthly News Brief – February 2018.\\n\\nPage 4.\\n\\nrendered out of commission. Source: SNHR.\\n\\n21 February 2018: In unspecified locations, Syrian and Russian government forces allegedly targeted Dar Al-\\nShifaa hospital and the office of the NGO Binaa. Source: Annie Sparrow.\\n\\n21 February 2018: In Jesrin area, Eastern Ghouta region, Syrian and Russian government forces allegedly \\ntargeted Jesrin Hospital, and a SCD centre. Source: Annie Sparrow.\\n\\n21 February 2018: In Saqba town, Markaz Rif Dimashq district, Rif Dimashq governorate, Syrian and Russian \\ngovernment forces allegedly targeted Saqba Hospital, Al Yaman Hospital, and a Syria Civil Defence centre. \\nSource: Annie Sparrow.\\n\\n21 February 2018: In Douma town and district, Rif Dimashq governorate, Syrian and Russian government \\nforces  allegedly  targeted  a  Syrian  Arab  Red  Crescent  (SARC)  centre,  and  an  unspecified  obstetric  centre. \\nSource: Annie Sparrow.\\n\\n21 February 2018: In Harasta city, Douma district, Rif Dimashq governorate, Syrian and Russian government \\nforces allegedly targeted an SARC centre. Source: Annie Sparrow.\\n\\n21 February 2018: In Arbin town, Markaz Rif Dimashq district, Rif Dimashq governorate, Syrian and Russian \\ngovernment forces allegedly targeted an ambulance belonging to a UOSSM-run maternity centre. Source: \\nAnnie Sparrow.\\n\\n22 February 2018: In Harasta city, Eastern Ghouta, Damascus, a Syrian regime forces rocket launcher fired \\nreportedly  several  surface-to-surface  rockets  at  the  Syrian  Arab  Red  Crescent  (SARC)  branch.  The  centre \\nbuilding was partially destroyed, and its equipment was heavily damaged. The facility was forced to close. \\nSource: SNHR.\\n\\n26 February 2018: In Katibat al Handasa, northern al Rastan city, Homs governorate, a male national SARC \\nvolunteer was reportedly killed by a Syrian regime forces sniper. Source: SNHR.\\n\\n27 February 2018: In Eastern Ghouta region, fighting and shelling continued to prevent any aid from reaching \\nthe besieged Syrian enclave during a five-hour pause declared by Russia. Source: Reuters.\\n\\n28 February 2018: In Eastern Ghouta, Damascus, a LNGO national volunteer was reportedly killed in an air \\nraid while helping civilians affected by earlier aerial bombardment. Source: AWSD.\\n\\nThe Americas \\nGuatemala  \\n13  February  2018:  In  Guatemala,  the  chairman  of  Oxfam  International  has  been  arrested  and  is  being \\ninvestigated  about  a  budgetary  transaction  made  by  the  Guatemalan  government  while  he  was  finance \\nminister. Sources: Independent, Prensa Libre and Radio Tamazuj.\\n\\nHaiti \\n12  February  2018:  In  Haiti,  Oxfam  International  faced  accusations  over  the  use  of  prostitutes  by  staff \\nmembers  in  the  country,  forcing  the  deputy  chief  of  the  organisation  to  resign.  The  Haitian  government \\nwarned that it would expel Oxfam from the country if such allegations prove to be true. Sources: CNN and \\nRadio Tamazuj.\\n\\nThe Aid in Danger Monthly News Brief – February 2018.\\n\\nPage 5.\\n\\nVenezuela \\n06 February 2018: In Venezuela, the Venezuelan government stands accused of distributing food aid in boxes \\nwith messages promoting the Colombian guerrilla movement National Liberation Army. Source: El Nacional.\\n\\nAid workers killed, kidnapped and arrested in selected countries in 2018 \\n The countries have been selected by Reliefweb Crisis App.\\n\\nKKA 2018 (SiND).\\n\\nNumber of reported aid workers affected.\\n\\nAfghanistan.\\n\\nCAR.\\n\\nDRC.\\n\\nIraq.\\n\\nMali.\\n\\nNigeria.\\n\\nSomalia.\\n\\nSouth Sudan.\\n\\nSyria.\\n\\nYemen.\\n\\nOther countries \\nTOTAL.\\n\\nTotals to date.\\n\\nJanuary.\\n\\nFebruary.\\n\\nKilled.\\n\\nKidnapped.\\n\\nArrested.\\n\\nKilled.\\n\\nKidnapped.\\n\\nArrested.\\n\\nKilled.\\n\\nKidnapped.\\n\\nArrested.\\n\\n4.\\n\\n4.\\n\\n2.\\n\\n0.\\n\\n0.\\n\\n0.\\n\\n1.\\n\\n2.\\n\\n15.\\n\\n0.\\n\\n0 \\n28.\\n\\n1.\\n\\n2.\\n\\n3.\\n\\n0.\\n\\n0.\\n\\n0.\\n\\n0.\\n\\n1.\\n\\n0.\\n\\n1.\\n\\n0.\\n\\n0.\\n\\n0.\\n\\n0.\\n\\n0.\\n\\n0.\\n\\n0.\\n\\n0.\\n\\n0.\\n\\n0.\\n\\n2 \\n10.\\n\\n17 \\n17.\\n\\n4.\\n\\n0.\\n\\n0.\\n\\n0.\\n\\n0.\\n\\n0.\\n\\n1.\\n\\n0.\\n\\n3.\\n\\n0.\\n\\n0.\\n\\n8.\\n\\n1.\\n\\n1.\\n\\n0.\\n\\n0.\\n\\n0.\\n\\n0.\\n\\n0.\\n\\n1.\\n\\n0.\\n\\n1.\\n\\n2 \\n6.\\n\\n0.\\n\\n0.\\n\\n0.\\n\\n0.\\n\\n0.\\n\\n0.\\n\\n0.\\n\\n0.\\n\\n0.\\n\\n0.\\n\\n5.\\n\\n5.\\n\\n0.\\n\\n4.\\n\\n2.\\n\\n0.\\n\\n0.\\n\\n0.\\n\\n0.\\n\\n2.\\n\\n12.\\n\\n0.\\n\\n0.\\n\\n20.\\n\\n0.\\n\\n1.\\n\\n3.\\n\\n0.\\n\\n0.\\n\\n0.\\n\\n0.\\n\\n0.\\n\\n0.\\n\\n0.\\n\\n0.\\n\\n4.\\n\\n0.\\n\\n0.\\n\\n0.\\n\\n0.\\n\\n0.\\n\\n0.\\n\\n0.\\n\\n0.\\n\\n0.\\n\\n0.\\n\\n12.\\n\\n12.\\n\\nThese are the current figure as of 11 April 2018. Data collection is ongoing and data may change as more \\ninformation is made available.\\n\\nAid in Danger Incident Trends Arrest and Detentions 2017 presents information on aid worker arrests and \\ndetentions. Total KKA figures for 2017 are available on HDX.\\n\\nAid in Danger Incident Trends KIK 2017 presents information on aid worker deaths, kidnappings, injuries and \\nassaults data. Total KIK figures for 2017 are available on HDX.\\n\\nThe Aid in Danger Monthly News Brief – February 2018.\\n\\nPage 6.\\n\\nThis document is part of the Aid in Danger project. It is published by Insecurity Insight and funded and \\nsupported by European Union Humanitarian Aid, and USAID through Save the Children US.\\n\\nInsecurity Insight is a member of.\\n\\nThe AWSD  database  does  not  include  the names  of  individual  victims  or  the  agencies  affected by an  incident.  This  is  done  in \\nconsideration of the victims and their families who may not wish to have the names publicised in this format and to afford equal \\nrespect to the many victims for whom this information is not available.\\n\\nThe Aid in Danger Monthly News Brief – February 2018.\\n\\nPage 7.\\n\\n\",\n",
       "  'creation_date': 'February 2018',\n",
       "  'file_name': 'The_Aid_in_Danger_Monthly_News_Brief_Feb-18.txt',\n",
       "  'publisher_name': 'Aid In Danger Project',\n",
       "  'title': 'The Aid in Danger Monthly News Brief'},\n",
       " '_type': 'document',\n",
       " '_version': 1,\n",
       " 'found': True}"
      ]
     },
     "execution_count": 12,
     "metadata": {},
     "output_type": "execute_result"
    }
   ],
   "source": [
    "es.get(index=index, doc_type=doc_type, id=results[0]['_id'])"
   ]
  },
  {
   "cell_type": "markdown",
   "metadata": {},
   "source": [
    "If you would like to retrieve all the documents you can do so with a `match all` query:"
   ]
  },
  {
   "cell_type": "code",
   "execution_count": 13,
   "metadata": {},
   "outputs": [
    {
     "name": "stdout",
     "output_type": "stream",
     "text": [
      "There are 356 total documents in the migration index.\n"
     ]
    }
   ],
   "source": [
    "query = {\n",
    "    \"query\": {\n",
    "        \"match_all\": {}\n",
    "    }\n",
    "}\n",
    "\n",
    "count = es.count(index=index, body=query)['count']\n",
    "print(\"There are {0} total documents in the {1} index.\".format(count,index))"
   ]
  },
  {
   "cell_type": "code",
   "execution_count": 14,
   "metadata": {},
   "outputs": [],
   "source": [
    "results = es.search(index=index, body=query, size=count)['hits']['hits']"
   ]
  },
  {
   "cell_type": "code",
   "execution_count": 15,
   "metadata": {},
   "outputs": [
    {
     "name": "stdout",
     "output_type": "stream",
     "text": [
      "This query returned 356 total documents\n"
     ]
    }
   ],
   "source": [
    "print(\"This query returned {} total documents\".format(len(results)))"
   ]
  }
 ],
 "metadata": {
  "kernelspec": {
   "display_name": "Python 3",
   "language": "python",
   "name": "python3"
  },
  "language_info": {
   "codemirror_mode": {
    "name": "ipython",
    "version": 3
   },
   "file_extension": ".py",
   "mimetype": "text/x-python",
   "name": "python",
   "nbconvert_exporter": "python",
   "pygments_lexer": "ipython3",
   "version": "3.5.3"
  }
 },
 "nbformat": 4,
 "nbformat_minor": 2
}
