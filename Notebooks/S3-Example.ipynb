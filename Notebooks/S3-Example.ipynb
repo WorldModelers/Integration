{
 "cells": [
  {
   "cell_type": "markdown",
   "metadata": {},
   "source": [
    "# S3 Example Notebook\n",
    "\n",
    "This notebook demonstrates how to interact with the `world-modelers` S3 bucket for data and model storage.\n",
    "\n",
    "### Configuration\n",
    "\n",
    "First, ensure that the appropriate credentials are stored in your AWS credentials at `~/.aws/credentials`. These should be stored under the wmuser profile with something like:\n",
    "\n",
    "```\n",
    "[wmuser]\n",
    "aws_access_key_id = WMUSER_ACCESS_KEY\n",
    "aws_secret_access_key = WMUSER_SECRET_KEY\n",
    "```\n",
    "\n",
    "> Note that this profile must be specified by name when creating the boto3 session.\n",
    "\n",
    "\n",
    "### Requirements\n",
    "This notebook was tested with the following versions of `boto3` and `requests` but should be compatible with most other recent versions of these libraries:\n",
    "\n",
    "```\n",
    "pip install boto3==1.9.120\n",
    "pip install requests==2.21.0\n",
    "```"
   ]
  },
  {
   "cell_type": "code",
   "execution_count": 1,
   "metadata": {},
   "outputs": [],
   "source": [
    "import boto3\n",
    "import requests\n",
    "\n",
    "profile = \"wmuser\"\n",
    "bucket_name = \"world-modelers\""
   ]
  },
  {
   "cell_type": "markdown",
   "metadata": {},
   "source": [
    "First we can instantiate our connection with S3:"
   ]
  },
  {
   "cell_type": "code",
   "execution_count": 2,
   "metadata": {},
   "outputs": [],
   "source": [
    "session = boto3.Session(profile_name=profile)\n",
    "\n",
    "s3 = session.resource(\"s3\")\n",
    "s3_client = boto3.client(\"s3\")"
   ]
  },
  {
   "cell_type": "markdown",
   "metadata": {},
   "source": [
    "Now we can inspect the bucket and list the keys it contains:"
   ]
  },
  {
   "cell_type": "code",
   "execution_count": 3,
   "metadata": {},
   "outputs": [],
   "source": [
    "bucket = s3.Bucket(bucket_name)"
   ]
  },
  {
   "cell_type": "code",
   "execution_count": 4,
   "metadata": {},
   "outputs": [
    {
     "name": "stdout",
     "output_type": "stream",
     "text": [
      "applications/\n",
      "applications/BioNetGen-2.3.1-Linux.tar.gz\n",
      "applications/stanford-corenlp-full-2018-10-05.zip\n",
      "data/\n",
      "data/DySE_tests.ipynb\n",
      "data/NationalFile_20181001.zip\n",
      "data/WordNet-3.0-glosstag.tar.bz2\n",
      "data/WordNet-3.0.tar.bz2\n",
      "data/delphi_data.zip\n",
      "data/glove.840B.300d.txt.tgz\n",
      "data/historical_nbg_maiz.json\n",
      "data/news_articles.zip\n",
      "data/style.js\n",
      "data/vectors.txt\n",
      "example_s3_file.txt\n",
      "indra_models/test/curations.json\n",
      "indra_models/test/raw_statements.json\n",
      "indra_models/test/statements.json\n",
      "repos/\n",
      "repos/dyse-wm-example.zip\n",
      "repos/learnit_release_v1.tar.gz\n",
      "repos/lemma.nv\n",
      "results/fsc_model/1559175778.zip\n",
      "results/fsc_model/1559177478.zip\n",
      "results/fsc_model/cf49488892ea86c77f0f0a4176e73cfa112b52db9126d9236db9f4d3e0e21a17.zip\n",
      "results/fsc_model/cf999d9927c4efca36a4285be2ae06266570b6bd997953249567e97fbcab2d2f.zip\n",
      "results/fsc_model/f9c796787d534ba92ff1528353e045921a74b56ef9c20cd54282d0073d2015c3.zip\n",
      "results/malnutrition_model/maln_raster_hires_baseline.csv\n",
      "results/malnutrition_model/test.csv\n"
     ]
    }
   ],
   "source": [
    "for obj in bucket.objects.all():\n",
    "    print(obj.key)"
   ]
  },
  {
   "cell_type": "markdown",
   "metadata": {},
   "source": [
    "Next, we can generate a test file called `example.txt`."
   ]
  },
  {
   "cell_type": "code",
   "execution_count": 5,
   "metadata": {},
   "outputs": [],
   "source": [
    "file_name = \"example.txt\"\n",
    "s3_key = \"example_s3_file.txt\"\n",
    "\n",
    "with open(file_name, \"w\") as f:\n",
    "    f.write(\"Testing 123...\")"
   ]
  },
  {
   "cell_type": "markdown",
   "metadata": {},
   "source": [
    "We can upload this to S3. \n",
    "\n",
    "> Note that the `ExtraArgs` provided here are optional. These `ExtraArgs` make the uploaded file public. This means that the file will be available through an HTTP request."
   ]
  },
  {
   "cell_type": "code",
   "execution_count": 6,
   "metadata": {},
   "outputs": [],
   "source": [
    "s3_client.upload_file(file_name, \n",
    "                      bucket_name, \n",
    "                      s3_key,  # here we specify the key we wish the file to have in S3\n",
    "                      ExtraArgs={'ACL':'public-read'}) # here we make the file public"
   ]
  },
  {
   "cell_type": "markdown",
   "metadata": {},
   "source": [
    "We can download this file using `boto3` if we wish:"
   ]
  },
  {
   "cell_type": "code",
   "execution_count": 7,
   "metadata": {},
   "outputs": [],
   "source": [
    "bucket.download_file(s3_key, file_name)"
   ]
  },
  {
   "cell_type": "markdown",
   "metadata": {},
   "source": [
    "\n",
    "We can also execute an HTTP request to obtain the file since we have made it public. This should be made to `https://world-modelers.s3.amazonaws.com/OBJECT_KEY` where you replace `OBJECT_KEY` with the key we specify above."
   ]
  },
  {
   "cell_type": "code",
   "execution_count": 8,
   "metadata": {},
   "outputs": [
    {
     "data": {
      "text/plain": [
       "'Testing 123...'"
      ]
     },
     "execution_count": 8,
     "metadata": {},
     "output_type": "execute_result"
    }
   ],
   "source": [
    "url = \"https://world-modelers.s3.amazonaws.com/{}\".format(s3_key)\n",
    "requests.get(url).text"
   ]
  }
 ],
 "metadata": {
  "kernelspec": {
   "display_name": "Python 3",
   "language": "python",
   "name": "python3"
  },
  "language_info": {
   "codemirror_mode": {
    "name": "ipython",
    "version": 3
   },
   "file_extension": ".py",
   "mimetype": "text/x-python",
   "name": "python",
   "nbconvert_exporter": "python",
   "pygments_lexer": "ipython3",
   "version": "3.5.3"
  }
 },
 "nbformat": 4,
 "nbformat_minor": 2
}
